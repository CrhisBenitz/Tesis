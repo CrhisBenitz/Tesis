{
 "cells": [
  {
   "cell_type": "code",
   "execution_count": 1,
   "metadata": {},
   "outputs": [
    {
     "name": "stdout",
     "output_type": "stream",
     "text": [
      "WARNING : Can't import Image module...\n",
      "amrviewer GUI ImportError : are WxPython and PyTables correctly installed?\n"
     ]
    }
   ],
   "source": [
    "import sys\n",
    "import os\n",
    "import glob as gb\n",
    "sys.path.append('/home/cbenitez/')\n",
    "import MTmp as mt\n",
    "import matplotlib.pyplot as plt\n",
    "import numpy as np\n",
    "import oort_cons as oc"
   ]
  },
  {
   "cell_type": "code",
   "execution_count": 2,
   "metadata": {},
   "outputs": [
    {
     "name": "stdout",
     "output_type": "stream",
     "text": [
      "/fs/nas14/other0/cbenitez/evolsOC\n"
     ]
    }
   ],
   "source": [
    "cd /fs/nas14/other0/cbenitez/evolsOC/"
   ]
  },
  {
   "cell_type": "code",
   "execution_count": 3,
   "metadata": {},
   "outputs": [],
   "source": [
    "varOC_dir = \"/fs/nas14/other0/cbenitez/evolsOC/\"\n",
    "exp3 = [np.load(varOC_dir+\"evols_oc_var2_cons_go.npy\"),np.load(varOC_dir+\"evols_oc_var2_go.npy\")]"
   ]
  },
  {
   "cell_type": "code",
   "execution_count": 4,
   "metadata": {},
   "outputs": [
    {
     "data": {
      "text/plain": [
       "((486, 4), (11, 6), (486, 11, 120, 6))"
      ]
     },
     "execution_count": 4,
     "metadata": {},
     "output_type": "execute_result"
    }
   ],
   "source": [
    "np.shape(exp3[0]),np.shape(exp3[1][0]),np.shape(exp3[1][1])"
   ]
  },
  {
   "cell_type": "code",
   "execution_count": 5,
   "metadata": {},
   "outputs": [
    {
     "name": "stdout",
     "output_type": "stream",
     "text": [
      "currun.h5                     oocct_AvsB_27.1x-0.0.npy\r\n",
      "oocct_AvsB_-0.0x0.0.npy       oocct_AvsB_-27.1x-13.94.npy\r\n",
      "oocct_AvsB_0.0x-0.0.npy       oocct_AvsB_-27.1x13.94.npy\r\n",
      "oocct_AvsB_0.0x-13.94.npy     oocct_AvsB_27.1x-13.94.npy\r\n",
      "oocct_AvsB_0.0x13.94.npy      oocct_AvsB_27.1x13.94.npy\r\n",
      "oocct_AvsB_0.0x-20.91.npy     oocct_AvsB_-27.1x-20.91.npy\r\n",
      "oocct_AvsB_0.0x20.91.npy      oocct_AvsB_-27.1x20.91.npy\r\n",
      "oocct_AvsB_0.0x-27.88.npy     oocct_AvsB_27.1x-20.91.npy\r\n",
      "oocct_AvsB_0.0x27.88.npy      oocct_AvsB_27.1x20.91.npy\r\n",
      "oocct_AvsB_0.0x-6.97.npy      oocct_AvsB_-27.1x-27.88.npy\r\n",
      "oocct_AvsB_0.0x6.97.npy       oocct_AvsB_-27.1x27.88.npy\r\n",
      "oocct_AvsB_-13.55x-0.0.npy    oocct_AvsB_27.1x-27.88.npy\r\n",
      "oocct_AvsB_13.55x-0.0.npy     oocct_AvsB_27.1x27.88.npy\r\n",
      "oocct_AvsB_-13.55x-13.94.npy  oocct_AvsB_-27.1x-6.97.npy\r\n",
      "oocct_AvsB_-13.55x13.94.npy   oocct_AvsB_-27.1x6.97.npy\r\n",
      "oocct_AvsB_13.55x-13.94.npy   oocct_AvsB_27.1x-6.97.npy\r\n",
      "oocct_AvsB_13.55x13.94.npy    oocct_AvsB_27.1x6.97.npy\r\n",
      "oocct_AvsB_-13.55x-20.91.npy  oocct_AvsB_27.88x0.0.npy\r\n",
      "oocct_AvsB_-13.55x20.91.npy   oocct_AvsB_-6.78x-0.0.npy\r\n",
      "oocct_AvsB_13.55x-20.91.npy   oocct_AvsB_6.78x-0.0.npy\r\n",
      "oocct_AvsB_13.55x20.91.npy    oocct_AvsB_-6.78x-13.94.npy\r\n",
      "oocct_AvsB_-13.55x-27.88.npy  oocct_AvsB_-6.78x13.94.npy\r\n",
      "oocct_AvsB_-13.55x27.88.npy   oocct_AvsB_6.78x-13.94.npy\r\n",
      "oocct_AvsB_13.55x-27.88.npy   oocct_AvsB_6.78x13.94.npy\r\n",
      "oocct_AvsB_13.55x27.88.npy    oocct_AvsB_-6.78x-20.91.npy\r\n",
      "oocct_AvsB_-13.55x-6.97.npy   oocct_AvsB_-6.78x20.91.npy\r\n",
      "oocct_AvsB_-13.55x6.97.npy    oocct_AvsB_6.78x-20.91.npy\r\n",
      "oocct_AvsB_13.55x-6.97.npy    oocct_AvsB_6.78x20.91.npy\r\n",
      "oocct_AvsB_13.55x6.97.npy     oocct_AvsB_-6.78x-27.88.npy\r\n",
      "oocct_AvsB_-20.33x-0.0.npy    oocct_AvsB_-6.78x27.88.npy\r\n",
      "oocct_AvsB_20.33x-0.0.npy     oocct_AvsB_6.78x-27.88.npy\r\n",
      "oocct_AvsB_-20.33x-13.94.npy  oocct_AvsB_6.78x27.88.npy\r\n",
      "oocct_AvsB_-20.33x13.94.npy   oocct_AvsB_-6.78x-6.97.npy\r\n",
      "oocct_AvsB_20.33x-13.94.npy   oocct_AvsB_-6.78x6.97.npy\r\n",
      "oocct_AvsB_20.33x13.94.npy    oocct_AvsB_6.78x-6.97.npy\r\n",
      "oocct_AvsB_-20.33x-20.91.npy  oocct_AvsB_6.78x6.97.npy\r\n",
      "oocct_AvsB_-20.33x20.91.npy   oocct_AvsC_-27.1x0.0.npy\r\n",
      "oocct_AvsB_20.33x-20.91.npy   oocct_AvsC_-27.1x-11.5.npy\r\n",
      "oocct_AvsB_20.33x20.91.npy    oocct_AvsC_-27.1x-13.94.npy\r\n",
      "oocct_AvsB_-20.33x-27.88.npy  oocct_AvsC_-27.1x-2.88.npy\r\n",
      "oocct_AvsB_-20.33x27.88.npy   oocct_AvsC_-27.1x2.88.npy\r\n",
      "oocct_AvsB_20.33x-27.88.npy   oocct_AvsC_-27.1x-5.75.npy\r\n",
      "oocct_AvsB_20.33x27.88.npy    oocct_AvsC_-27.1x5.75.npy\r\n",
      "oocct_AvsB_-20.33x-6.97.npy   oocct_AvsC_-27.1x-8.62.npy\r\n",
      "oocct_AvsB_-20.33x6.97.npy    oocct_AvsC_-27.1x8.62.npy\r\n",
      "oocct_AvsB_20.33x-6.97.npy    oocct_BvsK_-13.94x11.5.npy\r\n",
      "oocct_AvsB_20.33x6.97.npy     oocct_p1p2p3p4p5p10.npy\r\n",
      "oocct_AvsB_-27.1x-0.0.npy     vvcct_EXPvsROT_6.0x0.0.npy\r\n"
     ]
    }
   ],
   "source": [
    "ls '/fs/nas14/other0/cbenitez/evolsOC/MCMCruns'"
   ]
  },
  {
   "cell_type": "code",
   "execution_count": 9,
   "metadata": {},
   "outputs": [],
   "source": [
    "oocc,lsrs,parts = exp3[0],exp3[1][0],exp3[1][1]"
   ]
  },
  {
   "cell_type": "code",
   "execution_count": null,
   "metadata": {
    "scrolled": true
   },
   "outputs": [
    {
     "name": "stderr",
     "output_type": "stream",
     "text": [
      "100%|██████████| 4500/4500 [01:17<00:00, 57.90it/s]\n"
     ]
    },
    {
     "name": "stdout",
     "output_type": "stream",
     "text": [
      "[A, B, C, D]: [-27.101031875803493, -13.938285487744972, -11.499070615239166, -0.0027165789737909497]\n"
     ]
    },
    {
     "name": "stderr",
     "output_type": "stream",
     "text": [
      "100%|██████████| 4500/4500 [01:18<00:00, 62.47it/s]\n"
     ]
    },
    {
     "name": "stdout",
     "output_type": "stream",
     "text": [
      "[A, B, C, D]: [-28.05456695713146, -13.968790696473143, -7.640427087218292, -1.149500111720973]\n"
     ]
    },
    {
     "name": "stderr",
     "output_type": "stream",
     "text": [
      "100%|██████████| 4500/4500 [01:16<00:00, 58.65it/s]\n"
     ]
    },
    {
     "name": "stdout",
     "output_type": "stream",
     "text": [
      "[A, B, C, D]: [-28.756826587103713, -14.04959352051629, -3.7172342851211044, -2.27747333549826]\n"
     ]
    },
    {
     "name": "stderr",
     "output_type": "stream",
     "text": [
      "100%|██████████| 4500/4500 [01:16<00:00, 58.76it/s]\n"
     ]
    },
    {
     "name": "stdout",
     "output_type": "stream",
     "text": [
      "[A, B, C, D]: [-29.203974379332916, -14.185730036765001, 0.27873612183872204, -3.426126181415469]\n"
     ]
    },
    {
     "name": "stderr",
     "output_type": "stream",
     "text": [
      "100%|██████████| 4500/4500 [01:17<00:00, 57.75it/s]\n"
     ]
    },
    {
     "name": "stdout",
     "output_type": "stream",
     "text": [
      "[A, B, C, D]: [-29.39086712974764, -14.386545277887532, 4.352255324694866, -4.600805522122036]\n"
     ]
    },
    {
     "name": "stderr",
     "output_type": "stream",
     "text": [
      "100%|██████████| 4500/4500 [01:17<00:00, 55.97it/s]\n"
     ]
    },
    {
     "name": "stdout",
     "output_type": "stream",
     "text": [
      "[A, B, C, D]: [-29.306657955711177, -14.646724037297176, 8.514845715774197, -5.859903073152141]\n"
     ]
    },
    {
     "name": "stderr",
     "output_type": "stream",
     "text": [
      "100%|██████████| 4500/4500 [01:17<00:00, 58.39it/s]\n"
     ]
    },
    {
     "name": "stdout",
     "output_type": "stream",
     "text": [
      "[A, B, C, D]: [-28.955799368286982, -14.982358519653294, 12.774721893605223, -7.23128916220827]\n"
     ]
    },
    {
     "name": "stderr",
     "output_type": "stream",
     "text": [
      "100%|██████████| 4500/4500 [01:20<00:00, 56.00it/s]\n"
     ]
    },
    {
     "name": "stdout",
     "output_type": "stream",
     "text": [
      "[A, B, C, D]: [-28.327332114892663, -15.395027040663818, 17.16517869146505, -8.754273476816502]\n"
     ]
    },
    {
     "name": "stderr",
     "output_type": "stream",
     "text": [
      "100%|██████████| 4500/4500 [01:15<00:00, 59.82it/s]\n"
     ]
    },
    {
     "name": "stdout",
     "output_type": "stream",
     "text": [
      "[A, B, C, D]: [-27.4213873701094, -15.907253538631355, 21.714676838863305, -10.50048868026845]\n"
     ]
    },
    {
     "name": "stderr",
     "output_type": "stream",
     "text": [
      "100%|██████████| 4500/4500 [01:16<00:00, 58.61it/s]\n"
     ]
    },
    {
     "name": "stdout",
     "output_type": "stream",
     "text": [
      "[A, B, C, D]: [-26.199867235254594, -16.54991698166761, 26.46638730106523, -12.51562718687787]\n"
     ]
    },
    {
     "name": "stderr",
     "output_type": "stream",
     "text": [
      "100%|██████████| 4500/4500 [01:18<00:00, 57.45it/s]\n"
     ]
    },
    {
     "name": "stdout",
     "output_type": "stream",
     "text": [
      "[A, B, C, D]: [-24.668737062688773, -17.347632742521316, 31.509730872847726, -14.926644820112697]\n"
     ]
    },
    {
     "name": "stderr",
     "output_type": "stream",
     "text": [
      "100%|██████████| 4500/4500 [01:17<00:00, 58.39it/s]\n"
     ]
    },
    {
     "name": "stdout",
     "output_type": "stream",
     "text": [
      "[A, B, C, D]: [-27.1017163166166, -13.938352407046745, -8.628455707440597, -0.005231613699616011]\n"
     ]
    },
    {
     "name": "stderr",
     "output_type": "stream",
     "text": [
      "100%|██████████| 4500/4500 [01:17<00:00, 58.89it/s]\n"
     ]
    },
    {
     "name": "stdout",
     "output_type": "stream",
     "text": [
      "[A, B, C, D]: [-27.78049860521051, -13.962295424177997, -4.771222399904668, -1.0586203289073295]\n"
     ]
    },
    {
     "name": "stderr",
     "output_type": "stream",
     "text": [
      "100%|██████████| 4500/4500 [01:16<00:00, 58.69it/s]\n"
     ]
    },
    {
     "name": "stdout",
     "output_type": "stream",
     "text": [
      "[A, B, C, D]: [-28.198627520703077, -14.042495104804525, -0.8630354673011281, -2.1031962023117483]\n"
     ]
    },
    {
     "name": "stderr",
     "output_type": "stream",
     "text": [
      "100%|██████████| 4500/4500 [01:17<00:00, 58.31it/s]\n"
     ]
    },
    {
     "name": "stdout",
     "output_type": "stream",
     "text": [
      "[A, B, C, D]: [-28.348553551304104, -14.165204621749101, 3.0865495799177034, -3.167117729561048]\n"
     ]
    },
    {
     "name": "stderr",
     "output_type": "stream",
     "text": [
      "100%|██████████| 4500/4500 [01:17<00:00, 58.08it/s]\n"
     ]
    },
    {
     "name": "stdout",
     "output_type": "stream",
     "text": [
      "[A, B, C, D]: [-28.230985253985658, -14.354699217577767, 7.098054207834126, -4.28752352209475]\n"
     ]
    },
    {
     "name": "stderr",
     "output_type": "stream",
     "text": [
      "100%|██████████| 4500/4500 [01:15<00:00, 62.29it/s]\n"
     ]
    },
    {
     "name": "stdout",
     "output_type": "stream",
     "text": [
      "[A, B, C, D]: [-27.838048610236513, -14.587646676151884, 11.171165808750066, -5.484456886151757]\n"
     ]
    },
    {
     "name": "stderr",
     "output_type": "stream",
     "text": [
      "100%|██████████| 4500/4500 [01:16<00:00, 61.82it/s]\n"
     ]
    },
    {
     "name": "stdout",
     "output_type": "stream",
     "text": [
      "[A, B, C, D]: [-27.165572194963673, -14.910114726092132, 15.323990469811886, -6.793767667888814]\n"
     ]
    },
    {
     "name": "stderr",
     "output_type": "stream",
     "text": [
      "100%|██████████| 4500/4500 [01:17<00:00, 58.08it/s]\n"
     ]
    },
    {
     "name": "stdout",
     "output_type": "stream",
     "text": [
      "[A, B, C, D]: [-26.20866721839513, -15.299412473154609, 19.56789625667272, -8.269905755976527]\n"
     ]
    },
    {
     "name": "stderr",
     "output_type": "stream",
     "text": [
      "100%|██████████| 4500/4500 [01:17<00:00, 58.12it/s]\n"
     ]
    },
    {
     "name": "stdout",
     "output_type": "stream",
     "text": [
      "[A, B, C, D]: [-24.95710084746252, -15.778997349832474, 23.93389170295933, -9.948124530803664]\n"
     ]
    },
    {
     "name": "stderr",
     "output_type": "stream",
     "text": [
      "100%|██████████| 4500/4500 [01:17<00:00, 58.01it/s]\n"
     ]
    },
    {
     "name": "stdout",
     "output_type": "stream",
     "text": [
      "[A, B, C, D]: [-23.39568988706156, -16.375757211967798, 28.477539629165065, -11.916869146289454]\n"
     ]
    },
    {
     "name": "stderr",
     "output_type": "stream",
     "text": [
      "100%|██████████| 4500/4500 [01:26<00:00, 55.29it/s]\n"
     ]
    },
    {
     "name": "stdout",
     "output_type": "stream",
     "text": [
      "[A, B, C, D]: [-21.482206060698754, -17.1371688571041, 33.26386404085161, -14.249703449550953]\n"
     ]
    },
    {
     "name": "stderr",
     "output_type": "stream",
     "text": [
      "100%|██████████| 4500/4500 [01:17<00:00, 58.31it/s]\n"
     ]
    },
    {
     "name": "stdout",
     "output_type": "stream",
     "text": [
      "[A, B, C, D]: [-27.09952767797639, -13.939176997503735, -5.751338140248024, -0.0027100404289507455]\n"
     ]
    },
    {
     "name": "stderr",
     "output_type": "stream",
     "text": [
      "100%|██████████| 4500/4500 [01:18<00:00, 54.01it/s]\n"
     ]
    },
    {
     "name": "stdout",
     "output_type": "stream",
     "text": [
      "[A, B, C, D]: [-27.50633783639373, -13.959123244285122, -1.9026857533474164, -0.9908591648288513]\n"
     ]
    },
    {
     "name": "stderr",
     "output_type": "stream",
     "text": [
      "100%|██████████| 4500/4500 [01:19<00:00, 56.55it/s]\n"
     ]
    },
    {
     "name": "stdout",
     "output_type": "stream",
     "text": [
      "[A, B, C, D]: [-27.64078221250438, -14.033531976244172, 1.9756917337549555, -1.9865848373362844]\n"
     ]
    },
    {
     "name": "stderr",
     "output_type": "stream",
     "text": [
      "100%|██████████| 4500/4500 [01:18<00:00, 57.52it/s]\n"
     ]
    },
    {
     "name": "stdout",
     "output_type": "stream",
     "text": [
      "[A, B, C, D]: [-27.508993962733694, -14.15348833156276, 5.886021623468607, -3.017674729632785]\n"
     ]
    },
    {
     "name": "stderr",
     "output_type": "stream",
     "text": [
      "100%|██████████| 4500/4500 [01:18<00:00, 57.23it/s]\n"
     ]
    },
    {
     "name": "stdout",
     "output_type": "stream",
     "text": [
      "[A, B, C, D]: [-27.099790288744188, -14.330626977134171, 9.843528284025938, -4.0945369029846646]\n"
     ]
    },
    {
     "name": "stderr",
     "output_type": "stream",
     "text": [
      "100%|██████████| 4500/4500 [01:19<00:00, 56.26it/s]\n"
     ]
    },
    {
     "name": "stdout",
     "output_type": "stream",
     "text": [
      "[A, B, C, D]: [-26.41391397046585, -14.556814597031252, 13.825120296397662, -5.262609717310199]\n"
     ]
    },
    {
     "name": "stderr",
     "output_type": "stream",
     "text": [
      "100%|██████████| 4500/4500 [01:16<00:00, 61.06it/s]\n"
     ]
    },
    {
     "name": "stdout",
     "output_type": "stream",
     "text": [
      "[A, B, C, D]: [-25.4385053277586, -14.860091883491862, 17.874284842616905, -6.559442703607371]\n"
     ]
    },
    {
     "name": "stderr",
     "output_type": "stream",
     "text": [
      "100%|██████████| 4500/4500 [01:16<00:00, 58.61it/s]\n"
     ]
    },
    {
     "name": "stdout",
     "output_type": "stream",
     "text": [
      "[A, B, C, D]: [-24.183884961055664, -15.239278782090993, 21.985638358317757, -8.02101131623661]\n"
     ]
    },
    {
     "name": "stderr",
     "output_type": "stream",
     "text": [
      "100%|██████████| 4500/4500 [01:16<00:00, 59.15it/s]\n"
     ]
    },
    {
     "name": "stdout",
     "output_type": "stream",
     "text": [
      "[A, B, C, D]: [-22.618056470172622, -15.708604031772227, 26.205728935971692, -9.705717529954912]\n"
     ]
    },
    {
     "name": "stderr",
     "output_type": "stream",
     "text": [
      "100%|██████████| 4500/4500 [01:16<00:00, 59.03it/s]\n"
     ]
    },
    {
     "name": "stdout",
     "output_type": "stream",
     "text": [
      "[A, B, C, D]: [-20.733045725464205, -16.294234061191286, 30.569974227806117, -11.667129545586416]\n"
     ]
    },
    {
     "name": "stderr",
     "output_type": "stream",
     "text": [
      "100%|██████████| 4500/4500 [01:16<00:00, 58.73it/s]\n"
     ]
    },
    {
     "name": "stdout",
     "output_type": "stream",
     "text": [
      "[A, B, C, D]: [-18.50050998216415, -17.022166067899374, 35.13772724180121, -14.00977016940563]\n"
     ]
    },
    {
     "name": "stderr",
     "output_type": "stream",
     "text": [
      "100%|██████████| 4500/4500 [01:17<00:00, 57.79it/s]\n"
     ]
    },
    {
     "name": "stdout",
     "output_type": "stream",
     "text": [
      "[A, B, C, D]: [-27.10032120526782, -13.937424554693695, -2.8785631729486982, 0.0003716801813905506]\n"
     ]
    },
    {
     "name": "stderr",
     "output_type": "stream",
     "text": [
      "100%|██████████| 4500/4500 [01:16<00:00, 58.54it/s]\n"
     ]
    },
    {
     "name": "stdout",
     "output_type": "stream",
     "text": [
      "[A, B, C, D]: [-27.23354508658054, -13.961954794394265, 0.9637031851874382, -0.955707017423203]\n"
     ]
    },
    {
     "name": "stderr",
     "output_type": "stream",
     "text": [
      "100%|██████████| 4500/4500 [01:17<00:00, 57.71it/s]\n"
     ]
    },
    {
     "name": "stdout",
     "output_type": "stream",
     "text": [
      "[A, B, C, D]: [-27.092853539497966, -14.031760971735702, 4.823131559035723, -1.9272956253258053]\n"
     ]
    },
    {
     "name": "stderr",
     "output_type": "stream",
     "text": [
      "100%|██████████| 4500/4500 [01:19<00:00, 56.33it/s]\n"
     ]
    },
    {
     "name": "stdout",
     "output_type": "stream",
     "text": [
      "[A, B, C, D]: [-26.679926288962694, -14.15029412263348, 8.685679373022992, -2.934132682067656]\n"
     ]
    },
    {
     "name": "stderr",
     "output_type": "stream",
     "text": [
      "100%|██████████| 4500/4500 [01:18<00:00, 57.12it/s]\n"
     ]
    },
    {
     "name": "stdout",
     "output_type": "stream",
     "text": [
      "[A, B, C, D]: [-25.993803572748, -14.315569081173972, 12.57525197903384, -4.013299902716582]\n"
     ]
    },
    {
     "name": "stderr",
     "output_type": "stream",
     "text": [
      "100%|██████████| 4500/4500 [01:17<00:00, 58.27it/s]\n"
     ]
    },
    {
     "name": "stdout",
     "output_type": "stream",
     "text": [
      "[A, B, C, D]: [-25.023595484019857, -14.548203580523579, 16.493058508253256, -5.197526064996657]\n"
     ]
    },
    {
     "name": "stderr",
     "output_type": "stream",
     "text": [
      "100%|██████████| 4500/4500 [01:17<00:00, 57.97it/s]\n"
     ]
    },
    {
     "name": "stdout",
     "output_type": "stream",
     "text": [
      "[A, B, C, D]: [-23.767757943221714, -14.842094639775294, 20.436483817780893, -6.508117103118072]\n"
     ]
    },
    {
     "name": "stderr",
     "output_type": "stream",
     "text": [
      "100%|██████████| 4500/4500 [01:16<00:00, 59.00it/s]\n"
     ]
    },
    {
     "name": "stdout",
     "output_type": "stream",
     "text": [
      "[A, B, C, D]: [-22.22891111035059, -15.217607612095355, 24.4493929173387, -8.013229298145646]\n"
     ]
    },
    {
     "name": "stderr",
     "output_type": "stream",
     "text": [
      "100%|██████████| 4500/4500 [01:18<00:00, 60.73it/s]\n"
     ]
    },
    {
     "name": "stdout",
     "output_type": "stream",
     "text": [
      "[A, B, C, D]: [-20.37888477411072, -15.683238577861566, 28.53825112672955, -9.741338367968623]\n"
     ]
    },
    {
     "name": "stderr",
     "output_type": "stream",
     "text": [
      "100%|██████████| 4500/4500 [01:16<00:00, 58.65it/s]\n"
     ]
    },
    {
     "name": "stdout",
     "output_type": "stream",
     "text": [
      "[A, B, C, D]: [-18.19404169405649, -16.275708118832338, 32.76986605740353, -11.76882577616626]\n"
     ]
    },
    {
     "name": "stderr",
     "output_type": "stream",
     "text": [
      "100%|██████████| 4500/4500 [01:16<00:00, 57.80it/s]\n"
     ]
    },
    {
     "name": "stdout",
     "output_type": "stream",
     "text": [
      "[A, B, C, D]: [-15.644547546813804, -17.016274333465823, 37.19202817123082, -14.187608589343837]\n"
     ]
    },
    {
     "name": "stderr",
     "output_type": "stream",
     "text": [
      "100%|██████████| 4500/4500 [01:17<00:00, 59.54it/s]\n"
     ]
    },
    {
     "name": "stdout",
     "output_type": "stream",
     "text": [
      "[A, B, C, D]: [-27.10197175894665, -13.939111563579367, -8.409847865816877e-05, 0.0011142259526966659]\n"
     ]
    },
    {
     "name": "stderr",
     "output_type": "stream",
     "text": [
      "100%|██████████| 4500/4500 [01:17<00:00, 58.16it/s]\n"
     ]
    },
    {
     "name": "stdout",
     "output_type": "stream",
     "text": [
      "[A, B, C, D]: [-26.961488420765562, -13.961027777873309, 3.8340939353908414, -0.9487968776261764]\n"
     ]
    },
    {
     "name": "stderr",
     "output_type": "stream",
     "text": [
      "100%|██████████| 4500/4500 [01:17<00:00, 59.17it/s]\n"
     ]
    },
    {
     "name": "stdout",
     "output_type": "stream",
     "text": [
      "[A, B, C, D]: [-26.55432984477888, -14.03025719953499, 7.6604199780293145, -1.9231142747919872]\n"
     ]
    },
    {
     "name": "stderr",
     "output_type": "stream",
     "text": [
      "100%|██████████| 4500/4500 [01:16<00:00, 58.77it/s]\n"
     ]
    },
    {
     "name": "stdout",
     "output_type": "stream",
     "text": [
      "[A, B, C, D]: [-25.868815723317574, -14.15253461653656, 11.493106268967423, -2.9539594103172835]\n"
     ]
    },
    {
     "name": "stderr",
     "output_type": "stream",
     "text": [
      "100%|██████████| 4500/4500 [01:19<00:00, 56.87it/s]\n"
     ]
    },
    {
     "name": "stdout",
     "output_type": "stream",
     "text": [
      "[A, B, C, D]: [-24.90356328962647, -14.315272308210808, 15.319807350116992, -4.05844716053307]\n"
     ]
    },
    {
     "name": "stderr",
     "output_type": "stream",
     "text": [
      "100%|██████████| 4500/4500 [01:19<00:00, 56.75it/s]\n"
     ]
    },
    {
     "name": "stdout",
     "output_type": "stream",
     "text": [
      "[A, B, C, D]: [-23.668043299700372, -14.550007432179452, 19.168240643194146, -5.281093932523789]\n"
     ]
    },
    {
     "name": "stderr",
     "output_type": "stream",
     "text": [
      "100%|██████████| 4500/4500 [01:17<00:00, 57.82it/s]\n"
     ]
    },
    {
     "name": "stdout",
     "output_type": "stream",
     "text": [
      "[A, B, C, D]: [-22.14735673229997, -14.851761469781785, 23.043912757166552, -6.663460741737263]\n"
     ]
    },
    {
     "name": "stderr",
     "output_type": "stream",
     "text": [
      " 30%|██▉       | 1346/4500 [00:23<00:57, 55.33it/s]"
     ]
    }
   ],
   "source": [
    "#ioc = 81*0+40\n",
    "for ioc in range(81,81*2):\n",
    "    occ = oocc[ioc]\n",
    "    oocct = [oc.MCMCfit(parts[ioc][ic],lsrs[ic],) for ic in range(11)]\n",
    "    np.save('/fs/nas14/other0/cbenitez/evolsOC/MCMCruns/oocct_AvsC_'+\\\n",
    "            str(np.round(occ[0],decimals=2))+\"x\"+\\\n",
    "            str(np.round(occ[2],decimals=2)),oocct)"
   ]
  },
  {
   "cell_type": "code",
   "execution_count": 8,
   "metadata": {},
   "outputs": [
    {
     "name": "stderr",
     "output_type": "stream",
     "text": [
      "100%|██████████| 4500/4500 [02:40<00:00, 28.07it/s]\n"
     ]
    },
    {
     "name": "stdout",
     "output_type": "stream",
     "text": [
      "[A, B, C, D]: [20.323728640108953, 27.874832444612963, -0.0028708739974896255, -0.000873499307175082]\n"
     ]
    },
    {
     "name": "stderr",
     "output_type": "stream",
     "text": [
      "100%|██████████| 4500/4500 [02:40<00:00, 28.02it/s]\n"
     ]
    },
    {
     "name": "stdout",
     "output_type": "stream",
     "text": [
      "[A, B, C, D]: [20.273192612240173, 27.846055200614096, -0.6385796256404164, 0.6061929676047615]\n"
     ]
    },
    {
     "name": "stderr",
     "output_type": "stream",
     "text": [
      "100%|██████████| 4500/4500 [02:39<00:00, 27.59it/s]\n"
     ]
    },
    {
     "name": "stdout",
     "output_type": "stream",
     "text": [
      "[A, B, C, D]: [20.1234665951474, 27.760321194668617, -1.2620660840402185, 1.2117217817599069]\n"
     ]
    },
    {
     "name": "stderr",
     "output_type": "stream",
     "text": [
      "100%|██████████| 4500/4500 [02:40<00:00, 27.98it/s]\n"
     ]
    },
    {
     "name": "stdout",
     "output_type": "stream",
     "text": [
      "[A, B, C, D]: [19.866640357006297, 27.614192593271817, -1.864883502660973, 1.8107034266735416]\n"
     ]
    },
    {
     "name": "stderr",
     "output_type": "stream",
     "text": [
      "100%|██████████| 4500/4500 [02:39<00:00, 28.19it/s]\n"
     ]
    },
    {
     "name": "stdout",
     "output_type": "stream",
     "text": [
      "[A, B, C, D]: [19.520906216438988, 27.413502587462336, -2.432539716295525, 2.412410123374852]\n"
     ]
    },
    {
     "name": "stderr",
     "output_type": "stream",
     "text": [
      "100%|██████████| 4500/4500 [02:39<00:00, 28.17it/s]\n"
     ]
    },
    {
     "name": "stdout",
     "output_type": "stream",
     "text": [
      "[A, B, C, D]: [19.08582041436896, 27.16184111779135, -2.9492758812130426, 3.0037568273892985]\n"
     ]
    },
    {
     "name": "stderr",
     "output_type": "stream",
     "text": [
      "100%|██████████| 4500/4500 [02:40<00:00, 28.00it/s]\n"
     ]
    },
    {
     "name": "stdout",
     "output_type": "stream",
     "text": [
      "[A, B, C, D]: [18.574454481011912, 26.859498545028398, -3.415881144192795, 3.5911843000669217]\n"
     ]
    },
    {
     "name": "stderr",
     "output_type": "stream",
     "text": [
      "100%|██████████| 4500/4500 [02:22<00:00, 35.68it/s]\n"
     ]
    },
    {
     "name": "stdout",
     "output_type": "stream",
     "text": [
      "[A, B, C, D]: [17.989921443192234, 26.507899938988754, -3.815675886807037, 4.176757029931775]\n"
     ]
    },
    {
     "name": "stderr",
     "output_type": "stream",
     "text": [
      "100%|██████████| 4500/4500 [02:06<00:00, 35.61it/s]\n"
     ]
    },
    {
     "name": "stdout",
     "output_type": "stream",
     "text": [
      "[A, B, C, D]: [17.340228593426147, 26.104665455051563, -4.145877240557448, 4.751734585108326]\n"
     ]
    },
    {
     "name": "stderr",
     "output_type": "stream",
     "text": [
      "100%|██████████| 4500/4500 [02:06<00:00, 35.50it/s]\n"
     ]
    },
    {
     "name": "stdout",
     "output_type": "stream",
     "text": [
      "[A, B, C, D]: [16.64207253264874, 25.652262733308532, -4.400780537293007, 5.310570194207478]\n"
     ]
    },
    {
     "name": "stderr",
     "output_type": "stream",
     "text": [
      "100%|██████████| 4500/4500 [02:07<00:00, 35.37it/s]\n"
     ]
    },
    {
     "name": "stdout",
     "output_type": "stream",
     "text": [
      "[A, B, C, D]: [15.908293004650506, 25.167569148255847, -4.578642621365011, 5.862941969747408]\n"
     ]
    },
    {
     "name": "stderr",
     "output_type": "stream",
     "text": [
      "100%|██████████| 4500/4500 [02:07<00:00, 35.37it/s]\n"
     ]
    },
    {
     "name": "stdout",
     "output_type": "stream",
     "text": [
      "[A, B, C, D]: [20.322800434437166, 20.90321469776833, 0.0014467988733360066, 0.0032118160160286282]\n"
     ]
    },
    {
     "name": "stderr",
     "output_type": "stream",
     "text": [
      "100%|██████████| 4500/4500 [02:07<00:00, 35.31it/s]\n"
     ]
    },
    {
     "name": "stdout",
     "output_type": "stream",
     "text": [
      "[A, B, C, D]: [20.29051362326258, 20.903908606216447, -0.6377180890425774, 0.020827353642738876]\n"
     ]
    },
    {
     "name": "stderr",
     "output_type": "stream",
     "text": [
      "100%|██████████| 4500/4500 [02:05<00:00, 35.82it/s]\n"
     ]
    },
    {
     "name": "stdout",
     "output_type": "stream",
     "text": [
      "[A, B, C, D]: [20.19826351384483, 20.906318635023176, -1.2725430599453138, 0.0541933932535658]\n"
     ]
    },
    {
     "name": "stderr",
     "output_type": "stream",
     "text": [
      "100%|██████████| 4500/4500 [02:06<00:00, 35.59it/s]\n"
     ]
    },
    {
     "name": "stdout",
     "output_type": "stream",
     "text": [
      "[A, B, C, D]: [20.04937242867793, 20.897651103129014, -1.8930411189994987, 0.08323445133865436]\n"
     ]
    },
    {
     "name": "stderr",
     "output_type": "stream",
     "text": [
      "100%|██████████| 4500/4500 [02:07<00:00, 35.25it/s]\n"
     ]
    },
    {
     "name": "stdout",
     "output_type": "stream",
     "text": [
      "[A, B, C, D]: [19.83442803224531, 20.891577987008485, -2.4957146500874288, 0.11938877641958211]\n"
     ]
    },
    {
     "name": "stderr",
     "output_type": "stream",
     "text": [
      "100%|██████████| 4500/4500 [02:08<00:00, 35.15it/s]\n"
     ]
    },
    {
     "name": "stdout",
     "output_type": "stream",
     "text": [
      "[A, B, C, D]: [19.55814770622484, 20.883946931346063, -3.0747414571300884, 0.1720905066437943]\n"
     ]
    },
    {
     "name": "stderr",
     "output_type": "stream",
     "text": [
      "100%|██████████| 4500/4500 [02:06<00:00, 35.44it/s]\n"
     ]
    },
    {
     "name": "stdout",
     "output_type": "stream",
     "text": [
      "[A, B, C, D]: [19.231056615145654, 20.869128782416613, -3.632255776836223, 0.24122178953232656]\n"
     ]
    },
    {
     "name": "stderr",
     "output_type": "stream",
     "text": [
      "100%|██████████| 4500/4500 [02:07<00:00, 36.26it/s]\n"
     ]
    },
    {
     "name": "stdout",
     "output_type": "stream",
     "text": [
      "[A, B, C, D]: [18.8395562402589, 20.848882073720485, -4.142724868834391, 0.31428807805207964]\n"
     ]
    },
    {
     "name": "stderr",
     "output_type": "stream",
     "text": [
      "100%|██████████| 4500/4500 [02:06<00:00, 35.44it/s]\n"
     ]
    },
    {
     "name": "stdout",
     "output_type": "stream",
     "text": [
      "[A, B, C, D]: [18.404851850514394, 20.81948957997005, -4.615804522974841, 0.4201166202968493]\n"
     ]
    },
    {
     "name": "stderr",
     "output_type": "stream",
     "text": [
      "100%|██████████| 4500/4500 [02:06<00:00, 35.57it/s]\n"
     ]
    },
    {
     "name": "stdout",
     "output_type": "stream",
     "text": [
      "[A, B, C, D]: [17.915969594070937, 20.791307912988668, -5.049175361284951, 0.5443314043123114]\n"
     ]
    },
    {
     "name": "stderr",
     "output_type": "stream",
     "text": [
      "100%|██████████| 4500/4500 [02:05<00:00, 35.48it/s]\n"
     ]
    },
    {
     "name": "stdout",
     "output_type": "stream",
     "text": [
      "[A, B, C, D]: [17.38858129703302, 20.746946231326127, -5.42713532390267, 0.6812912016040726]\n"
     ]
    },
    {
     "name": "stderr",
     "output_type": "stream",
     "text": [
      "100%|██████████| 4500/4500 [02:06<00:00, 35.57it/s]\n"
     ]
    },
    {
     "name": "stdout",
     "output_type": "stream",
     "text": [
      "[A, B, C, D]: [20.323902285633782, 13.936611745610318, -0.0023878885974735944, -0.00048750955001834934]\n"
     ]
    },
    {
     "name": "stderr",
     "output_type": "stream",
     "text": [
      "100%|██████████| 4500/4500 [02:07<00:00, 35.41it/s]\n"
     ]
    },
    {
     "name": "stdout",
     "output_type": "stream",
     "text": [
      "[A, B, C, D]: [20.30980117104723, 13.947033364479136, -0.6388928556503431, -0.3961372590616924]\n"
     ]
    },
    {
     "name": "stderr",
     "output_type": "stream",
     "text": [
      "100%|██████████| 4500/4500 [02:06<00:00, 35.63it/s]\n"
     ]
    },
    {
     "name": "stdout",
     "output_type": "stream",
     "text": [
      "[A, B, C, D]: [20.25817644646123, 13.976225817385657, -1.2787741409346642, -0.7860861192633913]\n"
     ]
    },
    {
     "name": "stderr",
     "output_type": "stream",
     "text": [
      "100%|██████████| 4500/4500 [02:06<00:00, 35.59it/s]\n"
     ]
    },
    {
     "name": "stdout",
     "output_type": "stream",
     "text": [
      "[A, B, C, D]: [20.177593858818184, 14.021351881103291, -1.9167327285201452, -1.1814958511567966]\n"
     ]
    },
    {
     "name": "stderr",
     "output_type": "stream",
     "text": [
      "100%|██████████| 4500/4500 [02:06<00:00, 36.91it/s]\n"
     ]
    },
    {
     "name": "stdout",
     "output_type": "stream",
     "text": [
      "[A, B, C, D]: [20.060303482404947, 14.091845701608946, -2.5454716990891533, -1.5612634549412576]\n"
     ]
    },
    {
     "name": "stderr",
     "output_type": "stream",
     "text": [
      "100%|██████████| 4500/4500 [02:07<00:00, 35.38it/s]\n"
     ]
    },
    {
     "name": "stdout",
     "output_type": "stream",
     "text": [
      "[A, B, C, D]: [19.911129205912825, 14.180582254831338, -3.1722565538041385, -1.94030895616945]\n"
     ]
    },
    {
     "name": "stderr",
     "output_type": "stream",
     "text": [
      "100%|██████████| 4500/4500 [02:08<00:00, 34.16it/s]\n"
     ]
    },
    {
     "name": "stdout",
     "output_type": "stream",
     "text": [
      "[A, B, C, D]: [19.723194325486887, 14.277676194886277, -3.7884298752450163, -2.3071659110494944]\n"
     ]
    },
    {
     "name": "stderr",
     "output_type": "stream",
     "text": [
      "100%|██████████| 4500/4500 [02:06<00:00, 35.49it/s]\n"
     ]
    },
    {
     "name": "stdout",
     "output_type": "stream",
     "text": [
      "[A, B, C, D]: [19.509153339818322, 14.40743301964303, -4.39801018945272, -2.6781156904979055]\n"
     ]
    },
    {
     "name": "stderr",
     "output_type": "stream",
     "text": [
      "100%|██████████| 4500/4500 [02:07<00:00, 35.28it/s]\n"
     ]
    },
    {
     "name": "stdout",
     "output_type": "stream",
     "text": [
      "[A, B, C, D]: [19.24713752202053, 14.541588033170727, -4.994257054856569, -3.0252478243629333]\n"
     ]
    },
    {
     "name": "stderr",
     "output_type": "stream",
     "text": [
      "100%|██████████| 4500/4500 [02:06<00:00, 35.44it/s]\n"
     ]
    },
    {
     "name": "stdout",
     "output_type": "stream",
     "text": [
      "[A, B, C, D]: [18.959423462304954, 14.70742536324524, -5.577859233413361, -3.3701590854095174]\n"
     ]
    },
    {
     "name": "stderr",
     "output_type": "stream",
     "text": [
      "100%|██████████| 4500/4500 [02:06<00:00, 35.41it/s]\n"
     ]
    },
    {
     "name": "stdout",
     "output_type": "stream",
     "text": [
      "[A, B, C, D]: [18.633179623609507, 14.877332637225559, -6.154464335646589, -3.701893458151429]\n"
     ]
    },
    {
     "name": "stderr",
     "output_type": "stream",
     "text": [
      "100%|██████████| 4500/4500 [02:09<00:00, 34.71it/s]\n"
     ]
    },
    {
     "name": "stdout",
     "output_type": "stream",
     "text": [
      "[A, B, C, D]: [20.32814247342682, 6.968239307131669, -0.0017626447386560953, -0.0016372111845737113]\n"
     ]
    },
    {
     "name": "stderr",
     "output_type": "stream",
     "text": [
      "100%|██████████| 4500/4500 [02:07<00:00, 35.53it/s]\n"
     ]
    },
    {
     "name": "stdout",
     "output_type": "stream",
     "text": [
      "[A, B, C, D]: [20.31930753209589, 6.971061126271315, -0.6407405835114584, -0.6436943578684898]\n"
     ]
    },
    {
     "name": "stderr",
     "output_type": "stream",
     "text": [
      "100%|██████████| 4500/4500 [02:06<00:00, 35.47it/s]\n"
     ]
    },
    {
     "name": "stdout",
     "output_type": "stream",
     "text": [
      "[A, B, C, D]: [20.29446568177843, 6.996986676626, -1.2807814133383908, -1.2882138619732086]\n"
     ]
    },
    {
     "name": "stderr",
     "output_type": "stream",
     "text": [
      "100%|██████████| 4500/4500 [02:06<00:00, 35.49it/s]\n"
     ]
    },
    {
     "name": "stdout",
     "output_type": "stream",
     "text": [
      "[A, B, C, D]: [20.256389490752895, 7.039768464996977, -1.9258139980530942, -1.9382886410624072]\n"
     ]
    },
    {
     "name": "stderr",
     "output_type": "stream",
     "text": [
      "100%|██████████| 4500/4500 [02:07<00:00, 35.37it/s]\n"
     ]
    },
    {
     "name": "stdout",
     "output_type": "stream",
     "text": [
      "[A, B, C, D]: [20.19457049047545, 7.088591073989782, -2.572907718913864, -2.5873294469296684]\n"
     ]
    },
    {
     "name": "stderr",
     "output_type": "stream",
     "text": [
      "100%|██████████| 4500/4500 [01:44<00:00, 43.16it/s]\n"
     ]
    },
    {
     "name": "stdout",
     "output_type": "stream",
     "text": [
      "[A, B, C, D]: [20.12728200918066, 7.165111968664405, -3.2242619360136127, -3.2434410209344087]\n"
     ]
    },
    {
     "name": "stderr",
     "output_type": "stream",
     "text": [
      "100%|██████████| 4500/4500 [01:43<00:00, 43.66it/s]\n"
     ]
    },
    {
     "name": "stdout",
     "output_type": "stream",
     "text": [
      "[A, B, C, D]: [20.032897364553182, 7.25058338125819, -3.8919050936982553, -3.9095763513396404]\n"
     ]
    },
    {
     "name": "stderr",
     "output_type": "stream",
     "text": [
      "100%|██████████| 4500/4500 [01:43<00:00, 43.68it/s]\n"
     ]
    },
    {
     "name": "stdout",
     "output_type": "stream",
     "text": [
      "[A, B, C, D]: [19.930410215963647, 7.360386825849154, -4.557600101902138, -4.585188084848245]\n"
     ]
    },
    {
     "name": "stderr",
     "output_type": "stream",
     "text": [
      "100%|██████████| 4500/4500 [01:40<00:00, 43.92it/s]\n"
     ]
    },
    {
     "name": "stdout",
     "output_type": "stream",
     "text": [
      "[A, B, C, D]: [19.796634647144547, 7.488200721153552, -5.2410233667039785, -5.26443362193174]\n"
     ]
    },
    {
     "name": "stderr",
     "output_type": "stream",
     "text": [
      "100%|██████████| 4500/4500 [01:41<00:00, 44.18it/s]\n"
     ]
    },
    {
     "name": "stdout",
     "output_type": "stream",
     "text": [
      "[A, B, C, D]: [19.65519178809117, 7.627322460677985, -5.934709595417443, -5.959608936723389]\n"
     ]
    },
    {
     "name": "stderr",
     "output_type": "stream",
     "text": [
      "100%|██████████| 4500/4500 [01:43<00:00, 43.62it/s]\n"
     ]
    },
    {
     "name": "stdout",
     "output_type": "stream",
     "text": [
      "[A, B, C, D]: [19.478424457466172, 7.7988283897764825, -6.640632018021698, -6.671815700714941]\n"
     ]
    },
    {
     "name": "stderr",
     "output_type": "stream",
     "text": [
      "100%|██████████| 4500/4500 [01:42<00:00, 43.94it/s]\n"
     ]
    },
    {
     "name": "stdout",
     "output_type": "stream",
     "text": [
      "[A, B, C, D]: [20.325068475563217, 0.002816653291143777, -0.004647996093118356, -0.0006412993406062816]\n"
     ]
    },
    {
     "name": "stderr",
     "output_type": "stream",
     "text": [
      "100%|██████████| 4500/4500 [01:42<00:00, 43.94it/s]\n"
     ]
    },
    {
     "name": "stdout",
     "output_type": "stream",
     "text": [
      "[A, B, C, D]: [20.318663961032, 0.0007153998338455257, -0.6381398556322911, -0.7292892969226091]\n"
     ]
    },
    {
     "name": "stderr",
     "output_type": "stream",
     "text": [
      "100%|██████████| 4500/4500 [01:42<00:00, 44.11it/s]\n"
     ]
    },
    {
     "name": "stdout",
     "output_type": "stream",
     "text": [
      "[A, B, C, D]: [20.30535926793132, 0.0009320570748689004, -1.2844040179871903, -1.45714965111655]\n"
     ]
    },
    {
     "name": "stderr",
     "output_type": "stream",
     "text": [
      "100%|██████████| 4500/4500 [01:40<00:00, 44.66it/s]\n"
     ]
    },
    {
     "name": "stdout",
     "output_type": "stream",
     "text": [
      "[A, B, C, D]: [20.281225410794534, 0.0037242457521674643, -1.9295508840277027, -2.1936517977508188]\n"
     ]
    },
    {
     "name": "stderr",
     "output_type": "stream",
     "text": [
      "100%|██████████| 4500/4500 [01:41<00:00, 44.22it/s]\n"
     ]
    },
    {
     "name": "stdout",
     "output_type": "stream",
     "text": [
      "[A, B, C, D]: [20.245663105214895, 0.0017554331020546094, -2.5870805405836834, -2.938421347031139]\n"
     ]
    },
    {
     "name": "stderr",
     "output_type": "stream",
     "text": [
      "100%|██████████| 4500/4500 [01:41<00:00, 44.31it/s]\n"
     ]
    },
    {
     "name": "stdout",
     "output_type": "stream",
     "text": [
      "[A, B, C, D]: [20.195248857478646, -0.0002585745470566242, -3.2469741960338574, -3.683716503877041]\n"
     ]
    },
    {
     "name": "stderr",
     "output_type": "stream",
     "text": [
      "100%|██████████| 4500/4500 [01:43<00:00, 43.51it/s]\n"
     ]
    },
    {
     "name": "stdout",
     "output_type": "stream",
     "text": [
      "[A, B, C, D]: [20.138225103583295, -0.0012662100722245799, -3.9239126765446435, -4.454241981550944]\n"
     ]
    },
    {
     "name": "stderr",
     "output_type": "stream",
     "text": [
      "100%|██████████| 4500/4500 [01:44<00:00, 42.99it/s]\n"
     ]
    },
    {
     "name": "stdout",
     "output_type": "stream",
     "text": [
      "[A, B, C, D]: [20.061745002734988, 0.009785382829038682, -4.608470604946805, -5.230682633188687]\n"
     ]
    },
    {
     "name": "stderr",
     "output_type": "stream",
     "text": [
      "100%|██████████| 4500/4500 [01:43<00:00, 43.53it/s]\n"
     ]
    },
    {
     "name": "stdout",
     "output_type": "stream",
     "text": [
      "[A, B, C, D]: [19.984793885132568, 0.0034423849625860965, -5.326935091220983, -6.032544337949854]\n"
     ]
    },
    {
     "name": "stderr",
     "output_type": "stream",
     "text": [
      "100%|██████████| 4500/4500 [01:41<00:00, 45.42it/s]\n"
     ]
    },
    {
     "name": "stdout",
     "output_type": "stream",
     "text": [
      "[A, B, C, D]: [19.88813122574144, 0.008380259824616878, -6.059526438363466, -6.865887158685261]\n"
     ]
    },
    {
     "name": "stderr",
     "output_type": "stream",
     "text": [
      "100%|██████████| 4500/4500 [01:42<00:00, 45.03it/s]\n"
     ]
    },
    {
     "name": "stdout",
     "output_type": "stream",
     "text": [
      "[A, B, C, D]: [19.778799689255173, 0.0032073649041611616, -6.813600189830491, -7.7170610705860225]\n"
     ]
    },
    {
     "name": "stderr",
     "output_type": "stream",
     "text": [
      "100%|██████████| 4500/4500 [01:42<00:00, 44.05it/s]\n"
     ]
    },
    {
     "name": "stdout",
     "output_type": "stream",
     "text": [
      "[A, B, C, D]: [20.32167055617012, -6.96852170616439, 0.0027243252427937366, -0.0010133152306646756]\n"
     ]
    },
    {
     "name": "stderr",
     "output_type": "stream",
     "text": [
      "100%|██████████| 4500/4500 [01:40<00:00, 44.17it/s]\n"
     ]
    },
    {
     "name": "stdout",
     "output_type": "stream",
     "text": [
      "[A, B, C, D]: [20.31572463210671, -6.978408801075595, -0.639459637205967, -0.6427332381493774]\n"
     ]
    },
    {
     "name": "stderr",
     "output_type": "stream",
     "text": [
      "100%|██████████| 4500/4500 [01:41<00:00, 44.35it/s]\n"
     ]
    },
    {
     "name": "stdout",
     "output_type": "stream",
     "text": [
      "[A, B, C, D]: [20.295602350686064, -6.999705264055029, -1.2813746867634155, -1.2879641359016274]\n"
     ]
    },
    {
     "name": "stderr",
     "output_type": "stream",
     "text": [
      "100%|██████████| 4500/4500 [01:41<00:00, 44.53it/s]\n"
     ]
    },
    {
     "name": "stdout",
     "output_type": "stream",
     "text": [
      "[A, B, C, D]: [20.254162981784056, -7.03642394510396, -1.921474529021298, -1.939179174835929]\n"
     ]
    },
    {
     "name": "stderr",
     "output_type": "stream",
     "text": [
      "100%|██████████| 4500/4500 [01:44<00:00, 43.24it/s]\n"
     ]
    },
    {
     "name": "stdout",
     "output_type": "stream",
     "text": [
      "[A, B, C, D]: [20.200804309406447, -7.091422547166234, -2.5748890511133173, -2.593413054073538]\n"
     ]
    },
    {
     "name": "stderr",
     "output_type": "stream",
     "text": [
      "100%|██████████| 4500/4500 [01:41<00:00, 44.35it/s]\n"
     ]
    },
    {
     "name": "stdout",
     "output_type": "stream",
     "text": [
      "[A, B, C, D]: [20.1254725539516, -7.166345752506074, -3.2313121792674457, -3.2489675129362334]\n"
     ]
    },
    {
     "name": "stderr",
     "output_type": "stream",
     "text": [
      "100%|██████████| 4500/4500 [01:41<00:00, 44.26it/s]\n"
     ]
    },
    {
     "name": "stdout",
     "output_type": "stream",
     "text": [
      "[A, B, C, D]: [20.036710755299158, -7.250979806962452, -3.892914149223786, -3.915518157704907]\n"
     ]
    },
    {
     "name": "stderr",
     "output_type": "stream",
     "text": [
      "100%|██████████| 4500/4500 [01:41<00:00, 44.24it/s]\n"
     ]
    },
    {
     "name": "stdout",
     "output_type": "stream",
     "text": [
      "[A, B, C, D]: [19.920275306139036, -7.356429267600781, -4.556454927718429, -4.5721895801130845]\n"
     ]
    },
    {
     "name": "stderr",
     "output_type": "stream",
     "text": [
      "100%|██████████| 4500/4500 [01:41<00:00, 44.29it/s]\n"
     ]
    },
    {
     "name": "stdout",
     "output_type": "stream",
     "text": [
      "[A, B, C, D]: [19.79771806102565, -7.481537198524187, -5.241158804658155, -5.264642661834315]\n"
     ]
    },
    {
     "name": "stderr",
     "output_type": "stream",
     "text": [
      "100%|██████████| 4500/4500 [01:41<00:00, 44.31it/s]\n"
     ]
    },
    {
     "name": "stdout",
     "output_type": "stream",
     "text": [
      "[A, B, C, D]: [19.65003150230445, -7.628886133354688, -5.930810008771468, -5.957260637571716]\n"
     ]
    },
    {
     "name": "stderr",
     "output_type": "stream",
     "text": [
      "100%|██████████| 4500/4500 [01:40<00:00, 44.70it/s]\n"
     ]
    },
    {
     "name": "stdout",
     "output_type": "stream",
     "text": [
      "[A, B, C, D]: [19.476576123472764, -7.7930113621415655, -6.632721086168949, -6.6629970340706945]\n"
     ]
    },
    {
     "name": "stderr",
     "output_type": "stream",
     "text": [
      "100%|██████████| 4500/4500 [01:41<00:00, 44.55it/s]\n"
     ]
    },
    {
     "name": "stdout",
     "output_type": "stream",
     "text": [
      "[A, B, C, D]: [20.322149553102115, -13.93905449804426, 0.004479099637230339, 0.000694440988282598]\n"
     ]
    },
    {
     "name": "stderr",
     "output_type": "stream",
     "text": [
      "100%|██████████| 4500/4500 [01:39<00:00, 46.34it/s]\n"
     ]
    },
    {
     "name": "stdout",
     "output_type": "stream",
     "text": [
      "[A, B, C, D]: [20.308213486643023, -13.947386687287699, -0.6397117912478114, -0.39694008353446736]\n"
     ]
    },
    {
     "name": "stderr",
     "output_type": "stream",
     "text": [
      "100%|██████████| 4500/4500 [01:40<00:00, 44.79it/s]\n"
     ]
    },
    {
     "name": "stdout",
     "output_type": "stream",
     "text": [
      "[A, B, C, D]: [20.25529004368042, -13.973498441121482, -1.2755823930778571, -0.7839039556880677]\n"
     ]
    },
    {
     "name": "stderr",
     "output_type": "stream",
     "text": [
      "100%|██████████| 4500/4500 [01:42<00:00, 43.90it/s]\n"
     ]
    },
    {
     "name": "stdout",
     "output_type": "stream",
     "text": [
      "[A, B, C, D]: [20.170807104048542, -14.026157746609313, -1.911569889378068, -1.1768783589844107]\n"
     ]
    },
    {
     "name": "stderr",
     "output_type": "stream",
     "text": [
      "100%|██████████| 4500/4500 [01:42<00:00, 45.17it/s]\n"
     ]
    },
    {
     "name": "stdout",
     "output_type": "stream",
     "text": [
      "[A, B, C, D]: [20.059047253281378, -14.088447702846702, -2.5462840240117663, -1.5627920975903487]\n"
     ]
    },
    {
     "name": "stderr",
     "output_type": "stream",
     "text": [
      "100%|██████████| 4500/4500 [01:42<00:00, 44.07it/s]\n"
     ]
    },
    {
     "name": "stdout",
     "output_type": "stream",
     "text": [
      "[A, B, C, D]: [19.90920334179999, -14.169174689901755, -3.1655667215001957, -1.9408390576615633]\n"
     ]
    },
    {
     "name": "stderr",
     "output_type": "stream",
     "text": [
      "100%|██████████| 4500/4500 [01:41<00:00, 45.41it/s]\n"
     ]
    },
    {
     "name": "stdout",
     "output_type": "stream",
     "text": [
      "[A, B, C, D]: [19.72135484318788, -14.271285775221736, -3.7891199276472722, -2.3173920724171224]\n"
     ]
    },
    {
     "name": "stderr",
     "output_type": "stream",
     "text": [
      "100%|██████████| 4500/4500 [01:39<00:00, 45.03it/s]\n"
     ]
    },
    {
     "name": "stdout",
     "output_type": "stream",
     "text": [
      "[A, B, C, D]: [19.505440822282257, -14.397425696356082, -4.400209800754185, -2.677631372239166]\n"
     ]
    },
    {
     "name": "stderr",
     "output_type": "stream",
     "text": [
      "100%|██████████| 4500/4500 [01:40<00:00, 44.64it/s]\n"
     ]
    },
    {
     "name": "stdout",
     "output_type": "stream",
     "text": [
      "[A, B, C, D]: [19.246636840133124, -14.536899419977711, -4.991382695712038, -3.0336384195447534]\n"
     ]
    },
    {
     "name": "stderr",
     "output_type": "stream",
     "text": [
      "100%|██████████| 4500/4500 [01:40<00:00, 44.95it/s]\n"
     ]
    },
    {
     "name": "stdout",
     "output_type": "stream",
     "text": [
      "[A, B, C, D]: [18.96191624411212, -14.700617052846912, -5.590203935522851, -3.379428503917638]\n"
     ]
    },
    {
     "name": "stderr",
     "output_type": "stream",
     "text": [
      "100%|██████████| 4500/4500 [01:41<00:00, 44.37it/s]\n"
     ]
    },
    {
     "name": "stdout",
     "output_type": "stream",
     "text": [
      "[A, B, C, D]: [18.631933157552947, -14.874452076501871, -6.153029739897869, -3.7007484665486885]\n"
     ]
    },
    {
     "name": "stderr",
     "output_type": "stream",
     "text": [
      "100%|██████████| 4500/4500 [01:44<00:00, 42.89it/s]\n"
     ]
    },
    {
     "name": "stdout",
     "output_type": "stream",
     "text": [
      "[A, B, C, D]: [20.32134874415083, -20.903739649268058, -0.0021108199718168305, 7.88400525534982e-05]\n"
     ]
    },
    {
     "name": "stderr",
     "output_type": "stream",
     "text": [
      "100%|██████████| 4500/4500 [01:44<00:00, 43.81it/s]\n"
     ]
    },
    {
     "name": "stdout",
     "output_type": "stream",
     "text": [
      "[A, B, C, D]: [20.295407180703286, -20.90679125420854, -0.6384708498066622, 0.020242459109494095]\n"
     ]
    },
    {
     "name": "stderr",
     "output_type": "stream",
     "text": [
      "100%|██████████| 4500/4500 [01:44<00:00, 43.49it/s]\n"
     ]
    },
    {
     "name": "stdout",
     "output_type": "stream",
     "text": [
      "[A, B, C, D]: [20.201533598093484, -20.902101687496327, -1.2723676976919884, 0.04745436033030315]\n"
     ]
    },
    {
     "name": "stderr",
     "output_type": "stream",
     "text": [
      "100%|██████████| 4500/4500 [01:44<00:00, 42.91it/s]\n"
     ]
    },
    {
     "name": "stdout",
     "output_type": "stream",
     "text": [
      "[A, B, C, D]: [20.047252485217502, -20.901009907152538, -1.8961770712208479, 0.08171901367552799]\n"
     ]
    },
    {
     "name": "stderr",
     "output_type": "stream",
     "text": [
      "100%|██████████| 4500/4500 [01:44<00:00, 43.20it/s]\n"
     ]
    },
    {
     "name": "stdout",
     "output_type": "stream",
     "text": [
      "[A, B, C, D]: [19.82946424195015, -20.895756726258913, -2.4980928834003167, 0.11686376278365365]\n"
     ]
    },
    {
     "name": "stderr",
     "output_type": "stream",
     "text": [
      "100%|██████████| 4500/4500 [01:45<00:00, 42.54it/s]\n"
     ]
    },
    {
     "name": "stdout",
     "output_type": "stream",
     "text": [
      "[A, B, C, D]: [19.5594339836023, -20.883219877876133, -3.0757939809275334, 0.16764196442548643]\n"
     ]
    },
    {
     "name": "stderr",
     "output_type": "stream",
     "text": [
      "100%|██████████| 4500/4500 [01:44<00:00, 43.26it/s]\n"
     ]
    },
    {
     "name": "stdout",
     "output_type": "stream",
     "text": [
      "[A, B, C, D]: [19.230183454873224, -20.86686981393657, -3.6258104415559544, 0.23119560914388723]\n"
     ]
    },
    {
     "name": "stderr",
     "output_type": "stream",
     "text": [
      "100%|██████████| 4500/4500 [01:44<00:00, 43.17it/s]\n"
     ]
    },
    {
     "name": "stdout",
     "output_type": "stream",
     "text": [
      "[A, B, C, D]: [18.835874466354195, -20.851830422423635, -4.145764737381577, 0.31955060422145515]\n"
     ]
    },
    {
     "name": "stderr",
     "output_type": "stream",
     "text": [
      "100%|██████████| 4500/4500 [01:42<00:00, 43.72it/s]\n"
     ]
    },
    {
     "name": "stdout",
     "output_type": "stream",
     "text": [
      "[A, B, C, D]: [18.399105393504577, -20.818424836625198, -4.616110788075819, 0.4148382671658888]\n"
     ]
    },
    {
     "name": "stderr",
     "output_type": "stream",
     "text": [
      "100%|██████████| 4500/4500 [01:43<00:00, 43.32it/s]\n"
     ]
    },
    {
     "name": "stdout",
     "output_type": "stream",
     "text": [
      "[A, B, C, D]: [17.918273971928855, -20.781748838520063, -5.04756654131193, 0.5284681626326921]\n"
     ]
    },
    {
     "name": "stderr",
     "output_type": "stream",
     "text": [
      "100%|██████████| 4500/4500 [01:44<00:00, 43.16it/s]\n"
     ]
    },
    {
     "name": "stdout",
     "output_type": "stream",
     "text": [
      "[A, B, C, D]: [17.386446788445635, -20.741651509566015, -5.432022080975711, 0.6626965286050527]\n"
     ]
    },
    {
     "name": "stderr",
     "output_type": "stream",
     "text": [
      "100%|██████████| 4500/4500 [01:44<00:00, 42.95it/s]\n"
     ]
    },
    {
     "name": "stdout",
     "output_type": "stream",
     "text": [
      "[A, B, C, D]: [20.3238288882566, -27.877182726994096, 0.001850160216361426, -0.00026449174251425136]\n"
     ]
    },
    {
     "name": "stderr",
     "output_type": "stream",
     "text": [
      "100%|██████████| 4500/4500 [01:43<00:00, 43.35it/s]\n"
     ]
    },
    {
     "name": "stdout",
     "output_type": "stream",
     "text": [
      "[A, B, C, D]: [20.27554435009319, -27.849232510468628, -0.6380140828720812, 0.6008639043532443]\n"
     ]
    },
    {
     "name": "stderr",
     "output_type": "stream",
     "text": [
      "100%|██████████| 4500/4500 [01:43<00:00, 43.56it/s]\n"
     ]
    },
    {
     "name": "stdout",
     "output_type": "stream",
     "text": [
      "[A, B, C, D]: [20.1231080874007, -27.761689712938697, -1.2618550154951254, 1.2056529396311622]\n"
     ]
    },
    {
     "name": "stderr",
     "output_type": "stream",
     "text": [
      "100%|██████████| 4500/4500 [01:43<00:00, 43.60it/s]\n"
     ]
    },
    {
     "name": "stdout",
     "output_type": "stream",
     "text": [
      "[A, B, C, D]: [19.866509541130288, -27.617104000773637, -1.8640163592552956, 1.8121937806647304]\n"
     ]
    },
    {
     "name": "stderr",
     "output_type": "stream",
     "text": [
      "100%|██████████| 4500/4500 [01:43<00:00, 43.64it/s]\n"
     ]
    },
    {
     "name": "stdout",
     "output_type": "stream",
     "text": [
      "[A, B, C, D]: [19.52218615401967, -27.41721123285835, -2.430328328057854, 2.4051884679308753]\n"
     ]
    },
    {
     "name": "stderr",
     "output_type": "stream",
     "text": [
      "100%|██████████| 4500/4500 [01:44<00:00, 43.16it/s]\n"
     ]
    },
    {
     "name": "stdout",
     "output_type": "stream",
     "text": [
      "[A, B, C, D]: [19.09294507966193, -27.166311938821035, -2.955451505721742, 3.00219057950374]\n"
     ]
    },
    {
     "name": "stderr",
     "output_type": "stream",
     "text": [
      "100%|██████████| 4500/4500 [01:45<00:00, 42.66it/s]\n"
     ]
    },
    {
     "name": "stdout",
     "output_type": "stream",
     "text": [
      "[A, B, C, D]: [18.574746646502533, -26.861045682887436, -3.4178077448600557, 3.599495140181189]\n"
     ]
    },
    {
     "name": "stderr",
     "output_type": "stream",
     "text": [
      "100%|██████████| 4500/4500 [01:44<00:00, 43.07it/s]\n"
     ]
    },
    {
     "name": "stdout",
     "output_type": "stream",
     "text": [
      "[A, B, C, D]: [17.991502406592804, -26.496999420057538, -3.8147162687897906, 4.178859539165067]\n"
     ]
    },
    {
     "name": "stderr",
     "output_type": "stream",
     "text": [
      "100%|██████████| 4500/4500 [01:44<00:00, 44.90it/s]\n"
     ]
    },
    {
     "name": "stdout",
     "output_type": "stream",
     "text": [
      "[A, B, C, D]: [17.344221515845803, -26.0983570607298, -4.146238799156535, 4.750165412017722]\n"
     ]
    },
    {
     "name": "stderr",
     "output_type": "stream",
     "text": [
      "100%|██████████| 4500/4500 [01:41<00:00, 44.29it/s]\n"
     ]
    },
    {
     "name": "stdout",
     "output_type": "stream",
     "text": [
      "[A, B, C, D]: [16.640595387439177, -25.647183343322403, -4.393792879555576, 5.309731229588446]\n"
     ]
    },
    {
     "name": "stderr",
     "output_type": "stream",
     "text": [
      "100%|██████████| 4500/4500 [01:41<00:00, 44.15it/s]\n"
     ]
    },
    {
     "name": "stdout",
     "output_type": "stream",
     "text": [
      "[A, B, C, D]: [15.90451635092142, -25.15781249290014, -4.565091538596724, 5.860226087485287]\n"
     ]
    }
   ],
   "source": [
    "#ioc = 81*0+40\n",
    "for ioc in range(63,72):\n",
    "    occ = oocc[ioc]\n",
    "    oocct = [oc.MCMCfit(parts[ioc][ic],lsrs[ic],) for ic in range(11)]\n",
    "    np.save('/fs/nas14/other0/cbenitez/evolsOC/MCMCruns/oocct_AvsB_'+\\\n",
    "            str(np.round(occ[0],decimals=2))+\"x\"+\\\n",
    "            str(np.round(occ[1],decimals=2)),oocct)"
   ]
  },
  {
   "cell_type": "code",
   "execution_count": null,
   "metadata": {},
   "outputs": [
    {
     "name": "stderr",
     "output_type": "stream",
     "text": [
      "100%|██████████| 5000/5000 [01:24<00:00, 58.91it/s]\n"
     ]
    },
    {
     "name": "stdout",
     "output_type": "stream",
     "text": [
      "[A, B, C, D]: [-27.103580241389654, 20.91050103588591, 0.0005683945552758373, 0.0016169623945122978]\n"
     ]
    },
    {
     "name": "stderr",
     "output_type": "stream",
     "text": [
      "100%|██████████| 5000/5000 [01:25<00:00, 58.53it/s]\n"
     ]
    },
    {
     "name": "stdout",
     "output_type": "stream",
     "text": [
      "[A, B, C, D]: [-26.94651682701922, 20.92848565420543, 3.832117245300488, -0.5334673149631898]\n"
     ]
    },
    {
     "name": "stderr",
     "output_type": "stream",
     "text": [
      "100%|██████████| 5000/5000 [01:23<00:00, 59.90it/s]\n"
     ]
    },
    {
     "name": "stdout",
     "output_type": "stream",
     "text": [
      "[A, B, C, D]: [-26.478145320236674, 20.985653033514758, 7.642908140001483, -1.0810238111656822]\n"
     ]
    },
    {
     "name": "stderr",
     "output_type": "stream",
     "text": [
      "100%|██████████| 5000/5000 [01:22<00:00, 60.70it/s]\n"
     ]
    },
    {
     "name": "stdout",
     "output_type": "stream",
     "text": [
      "[A, B, C, D]: [-25.697416405234904, 21.08792847827175, 11.426961234864988, -1.6764419231586734]\n"
     ]
    },
    {
     "name": "stderr",
     "output_type": "stream",
     "text": [
      "100%|██████████| 5000/5000 [01:21<00:00, 53.79it/s]\n"
     ]
    },
    {
     "name": "stdout",
     "output_type": "stream",
     "text": [
      "[A, B, C, D]: [-24.616014145134756, 21.224125006516278, 15.171701258115759, -2.3217907300755076]\n"
     ]
    },
    {
     "name": "stderr",
     "output_type": "stream",
     "text": [
      "100%|██████████| 5000/5000 [01:24<00:00, 59.05it/s]\n"
     ]
    },
    {
     "name": "stdout",
     "output_type": "stream",
     "text": [
      "[A, B, C, D]: [-23.23221602221398, 21.422743927165527, 18.86088787583368, -3.0563935253527377]\n"
     ]
    },
    {
     "name": "stderr",
     "output_type": "stream",
     "text": [
      "100%|██████████| 5000/5000 [01:25<00:00, 58.46it/s]\n"
     ]
    },
    {
     "name": "stdout",
     "output_type": "stream",
     "text": [
      "[A, B, C, D]: [-21.550039607715124, 21.680995634077107, 22.493594280226024, -3.8973341772843466]\n"
     ]
    },
    {
     "name": "stderr",
     "output_type": "stream",
     "text": [
      "100%|██████████| 5000/5000 [01:24<00:00, 59.12it/s]\n"
     ]
    },
    {
     "name": "stdout",
     "output_type": "stream",
     "text": [
      "[A, B, C, D]: [-19.560609366302433, 22.008968640801143, 26.0793777768956, -4.875756955750681]\n"
     ]
    },
    {
     "name": "stderr",
     "output_type": "stream",
     "text": [
      "100%|██████████| 5000/5000 [01:24<00:00, 59.30it/s]\n"
     ]
    },
    {
     "name": "stdout",
     "output_type": "stream",
     "text": [
      "[A, B, C, D]: [-17.279429885933666, 22.421437522442417, 29.611217007432757, -6.010684201794612]\n"
     ]
    },
    {
     "name": "stderr",
     "output_type": "stream",
     "text": [
      "100%|██████████| 5000/5000 [01:25<00:00, 58.74it/s]\n"
     ]
    },
    {
     "name": "stdout",
     "output_type": "stream",
     "text": [
      "[A, B, C, D]: [-14.694114415876466, 22.938233227557735, 33.108439942012055, -7.3522314394170785]\n"
     ]
    },
    {
     "name": "stderr",
     "output_type": "stream",
     "text": [
      "100%|██████████| 5000/5000 [01:24<00:00, 59.44it/s]\n"
     ]
    },
    {
     "name": "stdout",
     "output_type": "stream",
     "text": [
      "[A, B, C, D]: [-11.772560741421513, 23.58483587436527, 36.6227037542219, -8.950875319814607]\n"
     ]
    }
   ],
   "source": [
    "ioc = 1\n",
    "occ = oocc[ioc]\n",
    "oocct = [oc.MCMCfit(parts[ioc][ic],lsrs[ic],Nsteps=5000) for ic in range(11)]\n",
    "np.save('/fs/nas14/other0/cbenitez/evolsOC/MCMCruns/oocct_AvsB_'+\\\n",
    "            str(np.round(occ[0],decimals=2))+\"x\"+\\\n",
    "            str(np.round(occ[1],decimals=2)),oocct)"
   ]
  },
  {
   "cell_type": "code",
   "execution_count": 53,
   "metadata": {},
   "outputs": [],
   "source": [
    "oocct = np.load('/fs/nas14/other0/cbenitez/evolsOC/MCMCruns/oocct_AvsB_'+\\\n",
    "        str(np.round(occ[1],decimals=2))+\"x\"+\\\n",
    "        str(np.round(occ[3],decimals=2))+\".npy\")"
   ]
  },
  {
   "cell_type": "code",
   "execution_count": 54,
   "metadata": {},
   "outputs": [
    {
     "data": {
      "image/png": "[encoded data removed]",
      "text/plain": [
       "<Figure size 698.4x698.4 with 16 Axes>"
      ]
     },
     "metadata": {},
     "output_type": "display_data"
    }
   ],
   "source": [
    "oc.plot_corner(oocct[-1].sampler)"
   ]
  },
  {
   "cell_type": "code",
   "execution_count": 63,
   "metadata": {},
   "outputs": [],
   "source": [
    "tt = [0.0199009793340327*2.65860467535e+15*mt.C.s.express(mt.C.Myr)*ti for ti in range(11)]"
   ]
  },
  {
   "cell_type": "code",
   "execution_count": 78,
   "metadata": {},
   "outputs": [
    {
     "data": {
      "image/png": "[encoded data removed]",
      "text/plain": [
       "<Figure size 360x360 with 1 Axes>"
      ]
     },
     "metadata": {},
     "output_type": "display_data"
    }
   ],
   "source": [
    "plt.figure(figsize=(5,5))\n",
    "for ioc in range(4):\n",
    "    #plt.plot(tt,[oocct[ic].theta[ioc] for ic in range(11)])\n",
    "    plt.errorbar(tt,[oocct[ic].theta[ioc] for ic in range(11)],yerr=[oocct[ic].std[ioc]*40 for ic in range(11)],marker=\"o\",ms=4)    \n",
    "plt.show()\n",
    "\n"
   ]
  },
  {
   "cell_type": "code",
   "execution_count": 26,
   "metadata": {},
   "outputs": [],
   "source": [
    "Ai,Bi,Ci,Ki = oocct[0].theta"
   ]
  },
  {
   "cell_type": "code",
   "execution_count": 58,
   "metadata": {},
   "outputs": [
    {
     "data": {
      "text/plain": [
       "(13.548698928319046,\n",
       " -13.936310461221911,\n",
       " 0.00445957250469419,\n",
       " 5.750046700977569)"
      ]
     },
     "execution_count": 58,
     "metadata": {},
     "output_type": "execute_result"
    }
   ],
   "source": [
    "Ai,Bi,Ci,Ki"
   ]
  }
 ],
 "metadata": {
  "kernelspec": {
   "display_name": "Python 2",
   "language": "python",
   "name": "python2"
  },
  "language_info": {
   "codemirror_mode": {
    "name": "ipython",
    "version": 2
   },
   "file_extension": ".py",
   "mimetype": "text/x-python",
   "name": "python",
   "nbconvert_exporter": "python",
   "pygments_lexer": "ipython2",
   "version": "2.7.15"
  }
 },
 "nbformat": 4,
 "nbformat_minor": 2
}
