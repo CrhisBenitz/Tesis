{
 "cells": [
  {
   "cell_type": "code",
   "execution_count": null,
   "metadata": {},
   "outputs": [],
   "source": [
    "import pandas as pd"
   ]
  },
  {
   "cell_type": "code",
   "execution_count": null,
   "metadata": {},
   "outputs": [],
   "source": [
    "import sys"
   ]
  },
  {
   "cell_type": "code",
   "execution_count": null,
   "metadata": {},
   "outputs": [],
   "source": [
    "sys.path.append(\"/fs/nas14/other0/cbenitez/Pkgs/\")"
   ]
  },
  {
   "cell_type": "code",
   "execution_count": null,
   "metadata": {},
   "outputs": [],
   "source": [
    "import MT as mt"
   ]
  },
  {
   "cell_type": "code",
   "execution_count": null,
   "metadata": {},
   "outputs": [],
   "source": [
    "import numpy as np"
   ]
  },
  {
   "cell_type": "code",
   "execution_count": null,
   "metadata": {},
   "outputs": [],
   "source": [
    "import matplotlib.pyplot as plt"
   ]
  },
  {
   "cell_type": "code",
   "execution_count": null,
   "metadata": {},
   "outputs": [],
   "source": [
    "from mpl_toolkits import mplot3d\n",
    "from mpl_toolkits.mplot3d import Axes3D"
   ]
  },
  {
   "cell_type": "code",
   "execution_count": null,
   "metadata": {},
   "outputs": [],
   "source": [
    "import emcee3 as mc"
   ]
  },
  {
   "cell_type": "code",
   "execution_count": null,
   "metadata": {},
   "outputs": [],
   "source": [
    "import corner"
   ]
  },
  {
   "cell_type": "markdown",
   "metadata": {},
   "source": [
    "__________________"
   ]
  },
  {
   "cell_type": "code",
   "execution_count": null,
   "metadata": {},
   "outputs": [],
   "source": [
    "def vb_model(c,theta):\n",
    "    A,B,C,K = theta\n",
    "    #return -c[0]*np.sin(c[2])*(K+C*np.cos(2*c[1])+A*np.sin(2*c[1]))+v_LSR[0]*np.sin(c[2])*np.cos(c[1])+v_LSR[1]*np.sin(c[2])*np.sin(c[1])\n",
    "    return -c[0]*np.sin(c[2])*np.cos(c[2])*(K+C*np.cos(2*c[1])+A*np.sin(2*c[1]))\n",
    "def vell_model(c,theta):\n",
    "    A,B,C,K = theta\n",
    "    #return c[0]*np.cos(c[2])*(B+A*np.cos(2*c[1])-C*np.sin(2*c[1]))-v_LSR[0]*np.sin(c[1])-v_LSR[1]*np.cos(c[1])\n",
    "    return c[0]*np.cos(c[2])*(B+A*np.cos(2*c[1])-C*np.sin(2*c[1]))"
   ]
  },
  {
   "cell_type": "code",
   "execution_count": null,
   "metadata": {},
   "outputs": [],
   "source": [
    "def cart2galactic(coord,coord_sun):\n",
    "    zh = np.array([0.,0.,1.])\n",
    "    Xh_new = -coord_sun/np.linalg.norm(coord_sun)\n",
    "    Yh_new = np.cross(zh,Xh_new)\n",
    "    dr = coord-coord_sun\n",
    "    drn = np.linalg.norm(dr)\n",
    "    ell = np.arctan2(Yh_new.dot(dr),Xh_new.dot(dr))\n",
    "    b = np.arcsin((coord[2]-coord_sun[2])/drn)\n",
    "    return np.array([drn,ell,b])"
   ]
  },
  {
   "cell_type": "code",
   "execution_count": null,
   "metadata": {},
   "outputs": [],
   "source": [
    "def vcart2vgalactic(coord,coord_sun,vel,vel_sun):\n",
    "    dv = vel-vel_sun\n",
    "    #dv = vel\n",
    "    dr = coord-coord_sun\n",
    "    v_r = dv.dot(dr)/np.linalg.norm(dr)\n",
    "    v_ell = np.cross(dv,dr)[2]/np.linalg.norm(dr[:2:])\n",
    "    v_b = -(dr[2]*(dr[0]*dv[0]+dr[1]*dv[1])-(dr[0]**2+dr[1]**2)*dv[2])/(np.linalg.norm(dr)**2*np.sqrt(dr[0]**2+dr[1]**2))\n",
    "    return np.array([v_r, v_ell, v_b])"
   ]
  },
  {
   "cell_type": "code",
   "execution_count": null,
   "metadata": {},
   "outputs": [],
   "source": [
    "plt.plot([.1/(np.linalg.norm(c-r_LSR)+.1) for c in np.array(can211[['x','y','z']])])"
   ]
  },
  {
   "cell_type": "code",
   "execution_count": null,
   "metadata": {},
   "outputs": [],
   "source": [
    "def vcart2vgalactic_exp(coord,coord_sun,vel,vel_sun,mod):\n",
    "    dv = vel-vel_sun\n",
    "    #dv = vel\n",
    "    dr = coord-coord_sun\n",
    "    v_r = dv.dot(dr)/np.linalg.norm(dr)+mod/(np.linalg.norm(dr)+.1)\n",
    "    v_ell = np.cross(dv,dr)[2]/np.linalg.norm(dr[:2:])\n",
    "    v_b = -(dr[2]*(dr[0]*dv[0]+dr[1]*dv[1])-(dr[0]**2+dr[1]**2)*dv[2])/(np.linalg.norm(dr)**2*np.sqrt(dr[0]**2+dr[1]**2))\n",
    "    return np.array([v_r, v_ell, v_b])"
   ]
  },
  {
   "cell_type": "markdown",
   "metadata": {},
   "source": [
    "_______"
   ]
  },
  {
   "cell_type": "code",
   "execution_count": null,
   "metadata": {},
   "outputs": [],
   "source": [
    "can,lsr = mt.read_dat(mt.tardir+'canicas_geoamr/','canicas_geoamr','canicas_geoamrLSR')"
   ]
  },
  {
   "cell_type": "code",
   "execution_count": null,
   "metadata": {},
   "outputs": [],
   "source": [
    "ec = 2\n",
    "tc = 11\n",
    "\n",
    "fig = plt.figure(figsize=(9,9))\n",
    "\n",
    "ax = fig.add_subplot(2,2,1)\n",
    "ax.scatter(can.x[(can.edad==ec) & (can.tiempo==tc)],can.y[(can.edad==ec) & (can.tiempo==tc)],s=4)\n",
    "ax.scatter([7.4],[-.2],c='r')\n",
    "ax.set_xlabel(r'$x \\mathrm{[kpc]}$',fontsize=14)\n",
    "ax.set_ylabel(r'$y \\mathrm{[kpc]}$',fontsize=14)\n",
    "ax.set_xlim(3,8)\n",
    "ax.set_ylim(-2.5,2.5)\n",
    "\n",
    "ax = fig.add_subplot(2,2,2)\n",
    "ax.scatter(can.x[(can.edad==ec) & (can.tiempo==tc)],can.z[(can.edad==ec) & (can.tiempo==tc)],s=4)\n",
    "ax.set_xlabel(r'$x \\mathrm{[kpc]}$',fontsize=14)\n",
    "ax.set_ylabel(r'$z \\mathrm{[kpc]}$',fontsize=14)\n",
    "ax.set_xlim(3,8)\n",
    "ax.set_ylim(-2.5,2.5)\n",
    "\n",
    "ax = fig.add_subplot(2,2,3)\n",
    "ax.scatter(can.y[(can.edad==ec) & (can.tiempo==tc)],can.z[(can.edad==ec) & (can.tiempo==tc)],s=4)\n",
    "ax.set_xlabel(r'$y \\mathrm{[kpc]}$',fontsize=14)\n",
    "ax.set_ylabel(r'$z \\mathrm{[kpc]}$',fontsize=14)\n",
    "ax.set_xlim(-2.5,2.5)\n",
    "ax.set_ylim(-2.5,2.5)\n",
    "\n",
    "ax = fig.add_subplot(2, 2, 4, projection='3d')\n",
    "ax.scatter(np.array(can.x[(can.edad==ec) & (can.tiempo==tc)]),\\\n",
    "           np.array(can.y[(can.edad==ec) & (can.tiempo==tc)]),\\\n",
    "           np.array(can.z[(can.edad==ec) & (can.tiempo==tc)]),\\\n",
    "           c = np.array(can.dens[(can.edad==ec) & (can.tiempo==tc)]), alpha=.3, marker='o')\n",
    "ax.set_xlabel(r'$x \\mathrm{[kpc]}$',fontsize=10)\n",
    "ax.set_ylabel(r'$y \\mathrm{[kpc]}$',fontsize=10)\n",
    "ax.set_zlabel(r'$z \\mathrm{[kpc]}$',fontsize=10)\n",
    "ax.set_xlim(3,8)\n",
    "ax.set_ylim(-2.5,2.5)\n",
    "ax.set_zlim(-2.5,2.5)\n",
    "\n",
    "plt.show()\n"
   ]
  },
  {
   "cell_type": "code",
   "execution_count": null,
   "metadata": {},
   "outputs": [],
   "source": [
    "can211 = can[(can.edad==2) & (can.tiempo==11)].copy()"
   ]
  },
  {
   "cell_type": "code",
   "execution_count": null,
   "metadata": {},
   "outputs": [],
   "source": [
    "can211[['vx','vy','vz']] = can211[['vx','vy','vz']]*30856802500000000.00"
   ]
  },
  {
   "cell_type": "code",
   "execution_count": null,
   "metadata": {},
   "outputs": [],
   "source": [
    "#r_LSR = np.array([6.8,-1.3,0]) #3,17\n",
    "r_LSR = np.array([7.4,-.2,0.]) #2,11\n",
    "v_LSR = mt.vel_circ(r_LSR,mt.force_T,)*30856802500000000.00 \n",
    "#v_LSR = np.array(np.sqrt(abs(np.dot(mt.force_T(r_LSR[0],r_LSR[1],r_LSR[2]),[r_LSR[0],r_LSR[1],r_LSR[2]])))*np.array([r_LSR[1],-r_LSR[0],0.0])/np.linalg.norm(r_LSR))*30856802500000000.00 "
   ]
  },
  {
   "cell_type": "code",
   "execution_count": null,
   "metadata": {},
   "outputs": [],
   "source": [
    "#vv_galac = [vcart2vgalactic(np.array(can211[['x','y','z']])[i],r_LSR,np.array(can211[['vx','vy','vz']])[i],v_LSR) for i in range(len(can211))]  \n",
    "vv_circ_cart = np.array([mt.vel_circ(c,mt.force_T,)*30856802500000000.00 for c in np.array(can211[['x','y','z']])])\n",
    "cc_cart = np.array(can211[['x','y','z']])\n",
    "vv_galac = np.array([vcart2vgalactic(cc_cart[i],r_LSR,vv_circ_cart[i],v_LSR) for i in range(len(vv_circ_cart))])\n",
    "cc_galac = np.array([cart2galactic(c,r_LSR) for c in cc_cart])"
   ]
  },
  {
   "cell_type": "code",
   "execution_count": null,
   "metadata": {},
   "outputs": [],
   "source": [
    "ll = np.linspace(-np.pi,np.pi,500)\n",
    "\n",
    "fig, axs = plt.subplots(3, 1, sharex=True,figsize=(9,9))\n",
    "fig.subplots_adjust(hspace=0)\n",
    "\n",
    "axs[0].scatter([c[1] for c in cc_galac],[v[0] for v in vv_galac],s=4)\n",
    "axs[1].scatter([c[1] for c in cc_galac],[v[1] for v in vv_galac],s=4)\n",
    "axs[2].scatter([c[1] for c in cc_galac],[v[2] for v in vv_galac],s=4)\n",
    "\n",
    "#axs[0].set_yticks(np.arange(-0.9, 1.0, 0.4))\n",
    "#axs[0].set_ylim(-1, 1)\n",
    "\n",
    "plt.xlabel(r'$\\ell$',fontsize=14)\n",
    "axs[0].set_ylabel(r'$v_{r}$',fontsize=14)\n",
    "axs[1].set_ylabel(r'$v_{\\ell}$',fontsize=14)\n",
    "axs[2].set_ylabel(r'$v_{b}$',fontsize=14)\n",
    "\n",
    "plt.show()"
   ]
  },
  {
   "cell_type": "code",
   "execution_count": null,
   "metadata": {},
   "outputs": [],
   "source": [
    "ll = np.linspace(-np.pi,np.pi,500)\n",
    "\n",
    "fig, axs = plt.subplots(3, 1, sharex=True,figsize=(9,9))\n",
    "fig.subplots_adjust(hspace=0)\n",
    "\n",
    "axs[0].scatter([c[1] for c in cc_galac],[vv_galac[i][0]/cc_galac[i][0]/np.cos(cc_galac[i][2]) for i in range(len(vv_galac))],s=4)\n",
    "axs[1].scatter([c[1] for c in cc_galac],[vv_galac[i][1]/cc_galac[i][0]/np.cos(cc_galac[i][2]) for i in range(len(vv_galac))],s=4)\n",
    "axs[2].scatter([c[1] for c in cc_galac],[vv_galac[i][2]/cc_galac[i][0]/np.sin(cc_galac[i][2])/np.cos(cc_galac[i][2]) for i in range(len(vv_galac))],s=4)\n",
    "\n",
    "#axs[0].set_yticks(np.arange(-0.9, 1.0, 0.4))\n",
    "#axs[0].set_ylim(-1, 1)\n",
    "\n",
    "plt.xlabel(r'$\\ell$',fontsize=14)\n",
    "axs[0].set_ylabel(r'$\\frac{v_{r}}{r\\cos{b}}$',fontsize=14)\n",
    "axs[1].set_ylabel(r'$\\Delta\\mu_{\\ell}\\,\\,\\, \\left(\\frac{v_{\\ell}}{r\\cos{b}} \\right)$',fontsize=14)\n",
    "axs[2].set_ylabel(r'$\\Delta\\mu_b \\,\\,\\, \\left(\\frac{v_{b}}{r\\sin{b}\\cos{b}}\\right)$',fontsize=14)\n",
    "axs[2].set_ylim(-150,150)\n",
    "plt.show()"
   ]
  },
  {
   "cell_type": "markdown",
   "metadata": {},
   "source": [
    "________"
   ]
  },
  {
   "cell_type": "markdown",
   "metadata": {},
   "source": [
    "$$\\ln \\mathcal{L}=-\\frac{1}{2} \\sum_{i}\\left(\\frac{\\left[v_{\\ell}^{i}-v_{\\ell}\\left(r_i,\\ell_{i}, b_{i}\\right)\\right]^{2}}{\\sigma_{v\\ell}^{2}}+\\ln \\sigma_{v \\ell}^{2}+\\frac{\\left[v_{b}^{i}-v_{b}\\left(r_i,\\ell_{i}, b_{i}\\right)\\right]^{2}}{\\sigma_{v b}^{2}}+\\ln \\sigma_{v_{b}}^{2}\\right)$$"
   ]
  },
  {
   "cell_type": "code",
   "execution_count": null,
   "metadata": {},
   "outputs": [],
   "source": [
    "def log_likelihood(theta, coords, vels):\n",
    "    #A,B,C,K = theta\n",
    "    velleq = [vell_model(c,theta) for c in coords]\n",
    "    vbeq = [vb_model(c,theta) for c in coords]\n",
    "    vvell = np.array([v[1] for v in vels])\n",
    "    vvb = np.array([v[2] for v in vels])\n",
    "    #sigma2 = dveq ** 2 * np.array([np.exp(2*logf1),np.exp(2*logf2)])\n",
    "    return -0.5 * np.sum(np.sqrt((vvell - velleq)** 2) +np.sqrt((vvb - vbeq)** 2) )"
   ]
  },
  {
   "cell_type": "code",
   "execution_count": null,
   "metadata": {},
   "outputs": [],
   "source": [
    "def log_prior(theta):\n",
    "    A,B,C,K = theta\n",
    "    if -20.0 < A < 20 and -20 < B < 20.0 and -20.0 < C < 20.0 and -20.<K<20.:\n",
    "        return 0.0\n",
    "    return -np.inf\n",
    "    #return 0.0"
   ]
  },
  {
   "cell_type": "code",
   "execution_count": null,
   "metadata": {},
   "outputs": [],
   "source": [
    "def log_probability(theta, coords, vels):\n",
    "    lp = log_prior(theta)\n",
    "    if not np.isfinite(lp):\n",
    "        return -np.inf\n",
    "    return lp + log_likelihood(theta, coords, vels)"
   ]
  },
  {
   "cell_type": "code",
   "execution_count": null,
   "metadata": {},
   "outputs": [],
   "source": [
    "from scipy.optimize import minimize"
   ]
  },
  {
   "cell_type": "code",
   "execution_count": null,
   "metadata": {},
   "outputs": [],
   "source": [
    "np.random.seed(42)\n",
    "nll = lambda *args: -log_likelihood(*args)\n",
    "initial = np.array([0.,0.,0.,0.])\n",
    "soln = minimize(nll, initial,method = 'Nelder-Mead', args=(cc_galac, vv_galac))"
   ]
  },
  {
   "cell_type": "code",
   "execution_count": null,
   "metadata": {
    "scrolled": true
   },
   "outputs": [],
   "source": [
    "soln"
   ]
  },
  {
   "cell_type": "code",
   "execution_count": null,
   "metadata": {},
   "outputs": [],
   "source": [
    "pos = soln.x + 1e-4 * np.random.randn(50, 4)\n",
    "nwalkers, ndim = pos.shape\n",
    "\n",
    "sampler = mc.EnsembleSampler(nwalkers, ndim, log_probability, args=(cc_galac, vv_galac))\n",
    "sampler.run_mcmc(pos, 1000,progress=True);"
   ]
  },
  {
   "cell_type": "code",
   "execution_count": null,
   "metadata": {},
   "outputs": [],
   "source": [
    "fig, axes = plt.subplots(4, figsize=(10, 7), sharex=True)\n",
    "samples = sampler.get_chain()\n",
    "labels = [\"A\", \"B\", \"C\",'K']\n",
    "for i in range(4):\n",
    "    ax = axes[i]\n",
    "    ax.plot(samples[:, :, i], \"k\", alpha=0.3)\n",
    "    ax.set_xlim(0, len(samples))\n",
    "    ax.set_ylabel(labels[i])\n",
    "    ax.yaxis.set_label_coords(-0.1, 0.5)\n",
    "\n",
    "axes[-1].set_xlabel(\"step number\");"
   ]
  },
  {
   "cell_type": "code",
   "execution_count": null,
   "metadata": {},
   "outputs": [],
   "source": [
    "flat_samples = sampler.get_chain(discard=50, thin=15, flat=True)\n",
    "\n",
    "fig = corner.corner(\n",
    "    flat_samples,  labels=labels\n",
    ");"
   ]
  },
  {
   "cell_type": "code",
   "execution_count": null,
   "metadata": {},
   "outputs": [],
   "source": [
    "mcmc = [np.percentile(flat_samples[:, i], [16, 50, 84]) for i in range(ndim)]\n",
    "qq = [np.diff(mcmc[i]) for i in range(ndim)]\n",
    "theta_f = [par[1] for par in mcmc]"
   ]
  },
  {
   "cell_type": "code",
   "execution_count": null,
   "metadata": {},
   "outputs": [],
   "source": [
    "ll = np.linspace(-np.pi,np.pi,500)\n",
    "\n",
    "fig, axs = plt.subplots(2, 1, sharex=True,figsize=(9,9))\n",
    "fig.subplots_adjust(hspace=0)\n",
    "\n",
    "axs[0].plot(ll,[vell_model(c,theta_f)/.4/np.cos(.35) for c in [np.array([.4,l,.35]) for l in ll]])\n",
    "axs[0].scatter([c[1] for c in cc_galac],[vv_galac[i][1]/cc_galac[i][0]/np.cos(cc_galac[i][2]) for i in range(len(vv_galac))],s=4)\n",
    "axs[1].plot(ll,[-vb_model(c,theta_f)/.4/np.cos(.35)/np.sin(.35) for c in [np.array([.4,l,.35]) for l in ll]])\n",
    "axs[1].scatter([c[1] for c in cc_galac],[vv_galac[i][2]/cc_galac[i][0]/np.sin(cc_galac[i][2])/np.cos(cc_galac[i][2]) for i in range(len(vv_galac))],s=4)\n",
    "\n",
    "#axs[0].set_yticks(np.arange(-0.9, 1.0, 0.4))\n",
    "#axs[0].set_ylim(-1, 1)\n",
    "\n",
    "plt.xlabel(r'$\\ell$',fontsize=14)\n",
    "axs[0].set_ylabel(r'$\\Delta\\mu_{\\ell}\\,\\,\\, \\left(\\frac{v_{\\ell}}{r\\cos{b}} \\right)$',fontsize=14)\n",
    "axs[1].set_ylabel(r'$\\Delta\\mu_b \\,\\,\\, \\left(\\frac{v_{b}}{r\\sin{b}}\\right)$',fontsize=14)\n",
    "axs[1].set_ylim(-150,150)\n",
    "plt.show()"
   ]
  },
  {
   "cell_type": "code",
   "execution_count": null,
   "metadata": {},
   "outputs": [],
   "source": [
    "theta_f"
   ]
  },
  {
   "cell_type": "markdown",
   "metadata": {},
   "source": [
    "____________"
   ]
  },
  {
   "cell_type": "markdown",
   "metadata": {},
   "source": [
    "## Con ruido"
   ]
  },
  {
   "cell_type": "code",
   "execution_count": null,
   "metadata": {},
   "outputs": [],
   "source": [
    "vv_cruido = vv_galac * (1. + .2*np.random.rand(len(vv_galac),3) -.1)"
   ]
  },
  {
   "cell_type": "code",
   "execution_count": null,
   "metadata": {},
   "outputs": [],
   "source": [
    "ll = np.linspace(-np.pi,np.pi,500)\n",
    "vv = vv_cruido\n",
    "fig, axs = plt.subplots(3, 1, sharex=True,figsize=(9,9))\n",
    "fig.subplots_adjust(hspace=0)\n",
    "\n",
    "axs[0].scatter([c[1] for c in cc_galac],[v[0] for v in vv],s=4,label='con ruido')\n",
    "axs[1].scatter([c[1] for c in cc_galac],[v[1] for v in vv],s=4)\n",
    "axs[2].scatter([c[1] for c in cc_galac],[v[2] for v in vv],s=4)\n",
    "axs[0].scatter([c[1] for c in cc_galac],[v[0] for v in vv_galac],s=4,c='orange',label='sin ruido')\n",
    "axs[1].scatter([c[1] for c in cc_galac],[v[1] for v in vv_galac],s=4,c='orange')\n",
    "axs[2].scatter([c[1] for c in cc_galac],[v[2] for v in vv_galac],s=4,c='orange')\n",
    "\n",
    "#axs[0].set_yticks(np.arange(-0.9, 1.0, 0.4))\n",
    "#axs[0].set_ylim(-1, 1)\n",
    "\n",
    "plt.xlabel(r'$\\ell$',fontsize=14)\n",
    "axs[0].set_ylabel(r'$v_{r}$',fontsize=14)\n",
    "axs[1].set_ylabel(r'$v_{\\ell}$',fontsize=14)\n",
    "axs[2].set_ylabel(r'$v_{b}$',fontsize=14)\n",
    "\n",
    "axs[0].legend()\n",
    "\n",
    "plt.show()"
   ]
  },
  {
   "cell_type": "code",
   "execution_count": null,
   "metadata": {},
   "outputs": [],
   "source": [
    "ll = np.linspace(-np.pi,np.pi,500)\n",
    "\n",
    "fig, axs = plt.subplots(3, 1, sharex=True,figsize=(9,9))\n",
    "fig.subplots_adjust(hspace=0)\n",
    "\n",
    "axs[0].scatter([c[1] for c in cc_galac],[vv[i][0]/cc_galac[i][0]/np.cos(cc_galac[i][2]) for i in range(len(vv))],s=4)\n",
    "axs[1].scatter([c[1] for c in cc_galac],[vv[i][1]/cc_galac[i][0]/np.cos(cc_galac[i][2]) for i in range(len(vv))],s=4)\n",
    "axs[2].scatter([c[1] for c in cc_galac],[vv[i][2]/cc_galac[i][0]/np.sin(cc_galac[i][2])/np.cos(cc_galac[i][2]) for i in range(len(vv_galac))],s=4)\n",
    "\n",
    "#axs[0].set_yticks(np.arange(-0.9, 1.0, 0.4))\n",
    "#axs[0].set_ylim(-1, 1)\n",
    "\n",
    "plt.xlabel(r'$\\ell$',fontsize=14)\n",
    "axs[0].set_ylabel(r'$\\frac{v_{r}}{r\\cos{b}}$',fontsize=14)\n",
    "axs[1].set_ylabel(r'$\\Delta\\mu_{\\ell}\\,\\,\\, \\left(\\frac{v_{\\ell}}{r\\cos{b}} \\right)$',fontsize=14)\n",
    "axs[2].set_ylabel(r'$\\Delta\\mu_b \\,\\,\\, \\left(\\frac{v_{b}}{r\\sin{b}\\cos{b}}\\right)$',fontsize=14)\n",
    "axs[2].set_ylim(-150,150)\n",
    "plt.show()"
   ]
  },
  {
   "cell_type": "code",
   "execution_count": null,
   "metadata": {},
   "outputs": [],
   "source": [
    "def walk(vv):\n",
    "    np.random.seed(42)\n",
    "    nll = lambda *args: -log_likelihood(*args)\n",
    "    initial = np.array([0.,0.,0.,0.])\n",
    "    soln = minimize(nll, initial,method = 'Nelder-Mead', args=(cc_galac, vv))\n",
    "    pos = soln.x + 1e-4 * np.random.randn(50, 4)\n",
    "    nwalkers, ndim = pos.shape\n",
    "\n",
    "    sampler = mc.EnsembleSampler(nwalkers, ndim, log_probability, args=(cc_galac, vv_galac))\n",
    "    sampler.run_mcmc(pos, 1000,progress=True);\n",
    "    \n",
    "    mcmc = [np.percentile(flat_samples[:, i], [16, 50, 84]) for i in range(ndim)]\n",
    "    qq = [np.diff(mcmc[i]) for i in range(ndim)]\n",
    "    return [par[1] for par in mcmc], mcmc, qq, sampler"
   ]
  },
  {
   "cell_type": "code",
   "execution_count": null,
   "metadata": {},
   "outputs": [],
   "source": [
    "cam = walk(vv_cruido)"
   ]
  },
  {
   "cell_type": "code",
   "execution_count": null,
   "metadata": {},
   "outputs": [],
   "source": [
    "cam = cam_ruido"
   ]
  },
  {
   "cell_type": "code",
   "execution_count": null,
   "metadata": {},
   "outputs": [],
   "source": [
    "fig, axes = plt.subplots(4, figsize=(10, 7), sharex=True)\n",
    "samples = cam[3].get_chain()\n",
    "labels = [\"A\", \"B\", \"C\",'K']\n",
    "for i in range(4):\n",
    "    ax = axes[i]\n",
    "    ax.plot(samples[:, :, i], \"k\", alpha=0.3)\n",
    "    ax.set_xlim(0, len(samples))\n",
    "    ax.set_ylabel(labels[i])\n",
    "    ax.yaxis.set_label_coords(-0.1, 0.5)\n",
    "\n",
    "axes[-1].set_xlabel(\"step number\");"
   ]
  },
  {
   "cell_type": "code",
   "execution_count": null,
   "metadata": {},
   "outputs": [],
   "source": [
    "flat_samples = cam[3].get_chain(discard=50, thin=15, flat=True)\n",
    "fig = corner.corner(\n",
    "    flat_samples,  labels=labels\n",
    ");"
   ]
  },
  {
   "cell_type": "code",
   "execution_count": null,
   "metadata": {},
   "outputs": [],
   "source": [
    "fig, axs = plt.subplots(2, 1, sharex=True,figsize=(9,9))\n",
    "fig.subplots_adjust(hspace=0)\n",
    "\n",
    "axs[0].plot(ll,[vell_model(c,cam[0])/.4/np.cos(.35) for c in [np.array([.4,l,.35]) for l in ll]])\n",
    "axs[0].scatter([c[1] for c in cc_galac],[vv[i][1]/cc_galac[i][0]/np.cos(cc_galac[i][2]) for i in range(len(vv_galac))],s=4)\n",
    "axs[1].plot(ll,[-vb_model(c,cam[0])/.4/np.cos(.35)/np.sin(.35) for c in [np.array([.4,l,.35]) for l in ll]])\n",
    "axs[1].scatter([c[1] for c in cc_galac],[vv[i][2]/cc_galac[i][0]/np.sin(cc_galac[i][2])/np.cos(cc_galac[i][2]) for i in range(len(vv_galac))],s=4)\n",
    "\n",
    "#axs[0].set_yticks(np.arange(-0.9, 1.0, 0.4))\n",
    "#axs[0].set_ylim(-1, 1)\n",
    "\n",
    "plt.xlabel(r'$\\ell$',fontsize=14)\n",
    "axs[0].set_ylabel(r'$\\Delta\\mu_{\\ell}\\,\\,\\, \\left(\\frac{v_{\\ell}}{r\\cos{b}} \\right)$',fontsize=14)\n",
    "axs[1].set_ylabel(r'$\\Delta\\mu_b \\,\\,\\, \\left(\\frac{v_{b}}{r\\sin{b}}\\right)$',fontsize=14)\n",
    "axs[1].set_ylim(-150,150)\n",
    "plt.show()"
   ]
  },
  {
   "cell_type": "code",
   "execution_count": null,
   "metadata": {},
   "outputs": [],
   "source": [
    "cam[0]"
   ]
  },
  {
   "cell_type": "markdown",
   "metadata": {},
   "source": [
    "__________"
   ]
  },
  {
   "cell_type": "markdown",
   "metadata": {},
   "source": [
    "## Con expansión"
   ]
  },
  {
   "cell_type": "code",
   "execution_count": null,
   "metadata": {},
   "outputs": [],
   "source": [
    "vv_cexp = np.array([vcart2vgalactic_exp(cc_cart[i],r_LSR,vv_circ_cart[i],v_LSR,.1) for i in range(len(vv_circ_cart))])"
   ]
  },
  {
   "cell_type": "code",
   "execution_count": null,
   "metadata": {},
   "outputs": [],
   "source": [
    "ll = np.linspace(-np.pi,np.pi,500)\n",
    "vv = vv_cexp\n",
    "fig, axs = plt.subplots(3, 1, sharex=True,figsize=(9,9))\n",
    "fig.subplots_adjust(hspace=0)\n",
    "\n",
    "axs[0].scatter([c[1] for c in cc_galac],[v[0] for v in vv],s=4,label='con ruido')\n",
    "axs[1].scatter([c[1] for c in cc_galac],[v[1] for v in vv],s=4)\n",
    "axs[2].scatter([c[1] for c in cc_galac],[v[2] for v in vv],s=4)\n",
    "axs[0].scatter([c[1] for c in cc_galac],[v[0] for v in vv_galac],s=4,c='orange',label='sin ruido')\n",
    "axs[1].scatter([c[1] for c in cc_galac],[v[1] for v in vv_galac],s=4,c='orange')\n",
    "axs[2].scatter([c[1] for c in cc_galac],[v[2] for v in vv_galac],s=4,c='orange')\n",
    "\n",
    "#axs[0].set_yticks(np.arange(-0.9, 1.0, 0.4))\n",
    "#axs[0].set_ylim(-1, 1)\n",
    "\n",
    "plt.xlabel(r'$\\ell$',fontsize=14)\n",
    "axs[0].set_ylabel(r'$v_{r}$',fontsize=14)\n",
    "axs[1].set_ylabel(r'$v_{\\ell}$',fontsize=14)\n",
    "axs[2].set_ylabel(r'$v_{b}$',fontsize=14)\n",
    "\n",
    "axs[0].legend()\n",
    "\n",
    "plt.show()"
   ]
  },
  {
   "cell_type": "code",
   "execution_count": null,
   "metadata": {},
   "outputs": [],
   "source": [
    "ll = np.linspace(-np.pi,np.pi,500)\n",
    "\n",
    "fig, axs = plt.subplots(3, 1, sharex=True,figsize=(9,9))\n",
    "fig.subplots_adjust(hspace=0)\n",
    "\n",
    "axs[0].scatter([c[1] for c in cc_galac],[vv[i][0]/cc_galac[i][0]/np.cos(cc_galac[i][2]) for i in range(len(vv))],s=4)\n",
    "axs[1].scatter([c[1] for c in cc_galac],[vv[i][1]/cc_galac[i][0]/np.cos(cc_galac[i][2]) for i in range(len(vv))],s=4)\n",
    "axs[2].scatter([c[1] for c in cc_galac],[vv[i][2]/cc_galac[i][0]/np.sin(cc_galac[i][2])/np.cos(cc_galac[i][2]) for i in range(len(vv_galac))],s=4)\n",
    "\n",
    "#axs[0].set_yticks(np.arange(-0.9, 1.0, 0.4))\n",
    "#axs[0].set_ylim(-1, 1)\n",
    "\n",
    "plt.xlabel(r'$\\ell$',fontsize=14)\n",
    "axs[0].set_ylabel(r'$\\frac{v_{r}}{r\\cos{b}}$',fontsize=14)\n",
    "axs[1].set_ylabel(r'$\\Delta\\mu_{\\ell}\\,\\,\\, \\left(\\frac{v_{\\ell}}{r\\cos{b}} \\right)$',fontsize=14)\n",
    "axs[2].set_ylabel(r'$\\Delta\\mu_b \\,\\,\\, \\left(\\frac{v_{b}}{r\\sin{b}\\cos{b}}\\right)$',fontsize=14)\n",
    "axs[2].set_ylim(-150,150)\n",
    "plt.show()"
   ]
  },
  {
   "cell_type": "code",
   "execution_count": null,
   "metadata": {},
   "outputs": [],
   "source": [
    "cam2 = walk(vv_cruido)"
   ]
  },
  {
   "cell_type": "code",
   "execution_count": null,
   "metadata": {},
   "outputs": [],
   "source": [
    "fig, axes = plt.subplots(4, figsize=(10, 7), sharex=True)\n",
    "samples = cam2[3].get_chain()\n",
    "labels = [\"A\", \"B\", \"C\",'K']\n",
    "for i in range(4):\n",
    "    ax = axes[i]\n",
    "    ax.plot(samples[:, :, i], \"k\", alpha=0.3)\n",
    "    ax.set_xlim(0, len(samples))\n",
    "    ax.set_ylabel(labels[i])\n",
    "    ax.yaxis.set_label_coords(-0.1, 0.5)\n",
    "\n",
    "axes[-1].set_xlabel(\"step number\");"
   ]
  },
  {
   "cell_type": "code",
   "execution_count": null,
   "metadata": {},
   "outputs": [],
   "source": [
    "flat_samples = cam2[3].get_chain(discard=50, thin=15, flat=True)\n",
    "fig = corner.corner(\n",
    "    flat_samples,  labels=labels\n",
    ");"
   ]
  },
  {
   "cell_type": "code",
   "execution_count": null,
   "metadata": {},
   "outputs": [],
   "source": [
    "fig, axs = plt.subplots(2, 1, sharex=True,figsize=(9,9))\n",
    "fig.subplots_adjust(hspace=0)\n",
    "\n",
    "axs[0].plot(ll,[vell_model(c,cam2[0])/.4/np.cos(.35) for c in [np.array([.4,l,.35]) for l in ll]])\n",
    "axs[0].scatter([c[1] for c in cc_galac],[vv[i][1]/cc_galac[i][0]/np.cos(cc_galac[i][2]) for i in range(len(vv_galac))],s=4)\n",
    "axs[1].plot(ll,[-vb_model(c,cam2[0])/.4/np.cos(.35)/np.sin(.35) for c in [np.array([.4,l,.35]) for l in ll]])\n",
    "axs[1].scatter([c[1] for c in cc_galac],[vv[i][2]/cc_galac[i][0]/np.sin(cc_galac[i][2])/np.cos(cc_galac[i][2]) for i in range(len(vv_galac))],s=4)\n",
    "\n",
    "#axs[0].set_yticks(np.arange(-0.9, 1.0, 0.4))\n",
    "#axs[0].set_ylim(-1, 1)\n",
    "\n",
    "plt.xlabel(r'$\\ell$',fontsize=14)\n",
    "axs[0].set_ylabel(r'$\\Delta\\mu_{\\ell}\\,\\,\\, \\left(\\frac{v_{\\ell}}{r\\cos{b}} \\right)$',fontsize=14)\n",
    "axs[1].set_ylabel(r'$\\Delta\\mu_b \\,\\,\\, \\left(\\frac{v_{b}}{r\\sin{b}}\\right)$',fontsize=14)\n",
    "axs[1].set_ylim(-150,150)\n",
    "plt.show()"
   ]
  },
  {
   "cell_type": "code",
   "execution_count": null,
   "metadata": {},
   "outputs": [],
   "source": [
    "cam2[0]"
   ]
  },
  {
   "cell_type": "code",
   "execution_count": null,
   "metadata": {},
   "outputs": [],
   "source": []
  }
 ],
 "metadata": {
  "kernelspec": {
   "display_name": "Python 2",
   "language": "python",
   "name": "python2"
  },
  "language_info": {
   "codemirror_mode": {
    "name": "ipython",
    "version": 2
   },
   "file_extension": ".py",
   "mimetype": "text/x-python",
   "name": "python",
   "nbconvert_exporter": "python",
   "pygments_lexer": "ipython2",
   "version": "2.7.15"
  }
 },
 "nbformat": 4,
 "nbformat_minor": 2
}
