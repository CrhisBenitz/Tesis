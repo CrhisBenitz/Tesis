{
 "cells": [
  {
   "cell_type": "code",
   "execution_count": 1,
   "metadata": {
    "collapsed": true
   },
   "outputs": [],
   "source": [
    "using SymPy"
   ]
  },
  {
   "cell_type": "code",
   "execution_count": 47,
   "metadata": {},
   "outputs": [
    {
     "data": {
      "text/plain": [
       "(f1, r, z, b1, M1, M2, M3, a2, a3, b2, R, c)"
      ]
     },
     "execution_count": 47,
     "metadata": {},
     "output_type": "execute_result"
    }
   ],
   "source": [
    "f1,r,z,b1,M1,M2,M3,a2,a3,b2,R,c=symbols(\"f1,r,z,b1,M1,M2,M3,a2,a3,b2,R,c\")"
   ]
  },
  {
   "cell_type": "code",
   "execution_count": 43,
   "metadata": {},
   "outputs": [
    {
     "data": {
      "text/latex": [
       "$$\\sqrt{r^{2} + z^{2}}$$"
      ],
      "text/plain": [
       "   _________\n",
       "  /  2    2 \n",
       "\\/  r  + z  "
      ]
     },
     "execution_count": 43,
     "metadata": {},
     "output_type": "execute_result"
    }
   ],
   "source": [
    "R=sqrt(r^2+z^2)"
   ]
  },
  {
   "cell_type": "code",
   "execution_count": 13,
   "metadata": {},
   "outputs": [
    {
     "data": {
      "text/latex": [
       "$$- \\frac{M_{1}}{\\sqrt{b_{1}^{2} + r^{2} + z^{2}}}$$"
      ],
      "text/plain": [
       "       -M1        \n",
       "------------------\n",
       "   _______________\n",
       "  /   2    2    2 \n",
       "\\/  b1  + r  + z  "
      ]
     },
     "execution_count": 13,
     "metadata": {},
     "output_type": "execute_result"
    }
   ],
   "source": [
    "f1 = - M1/sqrt(r^2+z^2+b1^2)"
   ]
  },
  {
   "cell_type": "code",
   "execution_count": 14,
   "metadata": {},
   "outputs": [
    {
     "data": {
      "text/latex": [
       "$$- \\frac{M_{1} r}{\\left(b_{1}^{2} + r^{2} + z^{2}\\right)^{\\frac{3}{2}}}$$"
      ],
      "text/plain": [
       "      -M1*r       \n",
       "------------------\n",
       "               3/2\n",
       "/  2    2    2\\   \n",
       "\\b1  + r  + z /   "
      ]
     },
     "execution_count": 14,
     "metadata": {},
     "output_type": "execute_result"
    }
   ],
   "source": [
    "derf1 = - diff(f1,r)"
   ]
  },
  {
   "cell_type": "code",
   "execution_count": 15,
   "metadata": {},
   "outputs": [
    {
     "data": {
      "text/latex": [
       "$$- \\frac{M_{2}}{\\sqrt{r^{2} + \\left(a_{2} + \\sqrt{b_{2}^{2} + z^{2}}\\right)^{2}}}$$"
      ],
      "text/plain": [
       "               -M2               \n",
       "---------------------------------\n",
       "     ____________________________\n",
       "    /                          2 \n",
       "   /       /        __________\\  \n",
       "  /    2   |       /   2    2 |  \n",
       "\\/    r  + \\a2 + \\/  b2  + z  /  "
      ]
     },
     "execution_count": 15,
     "metadata": {},
     "output_type": "execute_result"
    }
   ],
   "source": [
    "f2 = - M2/sqrt(r^2 + (a2 + sqrt(z^2+b2^2) )^2)"
   ]
  },
  {
   "cell_type": "code",
   "execution_count": 16,
   "metadata": {},
   "outputs": [
    {
     "data": {
      "text/latex": [
       "$$- \\frac{M_{2} r}{\\left(r^{2} + \\left(a_{2} + \\sqrt{b_{2}^{2} + z^{2}}\\right)^{2}\\right)^{\\frac{3}{2}}}$$"
      ],
      "text/plain": [
       "             -M2*r             \n",
       "-------------------------------\n",
       "                            3/2\n",
       "/                         2\\   \n",
       "|     /        __________\\ |   \n",
       "| 2   |       /   2    2 | |   \n",
       "\\r  + \\a2 + \\/  b2  + z  / /   "
      ]
     },
     "execution_count": 16,
     "metadata": {},
     "output_type": "execute_result"
    }
   ],
   "source": [
    "derf2 = - diff(f2,r)"
   ]
  },
  {
   "cell_type": "code",
   "execution_count": 48,
   "metadata": {},
   "outputs": [
    {
     "data": {
      "text/latex": [
       "$$- \\frac{0.980392156862745 M_{3}}{a_{3}} \\left(- \\log{\\left (\\left(\\frac{R}{a_{3}}\\right)^{1.02} + 1 \\right )} + \\log{\\left (\\left(\\frac{c}{a_{3}}\\right)^{1.02} + 1 \\right )} - \\frac{1.02}{\\left(\\frac{c}{a_{3}}\\right)^{1.02} + 1} + \\frac{1.02}{\\left(\\frac{R}{a_{3}}\\right)^{1.02} + 1}\\right) - \\frac{M_{3} \\left(\\frac{R}{a_{3}}\\right)^{2.02}}{R \\left(\\left(\\frac{R}{a_{3}}\\right)^{1.02} + 1\\right)}$$"
      ],
      "text/plain": [
       "                       /     /    1.02    \\      /    1.02    \\               \n",
       "                       |     |/R \\        |      |/c \\        |       1.02    \n",
       "  0.980392156862745*M3*|- log||--|     + 1| + log||--|     + 1| - ------------\n",
       "                       |     \\\\a3/        /      \\\\a3/        /       1.02    \n",
       "                       |                                          /c \\        \n",
       "                       |                                          |--|     + 1\n",
       "                       \\                                          \\a3/        \n",
       "- ----------------------------------------------------------------------------\n",
       "                                               a3                             \n",
       "                                                                              \n",
       "                                                                              \n",
       "                                                                              \n",
       "\n",
       "               \\                   \n",
       "       1.02    |                   \n",
       " + ------------|                   \n",
       "       1.02    |            2.02   \n",
       "   /R \\        |        /R \\       \n",
       "   |--|     + 1|     M3*|--|       \n",
       "   \\a3/        /        \\a3/       \n",
       "---------------- - ----------------\n",
       "                     /    1.02    \\\n",
       "                     |/R \\        |\n",
       "                   R*||--|     + 1|\n",
       "                     \\\\a3/        /"
      ]
     },
     "execution_count": 48,
     "metadata": {},
     "output_type": "execute_result"
    }
   ],
   "source": [
    "f3 = (- (M3*(R/a3)^2.02/(1+(R/a3)^1.02))/R - M3/1.02/a3 * (-1.02/(1+(c/a3)^1.02) + log(1 + (c/a3)^1.02)  - ( -1.02/(1+(R/a3)^1.02) + log(1 + (R/a3)^1.02) )))"
   ]
  },
  {
   "cell_type": "code",
   "execution_count": 49,
   "metadata": {},
   "outputs": [
    {
     "data": {
      "text/latex": [
       "$$\\frac{1.0 M_{3} \\left(- 2.02 R \\left(\\frac{R}{a_{3}}\\right)^{1.02} - 1.0 R \\left(\\frac{R}{a_{3}}\\right)^{2.04} + 1.02 a_{3} \\left(\\frac{R}{a_{3}}\\right)^{2.02}\\right)}{R^{2} a_{3} \\left(2.0 \\left(\\frac{R}{a_{3}}\\right)^{1.02} + 1.0 \\left(\\frac{R}{a_{3}}\\right)^{2.04} + 1.0\\right)}$$"
      ],
      "text/plain": [
       "       /             1.02             2.04               2.02\\\n",
       "       |         /R \\             /R \\               /R \\    |\n",
       "1.0*M3*|- 2.02*R*|--|     - 1.0*R*|--|     + 1.02*a3*|--|    |\n",
       "       \\         \\a3/             \\a3/               \\a3/    /\n",
       "--------------------------------------------------------------\n",
       "                /        1.02           2.04      \\           \n",
       "           2    |    /R \\           /R \\          |           \n",
       "          R *a3*|2.0*|--|     + 1.0*|--|     + 1.0|           \n",
       "                \\    \\a3/           \\a3/          /           "
      ]
     },
     "execution_count": 49,
     "metadata": {},
     "output_type": "execute_result"
    }
   ],
   "source": [
    "derf3 = simplify(- diff(f3,R))"
   ]
  },
  {
   "cell_type": "code",
   "execution_count": 37,
   "metadata": {},
   "outputs": [
    {
     "data": {
      "text/latex": [
       "$$\\frac{r}{\\sqrt{r^{2} + z^{2}}}$$"
      ],
      "text/plain": [
       "     r      \n",
       "------------\n",
       "   _________\n",
       "  /  2    2 \n",
       "\\/  r  + z  "
      ]
     },
     "execution_count": 37,
     "metadata": {},
     "output_type": "execute_result"
    }
   ],
   "source": [
    "diff(R,r)"
   ]
  },
  {
   "cell_type": "code",
   "execution_count": null,
   "metadata": {
    "collapsed": true
   },
   "outputs": [],
   "source": []
  }
 ],
 "metadata": {
  "kernelspec": {
   "display_name": "Julia 0.6.0",
   "language": "julia",
   "name": "julia-0.6"
  },
  "language_info": {
   "file_extension": ".jl",
   "mimetype": "application/julia",
   "name": "julia",
   "version": "0.6.0"
  }
 },
 "nbformat": 4,
 "nbformat_minor": 2
}
