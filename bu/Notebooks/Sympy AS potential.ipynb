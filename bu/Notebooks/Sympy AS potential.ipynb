{
 "cells": [
  {
   "cell_type": "code",
   "execution_count": 2,
   "metadata": {},
   "outputs": [],
   "source": [
    "using Pkg"
   ]
  },
  {
   "cell_type": "code",
   "execution_count": 3,
   "metadata": {
    "scrolled": true
   },
   "outputs": [
    {
     "name": "stderr",
     "output_type": "stream",
     "text": [
      "\u001b[32m\u001b[1m   Updating\u001b[22m\u001b[39m registry at `~/.julia/registries/General`\n"
     ]
    },
    {
     "name": "stdout",
     "output_type": "stream",
     "text": [
      "\u001b[?25l    "
     ]
    },
    {
     "name": "stderr",
     "output_type": "stream",
     "text": [
      "\u001b[32m\u001b[1m   Updating\u001b[22m\u001b[39m git-repo `https://github.com/JuliaRegistries/General.git`\n"
     ]
    },
    {
     "name": "stdout",
     "output_type": "stream",
     "text": [
      "    \u001b[36m\u001b[1mFetching:\u001b[22m\u001b[39m [======================>                  ]  53.5 %\u001b[36m\u001b[1mFetching:\u001b[22m\u001b[39m [=====>                                   ]  10.1 %\u001b[36m\u001b[1mFetching:\u001b[22m\u001b[39m [=====>                                   ]  10.2 %\u001b[36m\u001b[1mFetching:\u001b[22m\u001b[39m [=====>                                   ]  10.4 %\u001b[36m\u001b[1mFetching:\u001b[22m\u001b[39m [=====>                                   ]  10.5 %\u001b[36m\u001b[1mFetching:\u001b[22m\u001b[39m [=====>                                   ]  10.7 %\u001b[36m\u001b[1mFetching:\u001b[22m\u001b[39m [=====>                                   ]  10.8 %\u001b[36m\u001b[1mFetching:\u001b[22m\u001b[39m [=====>                                   ]  10.9 %\u001b[36m\u001b[1mFetching:\u001b[22m\u001b[39m [=====>                                   ]  11.0 %\u001b[36m\u001b[1mFetching:\u001b[22m\u001b[39m [=====>                                   ]  11.1 %\u001b[36m\u001b[1mFetching:\u001b[22m\u001b[39m [=====>                                   ]  11.2 %\u001b[36m\u001b[1mFetching:\u001b[22m\u001b[39m [=====>                                   ]  11.3 %\u001b[36m\u001b[1mFetching:\u001b[22m\u001b[39m [=====>                                   ]  11.4 %\u001b[36m\u001b[1mFetching:\u001b[22m\u001b[39m [=====>                                   ]  11.5 %\u001b[36m\u001b[1mFetching:\u001b[22m\u001b[39m [=====>                                   ]  11.6 %\u001b[36m\u001b[1mFetching:\u001b[22m\u001b[39m [=====>                                   ]  11.7 %\u001b[36m\u001b[1mFetching:\u001b[22m\u001b[39m [=====>                                   ]  11.8 %\u001b[36m\u001b[1mFetching:\u001b[22m\u001b[39m [=====>                                   ]  12.0 %\u001b[36m\u001b[1mFetching:\u001b[22m\u001b[39m [=====>                                   ]  12.1 %\u001b[36m\u001b[1mFetching:\u001b[22m\u001b[39m [=====>                                   ]  12.2 %\u001b[36m\u001b[1mFetching:\u001b[22m\u001b[39m [=====>                                   ]  12.3 %\u001b[36m\u001b[1mFetching:\u001b[22m\u001b[39m [=====>                                   ]  12.4 %\u001b[36m\u001b[1mFetching:\u001b[22m\u001b[39m [=====>                                   ]  12.5 %\u001b[36m\u001b[1mFetching:\u001b[22m\u001b[39m [======>                                  ]  12.6 %\u001b[36m\u001b[1mFetching:\u001b[22m\u001b[39m [======>                                  ]  12.7 %\u001b[36m\u001b[1mFetching:\u001b[22m\u001b[39m [======>                                  ]  12.8 %\u001b[36m\u001b[1mFetching:\u001b[22m\u001b[39m [======>                                  ]  12.9 %\u001b[36m\u001b[1mFetching:\u001b[22m\u001b[39m [======>                                  ]  13.0 %\u001b[36m\u001b[1mFetching:\u001b[22m\u001b[39m [======>                                  ]  13.1 %\u001b[36m\u001b[1mFetching:\u001b[22m\u001b[39m [======>                                  ]  13.2 %\u001b[36m\u001b[1mFetching:\u001b[22m\u001b[39m [======>                                  ]  13.3 %\u001b[36m\u001b[1mFetching:\u001b[22m\u001b[39m [======>                                  ]  13.4 %\u001b[36m\u001b[1mFetching:\u001b[22m\u001b[39m [======>                                  ]  13.6 %\u001b[36m\u001b[1mFetching:\u001b[22m\u001b[39m [======>                                  ]  13.7 %\u001b[36m\u001b[1mFetching:\u001b[22m\u001b[39m [======>                                  ]  13.8 %\u001b[36m\u001b[1mFetching:\u001b[22m\u001b[39m [======>                                  ]  13.9 %\u001b[36m\u001b[1mFetching:\u001b[22m\u001b[39m [======>                                  ]  14.0 %\u001b[36m\u001b[1mFetching:\u001b[22m\u001b[39m [======>                                  ]  14.1 %\u001b[36m\u001b[1mFetching:\u001b[22m\u001b[39m [======>                                  ]  14.2 %\u001b[36m\u001b[1mFetching:\u001b[22m\u001b[39m [======>                                  ]  14.3 %\u001b[36m\u001b[1mFetching:\u001b[22m\u001b[39m [======>                                  ]  14.4 %\u001b[36m\u001b[1mFetching:\u001b[22m\u001b[39m [======>                                  ]  14.5 %\u001b[36m\u001b[1mFetching:\u001b[22m\u001b[39m [======>                                  ]  14.7 %\u001b[36m\u001b[1mFetching:\u001b[22m\u001b[39m [======>                                  ]  14.8 %\u001b[36m\u001b[1mFetching:\u001b[22m\u001b[39m [======>                                  ]  14.9 %\u001b[36m\u001b[1mFetching:\u001b[22m\u001b[39m [======>                                  ]  15.0 %\u001b[36m\u001b[1mFetching:\u001b[22m\u001b[39m [=======>                                 ]  15.1 %\u001b[36m\u001b[1mFetching:\u001b[22m\u001b[39m [=======>                                 ]  15.2 %\u001b[36m\u001b[1mFetching:\u001b[22m\u001b[39m [=======>                                 ]  15.3 %\u001b[36m\u001b[1mFetching:\u001b[22m\u001b[39m [=======>                                 ]  15.4 %\u001b[36m\u001b[1mFetching:\u001b[22m\u001b[39m [=======>                                 ]  15.5 %\u001b[36m\u001b[1mFetching:\u001b[22m\u001b[39m [=======>                                 ]  15.6 %\u001b[36m\u001b[1mFetching:\u001b[22m\u001b[39m [=======>                                 ]  15.7 %\u001b[36m\u001b[1mFetching:\u001b[22m\u001b[39m [=======>                                 ]  15.8 %\u001b[36m\u001b[1mFetching:\u001b[22m\u001b[39m [=======>                                 ]  15.9 %\u001b[36m\u001b[1mFetching:\u001b[22m\u001b[39m [=======>                                 ]  16.0 %\u001b[36m\u001b[1mFetching:\u001b[22m\u001b[39m [=======>                                 ]  16.3 %\u001b[36m\u001b[1mFetching:\u001b[22m\u001b[39m [=======>                                 ]  16.8 %\u001b[36m\u001b[1mFetching:\u001b[22m\u001b[39m [=======>                                 ]  17.4 %\u001b[36m\u001b[1mFetching:\u001b[22m\u001b[39m [========>                                ]  18.2 %\u001b[36m\u001b[1mFetching:\u001b[22m\u001b[39m [========>                                ]  18.5 %\u001b[36m\u001b[1mFetching:\u001b[22m\u001b[39m [========>                                ]  19.1 %\u001b[36m\u001b[1mFetching:\u001b[22m\u001b[39m [========>                                ]  19.4 %\u001b[36m\u001b[1mFetching:\u001b[22m\u001b[39m [=========>                               ]  20.0 %\u001b[36m\u001b[1mFetching:\u001b[22m\u001b[39m [=============>                           ]  30.4 %\u001b[36m\u001b[1mFetching:\u001b[22m\u001b[39m [=============>                           ]  30.9 %\u001b[36m\u001b[1mFetching:\u001b[22m\u001b[39m [=============>                           ]  31.6 %\u001b[36m\u001b[1mFetching:\u001b[22m\u001b[39m [=============>                           ]  31.9 %\u001b[36m\u001b[1mFetching:\u001b[22m\u001b[39m [=============>                           ]  32.1 %\u001b[36m\u001b[1mFetching:\u001b[22m\u001b[39m [==============>                          ]  32.7 %\u001b[36m\u001b[1mFetching:\u001b[22m\u001b[39m [==============>                          ]  33.3 %\u001b[36m\u001b[1mFetching:\u001b[22m\u001b[39m [==============>                          ]  33.8 %\u001b[36m\u001b[1mFetching:\u001b[22m\u001b[39m [==============>                          ]  34.4 %\u001b[36m\u001b[1mFetching:\u001b[22m\u001b[39m [==============>                          ]  34.9 %\u001b[36m\u001b[1mFetching:\u001b[22m\u001b[39m [===============>                         ]  35.3 %\u001b[36m\u001b[1mFetching:\u001b[22m\u001b[39m [===============>                         ]  36.1 %\u001b[36m\u001b[1mFetching:\u001b[22m\u001b[39m [===============>                         ]  36.7 %\u001b[36m\u001b[1mFetching:\u001b[22m\u001b[39m [===============>                         ]  37.3 %\u001b[36m\u001b[1mFetching:\u001b[22m\u001b[39m [================>                        ]  37.7 %\u001b[36m\u001b[1mFetching:\u001b[22m\u001b[39m [================>                        ]  38.2 %\u001b[36m\u001b[1mFetching:\u001b[22m\u001b[39m [================>                        ]  38.8 %\u001b[36m\u001b[1mFetching:\u001b[22m\u001b[39m [================>                        ]  39.4 %\u001b[36m\u001b[1mFetching:\u001b[22m\u001b[39m [================>                        ]  39.9 %\u001b[36m\u001b[1mFetching:\u001b[22m\u001b[39m [=====================>                   ]  50.2 %\u001b[36m\u001b[1mFetching:\u001b[22m\u001b[39m [=====================>                   ]  50.4 %\u001b[36m\u001b[1mFetching:\u001b[22m\u001b[39m [=====================>                   ]  50.5 %\u001b[36m\u001b[1mFetching:\u001b[22m\u001b[39m [=====================>                   ]  50.6 %\u001b[36m\u001b[1mFetching:\u001b[22m\u001b[39m [=====================>                   ]  50.8 %\u001b[36m\u001b[1mFetching:\u001b[22m\u001b[39m [=====================>                   ]  51.0 %\u001b[36m\u001b[1mFetching:\u001b[22m\u001b[39m [=====================>                   ]  51.1 %\u001b[36m\u001b[1mFetching:\u001b[22m\u001b[39m [=====================>                   ]  51.3 %\u001b[36m\u001b[1mFetching:\u001b[22m\u001b[39m [=====================>                   ]  51.4 %\u001b[36m\u001b[1mFetching:\u001b[22m\u001b[39m [=====================>                   ]  51.6 %\u001b[36m\u001b[1mFetching:\u001b[22m\u001b[39m [=====================>                   ]  51.7 %\u001b[36m\u001b[1mFetching:\u001b[22m\u001b[39m [=====================>                   ]  51.9 %\u001b[36m\u001b[1mFetching:\u001b[22m\u001b[39m [=====================>                   ]  52.1 %\u001b[36m\u001b[1mFetching:\u001b[22m\u001b[39m [=====================>                   ]  52.2 %\u001b[36m\u001b[1mFetching:\u001b[22m\u001b[39m [=====================>                   ]  52.3 %\u001b[36m\u001b[1mFetching:\u001b[22m\u001b[39m [======================>                  ]  52.5 %\u001b[36m\u001b[1mFetching:\u001b[22m\u001b[39m [======================>                  ]  52.8 %\u001b[36m\u001b[1mFetching:\u001b[22m\u001b[39m [======================>                  ]  53.0 %\u001b[36m\u001b[1mFetching:\u001b[22m\u001b[39m [======================>                  ]  53.2 %\u001b[36m\u001b[1mFetching:\u001b[22m\u001b[39m [======================>                  ]  53.4 %"
     ]
    },
    {
     "name": "stdout",
     "output_type": "stream",
     "text": [
      "\u001b[2K\u001b[?25h[1mFetching:\u001b[22m\u001b[39m [========================================>]  100.0 %[36m\u001b[1mFetching:\u001b[22m\u001b[39m [======================>                  ]  54.0 %\u001b[36m\u001b[1mFetching:\u001b[22m\u001b[39m [======================>                  ]  54.1 %\u001b[36m\u001b[1mFetching:\u001b[22m\u001b[39m [======================>                  ]  54.3 %\u001b[36m\u001b[1mFetching:\u001b[22m\u001b[39m [======================>                  ]  54.5 %\u001b[36m\u001b[1mFetching:\u001b[22m\u001b[39m [======================>                  ]  54.7 %\u001b[36m\u001b[1mFetching:\u001b[22m\u001b[39m [======================>                  ]  54.9 %\u001b[36m\u001b[1mFetching:\u001b[22m\u001b[39m [=======================>                 ]  55.0 %\u001b[36m\u001b[1mFetching:\u001b[22m\u001b[39m [=======================>                 ]  55.2 %\u001b[36m\u001b[1mFetching:\u001b[22m\u001b[39m [=======================>                 ]  55.5 %\u001b[36m\u001b[1mFetching:\u001b[22m\u001b[39m [=======================>                 ]  55.7 %\u001b[36m\u001b[1mFetching:\u001b[22m\u001b[39m [=======================>                 ]  55.9 %\u001b[36m\u001b[1mFetching:\u001b[22m\u001b[39m [=======================>                 ]  56.1 %\u001b[36m\u001b[1mFetching:\u001b[22m\u001b[39m [=======================>                 ]  56.2 %\u001b[36m\u001b[1mFetching:\u001b[22m\u001b[39m [=======================>                 ]  56.5 %\u001b[36m\u001b[1mFetching:\u001b[22m\u001b[39m [=======================>                 ]  56.7 %\u001b[36m\u001b[1mFetching:\u001b[22m\u001b[39m [=======================>                 ]  56.8 %\u001b[36m\u001b[1mFetching:\u001b[22m\u001b[39m [=======================>                 ]  57.0 %\u001b[36m\u001b[1mFetching:\u001b[22m\u001b[39m [=======================>                 ]  57.2 %\u001b[36m\u001b[1mFetching:\u001b[22m\u001b[39m [=======================>                 ]  57.4 %\u001b[36m\u001b[1mFetching:\u001b[22m\u001b[39m [========================>                ]  57.6 %\u001b[36m\u001b[1mFetching:\u001b[22m\u001b[39m [========================>                ]  57.8 %\u001b[36m\u001b[1mFetching:\u001b[22m\u001b[39m [========================>                ]  57.9 %\u001b[36m\u001b[1mFetching:\u001b[22m\u001b[39m [========================>                ]  58.1 %\u001b[36m\u001b[1mFetching:\u001b[22m\u001b[39m [========================>                ]  58.3 %\u001b[36m\u001b[1mFetching:\u001b[22m\u001b[39m [========================>                ]  58.5 %\u001b[36m\u001b[1mFetching:\u001b[22m\u001b[39m [========================>                ]  58.6 %\u001b[36m\u001b[1mFetching:\u001b[22m\u001b[39m [========================>                ]  58.9 %\u001b[36m\u001b[1mFetching:\u001b[22m\u001b[39m [========================>                ]  59.2 %\u001b[36m\u001b[1mFetching:\u001b[22m\u001b[39m [========================>                ]  59.4 %\u001b[36m\u001b[1mFetching:\u001b[22m\u001b[39m [========================>                ]  59.6 %\u001b[36m\u001b[1mFetching:\u001b[22m\u001b[39m [========================>                ]  59.9 %\u001b[36m\u001b[1mFetching:\u001b[22m\u001b[39m [=========================>               ]  60.0 %\u001b[36m\u001b[1mFetching:\u001b[22m\u001b[39m [=============================>           ]  70.2 %\u001b[36m\u001b[1mFetching:\u001b[22m\u001b[39m [=============================>           ]  70.5 %\u001b[36m\u001b[1mFetching:\u001b[22m\u001b[39m [=============================>           ]  70.7 %\u001b[36m\u001b[1mFetching:\u001b[22m\u001b[39m [=============================>           ]  70.9 %\u001b[36m\u001b[1mFetching:\u001b[22m\u001b[39m [=============================>           ]  71.1 %\u001b[36m\u001b[1mFetching:\u001b[22m\u001b[39m [=============================>           ]  71.3 %\u001b[36m\u001b[1mFetching:\u001b[22m\u001b[39m [=============================>           ]  71.5 %\u001b[36m\u001b[1mFetching:\u001b[22m\u001b[39m [=============================>           ]  71.7 %\u001b[36m\u001b[1mFetching:\u001b[22m\u001b[39m [=============================>           ]  72.2 %\u001b[36m\u001b[1mFetching:\u001b[22m\u001b[39m [==============================>          ]  72.5 %\u001b[36m\u001b[1mFetching:\u001b[22m\u001b[39m [==============================>          ]  72.7 %\u001b[36m\u001b[1mFetching:\u001b[22m\u001b[39m [==============================>          ]  73.0 %\u001b[36m\u001b[1mFetching:\u001b[22m\u001b[39m [==============================>          ]  73.2 %\u001b[36m\u001b[1mFetching:\u001b[22m\u001b[39m [==============================>          ]  73.5 %\u001b[36m\u001b[1mFetching:\u001b[22m\u001b[39m [==============================>          ]  73.8 %\u001b[36m\u001b[1mFetching:\u001b[22m\u001b[39m [==============================>          ]  74.1 %\u001b[36m\u001b[1mFetching:\u001b[22m\u001b[39m [==============================>          ]  74.4 %\u001b[36m\u001b[1mFetching:\u001b[22m\u001b[39m [==============================>          ]  74.7 %\u001b[36m\u001b[1mFetching:\u001b[22m\u001b[39m [===============================>         ]  75.0 %\u001b[36m\u001b[1mFetching:\u001b[22m\u001b[39m [===============================>         ]  75.4 %\u001b[36m\u001b[1mFetching:\u001b[22m\u001b[39m [===============================>         ]  75.6 %\u001b[36m\u001b[1mFetching:\u001b[22m\u001b[39m [===============================>         ]  75.8 %\u001b[36m\u001b[1mFetching:\u001b[22m\u001b[39m [===============================>         ]  76.1 %\u001b[36m\u001b[1mFetching:\u001b[22m\u001b[39m [===============================>         ]  76.5 %\u001b[36m\u001b[1mFetching:\u001b[22m\u001b[39m [===============================>         ]  76.8 %\u001b[36m\u001b[1mFetching:\u001b[22m\u001b[39m [===============================>         ]  77.2 %\u001b[36m\u001b[1mFetching:\u001b[22m\u001b[39m [================================>        ]  77.5 %\u001b[36m\u001b[1mFetching:\u001b[22m\u001b[39m [================================>        ]  77.9 %\u001b[36m\u001b[1mFetching:\u001b[22m\u001b[39m [================================>        ]  78.1 %\u001b[36m\u001b[1mFetching:\u001b[22m\u001b[39m [================================>        ]  78.5 %\u001b[36m\u001b[1mFetching:\u001b[22m\u001b[39m [================================>        ]  78.9 %\u001b[36m\u001b[1mFetching:\u001b[22m\u001b[39m [================================>        ]  79.3 %\u001b[36m\u001b[1mFetching:\u001b[22m\u001b[39m [================================>        ]  79.8 %\u001b[36m\u001b[1mFetching:\u001b[22m\u001b[39m [=====================================>   ]  90.6 %\u001b[36m\u001b[1mFetching:\u001b[22m\u001b[39m [=====================================>   ]  91.4 %\u001b[36m\u001b[1mFetching:\u001b[22m\u001b[39m [=====================================>   ]  92.3 %\u001b[36m\u001b[1mFetching:\u001b[22m\u001b[39m [======================================>  ]  93.1 %\u001b[36m\u001b[1mFetching:\u001b[22m\u001b[39m [======================================>  ]  94.0 %\u001b[36m\u001b[1mFetching:\u001b[22m\u001b[39m [======================================>  ]  94.6 %\u001b[36m\u001b[1mFetching:\u001b[22m\u001b[39m [=======================================> ]  95.3 %\u001b[36m\u001b[1mFetching:\u001b[22m\u001b[39m [=======================================> ]  96.3 %\u001b[36m\u001b[1mFetching:\u001b[22m\u001b[39m [=======================================> ]  97.1 %"
     ]
    },
    {
     "name": "stderr",
     "output_type": "stream",
     "text": [
      "\u001b[32m\u001b[1m  Resolving\u001b[22m\u001b[39m package versions...\n",
      "\u001b[32m\u001b[1m  Installed\u001b[22m\u001b[39m libfdk_aac_jll ─────────────── v0.1.6+4\n",
      "\u001b[32m\u001b[1m  Installed\u001b[22m\u001b[39m LAME_jll ───────────────────── v3.100.0+3\n",
      "\u001b[32m\u001b[1m  Installed\u001b[22m\u001b[39m libass_jll ─────────────────── v0.14.0+4\n",
      "\u001b[32m\u001b[1m  Installed\u001b[22m\u001b[39m Opus_jll ───────────────────── v1.3.1+3\n",
      "\u001b[32m\u001b[1m  Installed\u001b[22m\u001b[39m FriBidi_jll ────────────────── v1.0.5+6\n",
      "\u001b[32m\u001b[1m  Installed\u001b[22m\u001b[39m FreeType2_jll ──────────────── v2.10.1+5\n",
      "\u001b[32m\u001b[1m  Installed\u001b[22m\u001b[39m ZeroMQ_jll ─────────────────── v4.3.2+6\n",
      "\u001b[32m\u001b[1m  Installed\u001b[22m\u001b[39m Bzip2_jll ──────────────────── v1.0.6+5\n",
      "\u001b[32m\u001b[1m  Installed\u001b[22m\u001b[39m OpenSSL_jll ────────────────── v1.1.1+6\n",
      "\u001b[32m\u001b[1m  Installed\u001b[22m\u001b[39m Zlib_jll ───────────────────── v1.2.11+18\n",
      "\u001b[32m\u001b[1m  Installed\u001b[22m\u001b[39m x265_jll ───────────────────── v3.0.0+3\n",
      "\u001b[32m\u001b[1m  Installed\u001b[22m\u001b[39m Ogg_jll ────────────────────── v1.3.4+2\n",
      "\u001b[32m\u001b[1m  Installed\u001b[22m\u001b[39m libsodium_jll ──────────────── v1.0.18+1\n",
      "\u001b[32m\u001b[1m  Installed\u001b[22m\u001b[39m OpenSpecFun_jll ────────────── v0.5.3+4\n",
      "\u001b[32m\u001b[1m  Installed\u001b[22m\u001b[39m CompilerSupportLibraries_jll ─ v0.3.4+0\n",
      "\u001b[32m\u001b[1m  Installed\u001b[22m\u001b[39m JLLWrappers ────────────────── v1.2.0\n",
      "\u001b[32m\u001b[1m  Installed\u001b[22m\u001b[39m libvorbis_jll ──────────────── v1.3.6+6\n",
      "\u001b[32m\u001b[1m  Installed\u001b[22m\u001b[39m Artifacts ──────────────────── v1.3.0\n",
      "\u001b[32m\u001b[1m  Installed\u001b[22m\u001b[39m Compat ─────────────────────── v3.25.0\n",
      "\u001b[32m\u001b[1m  Installed\u001b[22m\u001b[39m SymPy ──────────────────────── v1.0.41\n",
      "\u001b[32m\u001b[1m  Installed\u001b[22m\u001b[39m SpecialFunctions ───────────── v1.3.0\n",
      "\u001b[32m\u001b[1m  Installed\u001b[22m\u001b[39m ChainRulesCore ─────────────── v0.9.29\n",
      "######################################################################### 100.0%\n",
      "######################################################################### 100.0%################                                         46.8%#                                     52.5%\n",
      "######################################################################### 100.0%############################                   77.2%\n",
      "######################################################################### 100.0%\n",
      "######################################################################### 100.0%\n",
      "######################################################################### 100.0%                                   31.9%       75.0%#########################################################    97.3%\n",
      "######################################################################### 100.0%\n",
      "\u001b[32m\u001b[1m   Updating\u001b[22m\u001b[39m `~/.julia/environments/v1.4/Project.toml`\n",
      " \u001b[90m [24249f21]\u001b[39m\u001b[92m + SymPy v1.0.41\u001b[39m\n",
      "\u001b[32m\u001b[1m   Updating\u001b[22m\u001b[39m `~/.julia/environments/v1.4/Manifest.toml`\n",
      " \u001b[90m [56f22d72]\u001b[39m\u001b[92m + Artifacts v1.3.0\u001b[39m\n",
      " \u001b[90m [6e34b625]\u001b[39m\u001b[93m ↑ Bzip2_jll v1.0.6+3 ⇒ v1.0.6+5\u001b[39m\n",
      " \u001b[90m [d360d2e6]\u001b[39m\u001b[92m + ChainRulesCore v0.9.29\u001b[39m\n",
      " \u001b[90m [34da2185]\u001b[39m\u001b[92m + Compat v3.25.0\u001b[39m\n",
      " \u001b[90m [e66e0078]\u001b[39m\u001b[92m + CompilerSupportLibraries_jll v0.3.4+0\u001b[39m\n",
      " \u001b[90m [d7e528f0]\u001b[39m\u001b[93m ↑ FreeType2_jll v2.10.1+3 ⇒ v2.10.1+5\u001b[39m\n",
      " \u001b[90m [559328eb]\u001b[39m\u001b[93m ↑ FriBidi_jll v1.0.5+4 ⇒ v1.0.5+6\u001b[39m\n",
      " \u001b[90m [692b3bcd]\u001b[39m\u001b[92m + JLLWrappers v1.2.0\u001b[39m\n",
      " \u001b[90m [c1c5ebd0]\u001b[39m\u001b[93m ↑ LAME_jll v3.100.0+2 ⇒ v3.100.0+3\u001b[39m\n",
      " \u001b[90m [e7412a2a]\u001b[39m\u001b[93m ↑ Ogg_jll v1.3.4+1 ⇒ v1.3.4+2\u001b[39m\n",
      " \u001b[90m [458c3c95]\u001b[39m\u001b[93m ↑ OpenSSL_jll v1.1.1+5 ⇒ v1.1.1+6\u001b[39m\n",
      " \u001b[90m [efe28fd5]\u001b[39m\u001b[92m + OpenSpecFun_jll v0.5.3+4\u001b[39m\n",
      " \u001b[90m [91d4177d]\u001b[39m\u001b[93m ↑ Opus_jll v1.3.1+2 ⇒ v1.3.1+3\u001b[39m\n",
      " \u001b[90m [276daf66]\u001b[39m\u001b[92m + SpecialFunctions v1.3.0\u001b[39m\n",
      " \u001b[90m [24249f21]\u001b[39m\u001b[92m + SymPy v1.0.41\u001b[39m\n",
      " \u001b[90m [8f1865be]\u001b[39m\u001b[93m ↑ ZeroMQ_jll v4.3.2+4 ⇒ v4.3.2+6\u001b[39m\n",
      " \u001b[90m [83775a58]\u001b[39m\u001b[93m ↑ Zlib_jll v1.2.11+15 ⇒ v1.2.11+18\u001b[39m\n",
      " \u001b[90m [0ac62f75]\u001b[39m\u001b[93m ↑ libass_jll v0.14.0+3 ⇒ v0.14.0+4\u001b[39m\n",
      " \u001b[90m [f638f0a6]\u001b[39m\u001b[93m ↑ libfdk_aac_jll v0.1.6+3 ⇒ v0.1.6+4\u001b[39m\n",
      " \u001b[90m [a9144af2]\u001b[39m\u001b[92m + libsodium_jll v1.0.18+1\u001b[39m\n",
      " \u001b[90m [f27f6e37]\u001b[39m\u001b[93m ↑ libvorbis_jll v1.3.6+5 ⇒ v1.3.6+6\u001b[39m\n",
      " \u001b[90m [dfaa095f]\u001b[39m\u001b[93m ↑ x265_jll v3.0.0+2 ⇒ v3.0.0+3\u001b[39m\n",
      " \u001b[90m [1a1011a3]\u001b[39m\u001b[92m + SharedArrays \u001b[39m\n"
     ]
    }
   ],
   "source": [
    "Pkg.add(\"SymPy\")"
   ]
  },
  {
   "cell_type": "code",
   "execution_count": 4,
   "metadata": {},
   "outputs": [
    {
     "name": "stderr",
     "output_type": "stream",
     "text": [
      "┌ Info: Precompiling SymPy [24249f21-da20-56a4-8eb1-6a02cf4ae2e6]\n",
      "└ @ Base loading.jl:1260\n",
      "┌ Info: Installing sympy via the Conda sympy package...\n",
      "└ @ PyCall /Users/crhisbenitez/.julia/packages/PyCall/zqDXB/src/PyCall.jl:697\n",
      "┌ Info: Running `conda install -y sympy` in root environment\n",
      "└ @ Conda /Users/crhisbenitez/.julia/packages/Conda/3rPhK/src/Conda.jl:113\n"
     ]
    },
    {
     "name": "stdout",
     "output_type": "stream",
     "text": [
      "Collecting package metadata (current_repodata.json): ...working... done\n",
      "Solving environment: ...working... done\n",
      "\n",
      "## Package Plan ##\n",
      "\n",
      "  environment location: /Users/crhisbenitez/.julia/conda/3\n",
      "\n",
      "  added / updated specs:\n",
      "    - sympy\n",
      "\n",
      "\n",
      "The following packages will be downloaded:\n",
      "\n",
      "    package                    |            build\n",
      "    ---------------------------|-----------------\n",
      "    ca-certificates-2021.1.19  |       hecd8cb5_0         121 KB\n",
      "    certifi-2020.12.5          |   py38hecd8cb5_0         141 KB\n",
      "    conda-4.9.2                |   py38hecd8cb5_0         2.9 MB\n",
      "    gmp-6.2.1                  |       h23ab428_2         512 KB\n",
      "    gmpy2-2.0.8                |   py38h6ef4df4_3         159 KB\n",
      "    mpc-1.1.0                  |       h6ef4df4_1          84 KB\n",
      "    mpfr-4.0.2                 |       h9066e36_1         433 KB\n",
      "    mpmath-1.1.0               |           py38_0         776 KB\n",
      "    openssl-1.1.1j             |       h9ed2024_0         2.2 MB\n",
      "    sympy-1.7.1                |   py38hecd8cb5_0         8.8 MB\n",
      "    ------------------------------------------------------------\n",
      "                                           Total:        16.1 MB\n",
      "\n",
      "The following NEW packages will be INSTALLED:\n",
      "\n",
      "  gmp                pkgs/main/osx-64::gmp-6.2.1-h23ab428_2\n",
      "  gmpy2              pkgs/main/osx-64::gmpy2-2.0.8-py38h6ef4df4_3\n",
      "  mpc                pkgs/main/osx-64::mpc-1.1.0-h6ef4df4_1\n",
      "  mpfr               pkgs/main/osx-64::mpfr-4.0.2-h9066e36_1\n",
      "  mpmath             pkgs/main/osx-64::mpmath-1.1.0-py38_0\n",
      "  sympy              pkgs/main/osx-64::sympy-1.7.1-py38hecd8cb5_0\n",
      "\n",
      "The following packages will be UPDATED:\n",
      "\n",
      "  ca-certificates                               2020.7.22-0 --> 2021.1.19-hecd8cb5_0\n",
      "  certifi                                  2020.6.20-py38_0 --> 2020.12.5-py38hecd8cb5_0\n",
      "  conda                                        4.8.4-py38_0 --> 4.9.2-py38hecd8cb5_0\n",
      "  openssl                                 1.1.1g-h1de35cc_0 --> 1.1.1j-h9ed2024_0\n",
      "\n",
      "\n",
      "\n",
      "Downloading and Extracting Packages\n",
      "ca-certificates-2021 | 121 KB    | #################################### | 100% \n",
      "gmpy2-2.0.8          | 159 KB    | #################################### | 100% \n",
      "sympy-1.7.1          | 8.8 MB    | #################################### | 100% \n",
      "certifi-2020.12.5    | 141 KB    | #################################### | 100% \n",
      "mpfr-4.0.2           | 433 KB    | #################################### | 100% \n",
      "conda-4.9.2          | 2.9 MB    | #################################### | 100% \n",
      "openssl-1.1.1j       | 2.2 MB    | #################################### | 100% \n",
      "gmp-6.2.1            | 512 KB    | #################################### | 100% \n",
      "mpmath-1.1.0         | 776 KB    | #################################### | 100% \n",
      "mpc-1.1.0            | 84 KB     | #################################### | 100% \n",
      "Preparing transaction: ...working... done\n",
      "Verifying transaction: ...working... done\n",
      "Executing transaction: ...working... done\n"
     ]
    }
   ],
   "source": [
    "using SymPy"
   ]
  },
  {
   "cell_type": "code",
   "execution_count": 18,
   "metadata": {},
   "outputs": [
    {
     "data": {
      "text/plain": [
       "(cb, sb, l, r, A, B, C, D, E, K, e, d, k)"
      ]
     },
     "execution_count": 18,
     "metadata": {},
     "output_type": "execute_result"
    }
   ],
   "source": [
    "cb,sb,l,r,A,B,C,D,E,K,e,d,k=symbols(\"cb,sb,l,r,A,B,C,D,E,K,e,d,k\")"
   ]
  },
  {
   "cell_type": "code",
   "execution_count": 19,
   "metadata": {},
   "outputs": [
    {
     "data": {
      "text/latex": [
       "$\\left[ \\begin{array}{r}sb \\cos{\\left(l \\right)}\\\\sb \\sin{\\left(l \\right)}\\\\cb\\end{array} \\right]$\n"
      ],
      "text/plain": [
       "3-element Array{Sym,1}:\n",
       " sb*cos(l)\n",
       " sb*sin(l)\n",
       "        cb"
      ]
     },
     "execution_count": 19,
     "metadata": {},
     "output_type": "execute_result"
    }
   ],
   "source": [
    "M = [K+C A-B E+e; A+B K-C D+d; E-e D-d k]\n",
    "e_r = [-cb*cos(l),-cb*sin(l),sb]\n",
    "e_l = [sin(l),-cos(l),0]\n",
    "e_b = [sb*cos(l),sb*sin(l),cb]"
   ]
  },
  {
   "cell_type": "code",
   "execution_count": 48,
   "metadata": {},
   "outputs": [
    {
     "data": {
      "text/latex": [
       "$\\begin{equation*}- A cb sb \\sin{\\left(2 l \\right)} - C cb sb \\cos{\\left(2 l \\right)} - D cb^{2} \\sin{\\left(l \\right)} + D sb^{2} \\sin{\\left(l \\right)} - E cb^{2} \\cos{\\left(l \\right)} + E sb^{2} \\cos{\\left(l \\right)} - K cb sb - cb^{2} d \\sin{\\left(l \\right)} - cb^{2} e \\cos{\\left(l \\right)} + cb k sb - d sb^{2} \\sin{\\left(l \\right)} - e sb^{2} \\cos{\\left(l \\right)}\\end{equation*}$\n"
      ],
      "text/plain": [
       "                                           2              2              2    \n",
       "-A⋅cb⋅sb⋅sin(2⋅l) - C⋅cb⋅sb⋅cos(2⋅l) - D⋅cb ⋅sin(l) + D⋅sb ⋅sin(l) - E⋅cb ⋅cos\n",
       "\n",
       "          2                      2              2                          2  \n",
       "(l) + E⋅sb ⋅cos(l) - K⋅cb⋅sb - cb ⋅d⋅sin(l) - cb ⋅e⋅cos(l) + cb⋅k⋅sb - d⋅sb ⋅s\n",
       "\n",
       "            2       \n",
       "in(l) - e⋅sb ⋅cos(l)"
      ]
     },
     "execution_count": 48,
     "metadata": {},
     "output_type": "execute_result"
    }
   ],
   "source": [
    "vr = 0*r\n",
    "vl = 0*r\n",
    "vb =0*r\n",
    "for i in 1:3\n",
    "    for j in 1:3\n",
    "        vr = vr+e_r[i]*M[i,j]*e_r[j]\n",
    "        vl = vl+e_r[i]*M[i,j]*e_l[j]\n",
    "        vb = vb+e_r[i]*M[i,j]*e_b[j]\n",
    "    end\n",
    "end\n",
    "vr = simplify(expand(vr))\n",
    "vl = simplify(expand(vl))\n",
    "vb = simplify(expand(vb))"
   ]
  },
  {
   "cell_type": "code",
   "execution_count": 50,
   "metadata": {},
   "outputs": [
    {
     "name": "stdout",
     "output_type": "stream",
     "text": [
      "$$v_r=A cb^{2} \\sin{\\left(2 l \\right)} + C cb^{2} \\cos{\\left(2 l \\right)} - 2 D cb sb \\sin{\\left(l \\right)} - 2 E cb sb \\cos{\\left(l \\right)} + K cb^{2} + k sb^{2}$$\n",
      "$$v_l=A cb \\cos{\\left(2 l \\right)} - B cb - C cb \\sin{\\left(2 l \\right)} - D sb \\cos{\\left(l \\right)} + E sb \\sin{\\left(l \\right)} + d sb \\cos{\\left(l \\right)} - e sb \\sin{\\left(l \\right)}$$\n",
      "$$v_b=- A cb sb \\sin{\\left(2 l \\right)} - C cb sb \\cos{\\left(2 l \\right)} - D cb^{2} \\sin{\\left(l \\right)} + D sb^{2} \\sin{\\left(l \\right)} - E cb^{2} \\cos{\\left(l \\right)} + E sb^{2} \\cos{\\left(l \\right)} - K cb sb - cb^{2} d \\sin{\\left(l \\right)} - cb^{2} e \\cos{\\left(l \\right)} + cb k sb - d sb^{2} \\sin{\\left(l \\right)} - e sb^{2} \\cos{\\left(l \\right)}$$\n"
     ]
    }
   ],
   "source": [
    "println(\"\\$\\$\",\"v_r=\",SymPy.latex(vr),\"\\$\\$\")\n",
    "println(\"\\$\\$\",\"v_l=\",SymPy.latex(vl),\"\\$\\$\")\n",
    "println(\"\\$\\$\",\"v_b=\",SymPy.latex(vb),\"\\$\\$\")"
   ]
  },
  {
   "cell_type": "markdown",
   "metadata": {},
   "source": [
    "$$v_r=A cb^{2} \\sin{\\left(2 l \\right)} + C cb^{2} \\cos{\\left(2 l \\right)} - 2 D cb sb \\sin{\\left(l \\right)} - 2 E cb sb \\cos{\\left(l \\right)} + K cb^{2} + k sb^{2}$$\n",
    "$$v_l=A cb \\cos{\\left(2 l \\right)} + B cb - C cb \\sin{\\left(2 l \\right)} - D sb \\cos{\\left(l \\right)} + E sb \\sin{\\left(l \\right)} - d sb \\cos{\\left(l \\right)} + e sb \\sin{\\left(l \\right)}$$\n",
    "$$v_b=- A cb sb \\sin{\\left(2 l \\right)} - C cb sb \\cos{\\left(2 l \\right)} - D cb^{2} \\sin{\\left(l \\right)} + D sb^{2} \\sin{\\left(l \\right)} - E cb^{2} \\cos{\\left(l \\right)} + E sb^{2} \\cos{\\left(l \\right)} - K cb sb + cb^{2} d \\sin{\\left(l \\right)} + cb^{2} e \\cos{\\left(l \\right)} + cb k sb + d sb^{2} \\sin{\\left(l \\right)} + e sb^{2} \\cos{\\left(l \\right)}$$"
   ]
  },
  {
   "cell_type": "code",
   "execution_count": null,
   "metadata": {},
   "outputs": [],
   "source": []
  },
  {
   "cell_type": "code",
   "execution_count": null,
   "metadata": {},
   "outputs": [],
   "source": []
  }
 ],
 "metadata": {
  "kernelspec": {
   "display_name": "Julia 1.4.2",
   "language": "julia",
   "name": "julia-1.4"
  },
  "language_info": {
   "file_extension": ".jl",
   "mimetype": "application/julia",
   "name": "julia",
   "version": "1.4.2"
  }
 },
 "nbformat": 4,
 "nbformat_minor": 2
}
