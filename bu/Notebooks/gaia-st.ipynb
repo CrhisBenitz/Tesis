{
 "cells": [
  {
   "cell_type": "code",
   "execution_count": 5,
   "metadata": {},
   "outputs": [],
   "source": [
    "import sys\n",
    "sys.path.append('/fs/nas14/other0/cbenitez/Pkgs/astroquery/astroquery/')"
   ]
  },
  {
   "cell_type": "code",
   "execution_count": 11,
   "metadata": {},
   "outputs": [],
   "source": [
    "import astropy.units as u\n",
    "from astropy.coordinates import SkyCoord\n",
    "from astroquery import gaia as Gaia"
   ]
  },
  {
   "cell_type": "code",
   "execution_count": 12,
   "metadata": {},
   "outputs": [],
   "source": [
    "query_text = '''SELECT TOP 4096 ra, dec, parallax, pmra, pmdec, radial_velocity,\n",
    "phot_g_mean_mag, phot_bp_mean_mag, phot_rp_mean_mag\n",
    "FROM gaiadr2.gaia_source\n",
    "WHERE parallax_over_error > 10 AND\n",
    "    parallax > 10 AND\n",
    "    radial_velocity IS NOT null\n",
    "ORDER BY random_index\n",
    "'''"
   ]
  },
  {
   "cell_type": "code",
   "execution_count": 13,
   "metadata": {},
   "outputs": [],
   "source": [
    "query_1 = \"SELECT TOP 50000 source_id,\\\n",
    "ra,ra_error,\\\n",
    "dec,dec_error,\\\n",
    "l,b,\\\n",
    "parallax,parallax_error,\\\n",
    "phot_g_mean_mag,\\\n",
    "bp_rp,\\\n",
    "radial_velocity,radial_velocity_error,\\\n",
    "teff_val,\\\n",
    "a_g_val,\\\n",
    "FROM gaiadr2.gaia_source  \\\n",
    "WHERE (parallax>=2. AND parallax<=1000. AND parallax_error/parallax<.1)\""
   ]
  },
  {
   "cell_type": "code",
   "execution_count": 15,
   "metadata": {},
   "outputs": [
    {
     "ename": "AttributeError",
     "evalue": "'module' object has no attribute 'launch_job_async'",
     "output_type": "error",
     "traceback": [
      "\u001b[0;31m---------------------------------------------------------------------------\u001b[0m",
      "\u001b[0;31mAttributeError\u001b[0m                            Traceback (most recent call last)",
      "\u001b[0;32m<ipython-input-15-c4fdc2003971>\u001b[0m in \u001b[0;36m<module>\u001b[0;34m()\u001b[0m\n\u001b[0;32m----> 1\u001b[0;31m \u001b[0mjob\u001b[0m \u001b[0;34m=\u001b[0m \u001b[0mgaia\u001b[0m\u001b[0;34m.\u001b[0m\u001b[0mlaunch_job_async\u001b[0m\u001b[0;34m(\u001b[0m\u001b[0mquery_1\u001b[0m\u001b[0;34m)\u001b[0m\u001b[0;34m\u001b[0m\u001b[0m\n\u001b[0m",
      "\u001b[0;31mAttributeError\u001b[0m: 'module' object has no attribute 'launch_job_async'"
     ]
    }
   ],
   "source": [
    "job = gaia.launch_job_async(query_1)\n"
   ]
  },
  {
   "cell_type": "code",
   "execution_count": null,
   "metadata": {},
   "outputs": [],
   "source": []
  }
 ],
 "metadata": {
  "kernelspec": {
   "display_name": "Python 2",
   "language": "python",
   "name": "python2"
  },
  "language_info": {
   "codemirror_mode": {
    "name": "ipython",
    "version": 2
   },
   "file_extension": ".py",
   "mimetype": "text/x-python",
   "name": "python",
   "nbconvert_exporter": "python",
   "pygments_lexer": "ipython2",
   "version": "2.7.15"
  }
 },
 "nbformat": 4,
 "nbformat_minor": 2
}
