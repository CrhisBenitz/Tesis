{
 "cells": [
  {
   "cell_type": "code",
   "execution_count": 1,
   "metadata": {},
   "outputs": [
    {
     "name": "stdout",
     "output_type": "stream",
     "text": [
      "WARNING : Can't import Image module...\n",
      "amrviewer GUI ImportError : are WxPython and PyTables correctly installed?\n"
     ]
    }
   ],
   "source": [
    "import matplotlib.pyplot as plt\n",
    "import numpy as np\n",
    "import MT as mt"
   ]
  },
  {
   "cell_type": "markdown",
   "metadata": {},
   "source": [
    "/fs/nas14/other0/cbenitez/Tesis/B/info_marb"
   ]
  },
  {
   "cell_type": "code",
   "execution_count": 2,
   "metadata": {},
   "outputs": [],
   "source": [
    "import jtplot\n",
    "jtplot.style(grid=False)"
   ]
  },
  {
   "cell_type": "code",
   "execution_count": null,
   "metadata": {},
   "outputs": [],
   "source": [
    "rr = np.linspace(0.000001,100,5000)"
   ]
  },
  {
   "cell_type": "code",
   "execution_count": null,
   "metadata": {},
   "outputs": [],
   "source": [
    "ff1 = [np.linalg.norm(mt.force_1(r,0,0)) for r in rr]\n",
    "ff2 = [np.linalg.norm(mt.force_2(r,0,0)) for r in rr]\n",
    "ff3 = [np.linalg.norm(mt.force_3(r,0,0)) for r in rr]"
   ]
  },
  {
   "cell_type": "code",
   "execution_count": null,
   "metadata": {},
   "outputs": [],
   "source": [
    "vv1 = np.array([np.linalg.norm(mt.vel_circ([r,0.,0.],mt.force_1)) for r in rr])\n",
    "vv2 = np.array([np.linalg.norm(mt.vel_circ([r,0.,0.],mt.force_2)) for r in rr])\n",
    "vv3 = np.array([np.linalg.norm(mt.vel_circ([r,0.,0.],mt.force_3)) for r in rr])\n",
    "vv = np.array([np.linalg.norm(mt.vel_circ([r,0.,0.],mt.force_T)) for r in rr])"
   ]
  },
  {
   "cell_type": "code",
   "execution_count": null,
   "metadata": {},
   "outputs": [],
   "source": [
    "plt.figure(figsize=(12,8))\n",
    "plt.plot(rr,vv1*mt.C.kpc.express(mt.C.km),lw=2,label='Masa central')\n",
    "plt.plot(rr,vv2*mt.C.kpc.express(mt.C.km),ls='--',lw=2,label='Disco')\n",
    "plt.plot(rr,vv3*mt.C.kpc.express(mt.C.km),ls=':',lw=2,label='Halo')\n",
    "plt.plot(rr,(vv)*mt.C.kpc.express(mt.C.km),c='k',label='Total')\n",
    "plt.xlabel(r'$r$   [kpc]',fontsize=28)\n",
    "plt.ylabel(r'$v_{circ}$   [kms$^{-1}$]',fontsize=28)\n",
    "plt.legend(loc='best',fontsize=22)\n",
    "plt.locator_params(nbins=6)\n",
    "plt.xticks(fontsize=22)\n",
    "plt.yticks(fontsize=22)\n",
    "\n",
    "#plt.savefig(mt.tardir+'rotation-curve-all',format='pdf')\n",
    "plt.show()"
   ]
  },
  {
   "cell_type": "code",
   "execution_count": null,
   "metadata": {},
   "outputs": [],
   "source": [
    "plt.figure(figsize=(12,8))\n",
    "plt.plot(rr,(vv)*mt.C.kpc.express(mt.C.km),c='k')\n",
    "plt.xlabel(r'$r$   [kpc]',fontsize=28)\n",
    "plt.ylabel(r'$v_{circ}$   [kms$^{-1}$]',fontsize=28)\n",
    "plt.legend(loc='best',fontsize=22)\n",
    "plt.xlim(0,30)\n",
    "plt.ylim(170,260)\n",
    "plt.locator_params(nbins=6)\n",
    "plt.xticks(fontsize=22)\n",
    "plt.yticks(fontsize=22)\n",
    "plt.savefig(mt.tardir+'rotation-curve-tot',format='pdf')\n",
    "#plt.show()"
   ]
  },
  {
   "cell_type": "code",
   "execution_count": null,
   "metadata": {},
   "outputs": [],
   "source": [
    "mt.tardir"
   ]
  },
  {
   "cell_type": "code",
   "execution_count": null,
   "metadata": {},
   "outputs": [],
   "source": [
    "ls /fs/nas14/other0/cbenitez/Tesis/B/"
   ]
  },
  {
   "cell_type": "code",
   "execution_count": null,
   "metadata": {},
   "outputs": [],
   "source": [
    "def rho_0(r):\n",
    "    if r<=3:\n",
    "        return np.exp(8/8.5)*np.exp(-3/8.5)\n",
    "    return np.exp(8/8.5)*np.exp(-r/8.5)"
   ]
  },
  {
   "cell_type": "code",
   "execution_count": null,
   "metadata": {},
   "outputs": [],
   "source": [
    "rr = np.linspace(.0000,15,1000)"
   ]
  },
  {
   "cell_type": "code",
   "execution_count": null,
   "metadata": {},
   "outputs": [],
   "source": [
    "plt.figure(figsize=(12,8))\n",
    "plt.plot(rr,[rho_0(r) for r in rr],c='k')\n",
    "plt.xlabel(r'$r$   [kpc]',fontsize=28)\n",
    "plt.ylabel(r'$\\rho_{0}$   [cm$^{-3}$]',fontsize=28)\n",
    "plt.legend(loc='best',fontsize=22)\n",
    "plt.xlim(0,15)\n",
    "#plt.ylim(170,260)\n",
    "plt.locator_params(nbins=6)\n",
    "plt.xticks(fontsize=22)\n",
    "plt.yticks(fontsize=22)\n",
    "#plt.savefig(mt.tardir+'rotation-curve-tot',format='pdf')\n",
    "plt.show()"
   ]
  },
  {
   "cell_type": "code",
   "execution_count": null,
   "metadata": {},
   "outputs": [],
   "source": [
    "def g_z(r,z):\n",
    "    return mt.force_T(r,0,z)[-3]"
   ]
  },
  {
   "cell_type": "code",
   "execution_count": null,
   "metadata": {},
   "outputs": [],
   "source": [
    "def P_integrated(r,z):\n",
    "    s = np.sign(z)\n",
    "    z = abs(z)\n",
    "    zz = np.linspace(0,z,int(np.floor(z/.0005)))\n",
    "    return s*sum(g_z(r,z) for z in zz)*.0005"
   ]
  },
  {
   "cell_type": "code",
   "execution_count": null,
   "metadata": {},
   "outputs": [],
   "source": [
    "plt.figure(figsize=(12,8))\n",
    "plt.plot(np.linspace(0,1,200),[P_integrated(3,z) for z in np.linspace(0,1,200)],c='k')\n",
    "plt.plot(np.linspace(0,1,200),[g_z(3,z) for z in np.linspace(0,1,200)],c='blue')\n",
    "plt.xlabel(r'$r$   [kpc]',fontsize=28)\n",
    "plt.ylabel(r'$\\rho_{0}$   [cm$^{-3}$]',fontsize=28)\n",
    "plt.legend(loc='best',fontsize=22)\n",
    "#plt.xlim(0,15)\n",
    "#plt.ylim(170,260)\n",
    "#plt.locator_params(nbins=6)\n",
    "plt.xticks(fontsize=22)\n",
    "plt.yticks(fontsize=22)\n",
    "#plt.savefig(mt.tardir+'rotation-curve-tot',format='pdf')\n",
    "plt.show()"
   ]
  },
  {
   "cell_type": "code",
   "execution_count": null,
   "metadata": {},
   "outputs": [],
   "source": [
    "def rho(r,z):\n",
    "    return rho_0(r)*np.exp(P_integrated(r,z)/cs2)"
   ]
  },
  {
   "cell_type": "code",
   "execution_count": null,
   "metadata": {},
   "outputs": [],
   "source": [
    "np.exp(8/8.5),rho(3,0),rho_0(3),P_integrated(3,0)/1e-30"
   ]
  },
  {
   "cell_type": "code",
   "execution_count": null,
   "metadata": {},
   "outputs": [],
   "source": [
    "plt.figure(figsize=(12,8))\n",
    "plt.plot(np.linspace(0,1,200),[rho(3,z) for z in np.linspace(0,1,200)],c='k')\n",
    "plt.plot(np.linspace(0,1,200),[rho(8,z) for z in np.linspace(0,1,200)],c='k')\n",
    "plt.plot(np.linspace(0,1,200),[rho(8.5,z) for z in np.linspace(0,1,200)],c='k')\n",
    "plt.xlabel(r'$r$   [kpc]',fontsize=28)\n",
    "plt.ylabel(r'$\\rho$   [cm$^{-3}$]',fontsize=28)\n",
    "plt.legend(loc='best',fontsize=22)\n",
    "#plt.xlim(0,15)\n",
    "#plt.ylim(170,260)\n",
    "plt.locator_params(nbins=6)\n",
    "plt.xticks(fontsize=22)\n",
    "plt.yticks(fontsize=22)\n",
    "plt.hlines(np.exp(8/8.5),0,1)\n",
    "#plt.savefig(mt.tardir+'rotation-curve-tot',format='pdf')\n",
    "plt.show()"
   ]
  },
  {
   "cell_type": "code",
   "execution_count": null,
   "metadata": {},
   "outputs": [],
   "source": [
    "op0 = mt.rop(op=1,limits=(0.5, 1, 0.25, 0.75, 0.375, 0.625))"
   ]
  },
  {
   "cell_type": "code",
   "execution_count": null,
   "metadata": {},
   "outputs": [],
   "source": [
    "op0.xx[255],op0.yy[253],0"
   ]
  },
  {
   "cell_type": "code",
   "execution_count": null,
   "metadata": {},
   "outputs": [],
   "source": [
    "mt.vel_circ([op0.xx[255],op0.yy[253],0.0],mt.force_T)"
   ]
  },
  {
   "cell_type": "code",
   "execution_count": null,
   "metadata": {},
   "outputs": [],
   "source": [
    "plt.scatter([op0.xx[255]],[op0.zz[op0.nz/2]],s=10,c='r')\n",
    "mt.imshow(np.log(op0.dd[:,op0.ny/2-10,:]),extentto=(op0.xx[0],op0.xx[-1],op0.zz[0],op0.zz[-1]))\n",
    "plt.colorbar()"
   ]
  },
  {
   "cell_type": "code",
   "execution_count": null,
   "metadata": {},
   "outputs": [],
   "source": [
    "def rho(r,z):\n",
    "    return rho_0(r)*np.exp(P_integrated(r,z)/cs2)"
   ]
  },
  {
   "cell_type": "code",
   "execution_count": null,
   "metadata": {},
   "outputs": [],
   "source": [
    "cs2 = 3.2e-30\n",
    "cz = nz/2-4\n",
    "plt.plot(op0.xx,op0.dd[cz,ny/2-1,:])\n",
    "plt.plot(op0.xx,op0.dd[cz,ny/2+1,:])\n",
    "plt.plot(rr,[rho(r,op0.zz[cz]) for r in rr],c='k')"
   ]
  },
  {
   "cell_type": "code",
   "execution_count": null,
   "metadata": {},
   "outputs": [],
   "source": [
    "for i in [-5+i for i in range(10)]:\n",
    "    plt.plot(op0.xx[10:len(op0.xx)/2:]*np.sqrt(2),[op0.dd[nz/2-i,ny/2-1+j,j] for j in range(len(op0.xx)/2)][10::])"
   ]
  },
  {
   "cell_type": "code",
   "execution_count": null,
   "metadata": {},
   "outputs": [],
   "source": [
    "op[0].yy"
   ]
  },
  {
   "cell_type": "code",
   "execution_count": null,
   "metadata": {},
   "outputs": [],
   "source": [
    "op13.limits"
   ]
  },
  {
   "cell_type": "code",
   "execution_count": null,
   "metadata": {},
   "outputs": [],
   "source": [
    "op = [mt.rop(op=i,limits=(0.5, 1, 0.25, 0.75, 0.375, 0.625)) for i in [9,10,11,12,13,14,15,16,17]]"
   ]
  },
  {
   "cell_type": "code",
   "execution_count": null,
   "metadata": {},
   "outputs": [],
   "source": [
    "op = mt.rop(op=8,limits=(0.5, 1, 0.25, 0.75, 0.375, 0.625))"
   ]
  },
  {
   "cell_type": "code",
   "execution_count": null,
   "metadata": {},
   "outputs": [],
   "source": [
    "op = [op]"
   ]
  },
  {
   "cell_type": "code",
   "execution_count": null,
   "metadata": {},
   "outputs": [],
   "source": [
    "nx,ny,nz = op[0].nx,op[0].ny,op[0].nz"
   ]
  },
  {
   "cell_type": "code",
   "execution_count": null,
   "metadata": {},
   "outputs": [],
   "source": [
    "mt.imshow(op[0].dd[nz/2,:,:],zlims=(0,3),extentto=(op[0].xx[0],op[0].xx[-1],op[0].yy[0],op[0].yy[-1]))\n",
    "plt.colorbar()"
   ]
  },
  {
   "cell_type": "code",
   "execution_count": null,
   "metadata": {},
   "outputs": [],
   "source": [
    "mt.imshow(op[0].dd[:,ny/2,:],zlims=(-0,1))\n",
    "plt.colorbar()"
   ]
  },
  {
   "cell_type": "code",
   "execution_count": null,
   "metadata": {},
   "outputs": [],
   "source": [
    "where = np.array([np.where(op[0].xx>7)[0],np.where(abs(op[0].yy)<3)[0],np.where(abs(op[0].zz)<2)[0]])"
   ]
  },
  {
   "cell_type": "code",
   "execution_count": null,
   "metadata": {},
   "outputs": [],
   "source": [
    "ddf = np.array([[[op[0].dd[k,j,i] for i in where[0]] for j in where[1]] for k in where[2]])"
   ]
  },
  {
   "cell_type": "code",
   "execution_count": null,
   "metadata": {},
   "outputs": [],
   "source": [
    "whered = np.where(ddf>1.2)"
   ]
  },
  {
   "cell_type": "code",
   "execution_count": null,
   "metadata": {},
   "outputs": [],
   "source": [
    "xxfd,yyfd,zzfd = op[0].xx[where[0]][whered[2]],op[0].yy[where[1]][whered[1]],op[0].zz[where[2]][whered[0]]"
   ]
  },
  {
   "cell_type": "code",
   "execution_count": null,
   "metadata": {},
   "outputs": [],
   "source": [
    "fig = plt.figure()\n",
    "ax = fig.add_subplot(111, projection='3d')\n",
    "ax.scatter(xxfd,yyfd,zzfd)\n",
    "ax.set_xlim3d(7, 11)\n",
    "ax.set_ylim3d(-2,2)\n",
    "ax.set_zlim3d(-2,2)"
   ]
  },
  {
   "cell_type": "code",
   "execution_count": null,
   "metadata": {},
   "outputs": [],
   "source": [
    "mt.imshow(ddf[whered[]])\n",
    "plt.colorbar()"
   ]
  },
  {
   "cell_type": "code",
   "execution_count": null,
   "metadata": {},
   "outputs": [],
   "source": [
    "op13.nx,op13.ny,op13.nz"
   ]
  },
  {
   "cell_type": "code",
   "execution_count": null,
   "metadata": {},
   "outputs": [],
   "source": [
    "op11.xx[180],op11.xx[280]"
   ]
  },
  {
   "cell_type": "code",
   "execution_count": null,
   "metadata": {},
   "outputs": [],
   "source": [
    "mt.imshow(op11.dd[:,:,op13.nx/2],zlims=(0,1))"
   ]
  },
  {
   "cell_type": "code",
   "execution_count": null,
   "metadata": {},
   "outputs": [],
   "source": [
    "op13.N_max"
   ]
  },
  {
   "cell_type": "code",
   "execution_count": null,
   "metadata": {},
   "outputs": [],
   "source": [
    "op13.nz/(.625-.375)"
   ]
  },
  {
   "cell_type": "code",
   "execution_count": null,
   "metadata": {},
   "outputs": [],
   "source": [
    "mt.imshow(op11.vv_z[op13.nz/2,:,:],zlims=(-200,200))\n",
    "plt.colorbar()"
   ]
  },
  {
   "cell_type": "code",
   "execution_count": null,
   "metadata": {},
   "outputs": [],
   "source": [
    "mt.imshow(op13.vv_x[:,op13.ny/2,:],zlims=(-200,200))\n",
    "plt.colorbar()"
   ]
  },
  {
   "cell_type": "code",
   "execution_count": null,
   "metadata": {},
   "outputs": [],
   "source": [
    "mt.imshow(op11.vv_z[:,:,op11.nx/2-7],zlims=(-200,200))\n",
    "plt.colorbar()"
   ]
  },
  {
   "cell_type": "code",
   "execution_count": null,
   "metadata": {},
   "outputs": [],
   "source": [
    "where = np.array([np.where(abs(7-op13.xx)<1.2)[0],np.where(abs(op13.yy)<1.2)[0],np.where(abs(op13.zz)<1.2)[0]])"
   ]
  },
  {
   "cell_type": "code",
   "execution_count": null,
   "metadata": {},
   "outputs": [],
   "source": [
    "ddf = np.array([[[op13.dd[k,j,i] for i in where[0]] for j in where[1]] for k in where[2]])"
   ]
  },
  {
   "cell_type": "code",
   "execution_count": null,
   "metadata": {},
   "outputs": [],
   "source": [
    "ddf.shape"
   ]
  },
  {
   "cell_type": "code",
   "execution_count": null,
   "metadata": {},
   "outputs": [],
   "source": [
    "zzf = op13.zz[where[2]]"
   ]
  },
  {
   "cell_type": "code",
   "execution_count": null,
   "metadata": {},
   "outputs": [],
   "source": [
    "zzf[40]"
   ]
  },
  {
   "cell_type": "code",
   "execution_count": null,
   "metadata": {},
   "outputs": [],
   "source": [
    "mt.imshow(ddf[wc,:,:])"
   ]
  },
  {
   "cell_type": "code",
   "execution_count": null,
   "metadata": {},
   "outputs": [],
   "source": [
    "vvxf = np.array([[[op13.vv_x[k,j,i] for i in where[0]] for j in where[1]] for k in where[2]])\n",
    "vvyf = np.array([[[op13.vv_y[k,j,i] for i in where[0]] for j in where[1]] for k in where[2]])\n",
    "vvzf = np.array([[[op13.vv_z[k,j,i] for i in where[0]] for j in where[1]] for k in where[2]])"
   ]
  },
  {
   "cell_type": "code",
   "execution_count": null,
   "metadata": {},
   "outputs": [],
   "source": [
    "wc = 37\n",
    "fig1, ax1 = plt.subplots()\n",
    "ax1.quiver(vvxf[wc,::5,::5],vvyf[wc,::5,::5], units='width')"
   ]
  },
  {
   "cell_type": "code",
   "execution_count": null,
   "metadata": {},
   "outputs": [],
   "source": [
    "op11.xx[where[0]][::5]"
   ]
  },
  {
   "cell_type": "code",
   "execution_count": null,
   "metadata": {},
   "outputs": [],
   "source": [
    "wc = 35\n",
    "xmg,ymg = np.meshgrid(op11.xx[where[0]][::5],op11.yy[where[1]][::5])\n",
    "fig1, ax1 = plt.subplots()\n",
    "mt.imshow(ddf[wc,:,:],extentto=(op11.xx[where[0]][0],op11.xx[where[0]][-1],op11.yy[where[1]][0],op11.yy[where[1]][-1]),zlims=(0,4))\n",
    "ax1.quiver(xmg,ymg,vvxf[wc,::5,::5],vvyf[wc,::5,::5], units='width')\n",
    "plt.colorbar()"
   ]
  },
  {
   "cell_type": "code",
   "execution_count": null,
   "metadata": {},
   "outputs": [],
   "source": [
    "mt.imshow(sum(op11.vv_z[wc+i,:,:] for i in [-40+j for j in range(81)])/81.,zlims=(-280,280))\n",
    "plt.colorbar()"
   ]
  },
  {
   "cell_type": "code",
   "execution_count": null,
   "metadata": {},
   "outputs": [],
   "source": [
    "mt.imshow(ddf[:,40,:],zlims=(0,.2))\n",
    "plt.colorbar()"
   ]
  },
  {
   "cell_type": "code",
   "execution_count": null,
   "metadata": {},
   "outputs": [],
   "source": [
    "mt.imshow(ddf[:,:,30])"
   ]
  },
  {
   "cell_type": "code",
   "execution_count": null,
   "metadata": {},
   "outputs": [],
   "source": [
    "reload(mt)"
   ]
  },
  {
   "cell_type": "code",
   "execution_count": null,
   "metadata": {},
   "outputs": [],
   "source": [
    "reload(mt)"
   ]
  },
  {
   "cell_type": "code",
   "execution_count": null,
   "metadata": {},
   "outputs": [],
   "source": [
    "op0 = mt.rop(op=1,limits=(0, 1, 0, 1, .4921875, .5078125))"
   ]
  },
  {
   "cell_type": "code",
   "execution_count": null,
   "metadata": {},
   "outputs": [],
   "source": [
    "VV = np.sqrt(op0.vv_x**2+op0.vv_y**2+op0.vv_z**2)"
   ]
  },
  {
   "cell_type": "code",
   "execution_count": null,
   "metadata": {},
   "outputs": [],
   "source": [
    "r_LSR = [8,0,0]\n",
    "v_LSR = mt.vel_circ(r_LSR,mt.force_T)*mt.C.kpc.express(mt.C.km)"
   ]
  },
  {
   "cell_type": "code",
   "execution_count": null,
   "metadata": {},
   "outputs": [],
   "source": [
    "VV_prime = np.sqrt((op0.vv_x-v_LSR[0])**2+(op0.vv_y-v_LSR[1])**2+(op0.vv_z-v_LSR[2])**2)"
   ]
  },
  {
   "cell_type": "code",
   "execution_count": null,
   "metadata": {},
   "outputs": [],
   "source": [
    "ll = np.linspace(-np.pi,np.pi,1000)"
   ]
  },
  {
   "cell_type": "code",
   "execution_count": null,
   "metadata": {},
   "outputs": [],
   "source": [
    "rr = np.linspace(0,23.2,300)"
   ]
  },
  {
   "cell_type": "code",
   "execution_count": null,
   "metadata": {},
   "outputs": [],
   "source": [
    "VV_lr = np.zeros((300,1000))"
   ]
  },
  {
   "cell_type": "code",
   "execution_count": null,
   "metadata": {},
   "outputs": [],
   "source": [
    "def interp(matrix,xs,ys,zs,x,y,z):\n",
    "    dx = xs[1]-xs[0]\n",
    "    dy = ys[1]-ys[0]\n",
    "    dz = zs[1]-zs[0]\n",
    "    i_inf = int(np.floor((x-xs[0])/dx))\n",
    "    j_inf = int(np.floor((y-ys[0])/dy))\n",
    "    k_inf = int(np.floor((z-zs[0])/dz))\n",
    "    \n",
    "    if k_inf>=(len(zs)-1) or j_inf>=(len(ys)-1) or i_inf>=(len(xs)-1) or (x**2+y**2+z**2)>225:\n",
    "        return np.nan\n",
    "    \n",
    "    wx_inf = (xs[i_inf+1]-x)/dx\n",
    "    wy_inf = (ys[j_inf+1]-y)/dy\n",
    "    wz_inf = (zs[k_inf+1]-z)/dz\n",
    "    \n",
    "    \n",
    "    return matrix[k_inf,j_inf,i_inf]*wx_inf*wy_inf*wz_inf + matrix[k_inf,j_inf,i_inf+1]*(1-wx_inf)*wy_inf*wz_inf + \\\n",
    "           matrix[k_inf,j_inf+1,i_inf]*wx_inf*(1-wy_inf)*wz_inf + matrix[k_inf,j_inf+1,i_inf+1]*(1-wx_inf)*(1-wy_inf)*wz_inf + \\\n",
    "           matrix[k_inf+1,j_inf,i_inf]*wx_inf*wy_inf*(1-wz_inf) + matrix[k_inf+1,j_inf,i_inf+1]*(1-wx_inf)*wy_inf*(1-wz_inf) + \\\n",
    "           matrix[k_inf+1,j_inf+1,i_inf]*wx_inf*(1-wy_inf)*(1-wz_inf) + matrix[k_inf+1,j_inf+1,i_inf+1]*(1-wx_inf)*(1-wy_inf)*(1-wz_inf)"
   ]
  },
  {
   "cell_type": "code",
   "execution_count": null,
   "metadata": {},
   "outputs": [],
   "source": [
    "interp(VV_prime,op0.xx,op0.yy,op0.zz,8-18*np.cos(np.pi/4),18*np.sin(np.pi/4),0.0)"
   ]
  },
  {
   "cell_type": "code",
   "execution_count": null,
   "metadata": {},
   "outputs": [],
   "source": [
    "for j in range(300):\n",
    "    for i in range(1000):\n",
    "\n",
    "        x_i = 8 - rr[j]*np.cos(-ll[i])\n",
    "        y_i = rr[j]*np.sin(-ll[i])\n",
    "        \n",
    "        vv_prime = np.array([interp(op0.vv_x,op0.xx,op0.yy,op0.zz,x_i,y_i,0.0),\\\n",
    "                            interp(op0.vv_y,op0.xx,op0.yy,op0.zz,x_i,y_i,0.0),\\\n",
    "                            interp(op0.vv_z,op0.xx,op0.yy,op0.zz,x_i,y_i,0.0)]) - v_LSR\n",
    "        \n",
    "        VV_lr[j,i] = np.dot(vv_prime,np.array([x_i,y_i,0])-r_LSR)/np.linalg.norm(np.array([x_i,y_i,0])-r_LSR)\n",
    "#        VV_lr[j,i] = interp(VV_prime,op0.xx,op0.yy,op0.zz,x_i,y_i,0.0)"
   ]
  },
  {
   "cell_type": "code",
   "execution_count": null,
   "metadata": {},
   "outputs": [],
   "source": [
    "?plt.contour"
   ]
  },
  {
   "cell_type": "code",
   "execution_count": null,
   "metadata": {},
   "outputs": [],
   "source": [
    "np.amax(np.sqrt(op0.vv_x[op0.nz/2,55:-55:,55:-55:]**2+\\\n",
    "                         op0.vv_y[op0.nz/2,55:-55:,55:-55:]**2+\\\n",
    "                         op0.vv_z[op0.nz/2,55:-55:,55:-55:]**2))"
   ]
  },
  {
   "cell_type": "code",
   "execution_count": null,
   "metadata": {},
   "outputs": [],
   "source": [
    "plt.figure(figsize=(12,12))\n",
    "#mt.imshow(np.sqrt(op0.vv_x[op0.nz/2,:,:]**2+op0.vv_y[op0.nz/2,:,:]**2+op0.vv_z[op0.nz/2,:,:]**2),zlims=(-60,220),extentto=(op0.xx[0],op0.xx[-1],op0.yy[0],op0.yy[-1]),)\n",
    "mt.imshow(op0.dd[op0.nz/2,55:-55:,55:-55:],zlims=(.01,3),extentto=(op0.xx[55],op0.xx[-55-1],op0.yy[55],op0.yy[-55-1]),logscale=True)\n",
    "cbar = plt.colorbar(shrink=.75)\n",
    "CV = plt.contour(op0.xx[55:-55:],op0.yy[55:-55:],\\\n",
    "                 np.sqrt(op0.vv_x[op0.nz/2,55:-55:,55:-55:]**2+\\\n",
    "                         op0.vv_y[op0.nz/2,55:-55:,55:-55:]**2+\\\n",
    "                         op0.vv_z[op0.nz/2,55:-55:,55:-55:]**2),\\\n",
    "                 [20,50,100,150,180,200],colors='k',)\n",
    "ax = plt.gca()\n",
    "ax.clabel(CV,fmt='%1i',fontsize=10)\n",
    "cbar.ax.tick_params(labelsize=22)\n",
    "cbar.set_label(r'$\\rho$ [cm$^{-3}$]',fontsize=28)\n",
    "plt.xlabel(r'$\\ell$   [deg]',fontsize=28)\n",
    "plt.ylabel(r'Distancia real   [kpc]',fontsize=28)\n",
    "plt.locator_params(nbins=9)\n",
    "plt.xticks(fontsize=22)\n",
    "plt.yticks(fontsize=22)\n",
    "ax.invert_xaxis()"
   ]
  },
  {
   "cell_type": "code",
   "execution_count": null,
   "metadata": {},
   "outputs": [],
   "source": [
    "plt.figure(figsize=(12,12))\n",
    "mt.imshow(VV_lr,zlims=(-130,130),extentto=(-180,180,0,23.2),colorscale='coolwarm')\n",
    "cbar = plt.colorbar(shrink=.7)\n",
    "ax = plt.gca()\n",
    "cbar.ax.tick_params(labelsize=22)\n",
    "ax.set_aspect(15)\n",
    "plt.xlabel(r'$\\ell$   [deg]',fontsize=28)\n",
    "plt.ylabel(r'Distancia real   [kpc]',fontsize=28)\n",
    "plt.locator_params(nbins=9)\n",
    "plt.xticks(fontsize=22)\n",
    "plt.yticks(fontsize=22)\n",
    "ax.invert_xaxis()"
   ]
  },
  {
   "cell_type": "code",
   "execution_count": null,
   "metadata": {},
   "outputs": [],
   "source": [
    "mt.imshow(op0.dd[op0.nz/2,:,:],colorbar=True,extentto=(op0.xx[0],op0.xx[-1],op0.yy[0],op0.yy[-1]))"
   ]
  },
  {
   "cell_type": "code",
   "execution_count": null,
   "metadata": {},
   "outputs": [],
   "source": [
    "mt.imshow(VV_prime[op0.nz/2,:-2:,:-2:],colorbar=True,zlims=(10,220),extentto=(op0.xx[0],op0.xx[-2],op0.yy[0],op0.yy[-2]))"
   ]
  },
  {
   "cell_type": "code",
   "execution_count": null,
   "metadata": {},
   "outputs": [],
   "source": [
    "plt.figure(figsize=(10,8))\n",
    "plt.plot(op0.xx[op0.nx/2:-1:],VV[op0.nz/2,op0.ny/2,op0.nx/2:-1:],c='k')\n",
    "plt.xlabel(r'$r$   [kpc]',fontsize=28)\n",
    "plt.ylabel(r'$|\\mathbf{v}|$   [kms$^{-1}$]',fontsize=28)\n",
    "plt.locator_params(nbins=9)\n",
    "plt.xticks(fontsize=22)\n",
    "plt.yticks(fontsize=22)\n",
    "plt.show()"
   ]
  },
  {
   "cell_type": "code",
   "execution_count": 3,
   "metadata": {},
   "outputs": [
    {
     "name": "stdout",
     "output_type": "stream",
     "text": [
      "Computing hilbert minimal domain description for output 1 ...\n",
      "Done !\n",
      "Warning : 5 variables found - Using default value for pymses_field_descrs.py because  [Errno 2] No such file or directory: './pymses_field_descrs.py'\n",
      "\n",
      " Succesfully read the output file 1. \n",
      "\n"
     ]
    }
   ],
   "source": [
    "op1 = mt.rop(op=1, limits = (0.5, 1, 0.25, 0.75, 0.375, 0.625))"
   ]
  },
  {
   "cell_type": "code",
   "execution_count": 4,
   "metadata": {},
   "outputs": [
    {
     "name": "stdout",
     "output_type": "stream",
     "text": [
      "Computing hilbert minimal domain description for output 10 ...\n",
      "Done !\n",
      "Warning : 5 variables found - Using default value for pymses_field_descrs.py because  [Errno 2] No such file or directory: './pymses_field_descrs.py'\n",
      "\n",
      " Succesfully read the output file 10. \n",
      "\n"
     ]
    }
   ],
   "source": [
    "op10 = mt.rop(op=10, limits = (0.5, 1, 0.25, 0.75, 0.375, 0.625))"
   ]
  },
  {
   "cell_type": "code",
   "execution_count": 4,
   "metadata": {},
   "outputs": [
    {
     "data": {
      "image/png": "[encoded data removed]",
      "text/plain": [
       "<Figure size 720x864 with 2 Axes>"
      ]
     },
     "metadata": {},
     "output_type": "display_data"
    }
   ],
   "source": [
    "fig = plt.figure(figsize=(10,12))\n",
    "\n",
    "plt.subplot(111)\n",
    "mt.imshow(op1.dd[:,op1.ny/2,:],zlims=(1e-2,5),extentto=(op1.x_min,op1.x_max,op1.z_min,op1.z_max),logscale=True,fig=fig)\n",
    "plt.xlabel(r\"$x$ [kpc]\",fontsize=28)\n",
    "plt.ylabel(r\"$z$ [kpc]\",fontsize=28)\n",
    "plt.locator_params(nbins=7)\n",
    "plt.xticks(fontsize=22)\n",
    "plt.yticks(fontsize=22)\n",
    "cbar = plt.colorbar(shrink=.7)\n",
    "ax = plt.gca()\n",
    "cbar.ax.tick_params(labelsize=22)\n",
    "cbar.set_label(r'$n$ [cm$^{-3}$]',fontsize=28)\n",
    "plt.tight_layout()\n",
    "plt.show()\n",
    "#plt.savefig(\"/fs/nas14/other0/cbenitez/phasespace_t_%02i.pdf\" %(ft-12), format='pdf')\n",
    "#plt.close()"
   ]
  }
 ],
 "metadata": {
  "kernelspec": {
   "display_name": "Python 2",
   "language": "python",
   "name": "python2"
  },
  "language_info": {
   "codemirror_mode": {
    "name": "ipython",
    "version": 2
   },
   "file_extension": ".py",
   "mimetype": "text/x-python",
   "name": "python",
   "nbconvert_exporter": "python",
   "pygments_lexer": "ipython2",
   "version": "2.7.15"
  }
 },
 "nbformat": 4,
 "nbformat_minor": 2
}
