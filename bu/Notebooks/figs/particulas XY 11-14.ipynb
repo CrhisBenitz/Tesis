{
 "cells": [
  {
   "cell_type": "code",
   "execution_count": 1,
   "metadata": {},
   "outputs": [
    {
     "name": "stdout",
     "output_type": "stream",
     "text": [
      "WARNING : Can't import Image module...\n",
      "amrviewer GUI ImportError : are WxPython and PyTables correctly installed?\n"
     ]
    }
   ],
   "source": [
    "import sys\n",
    "import os\n",
    "import glob as gb\n",
    "sys.path.append('/home/cbenitez/')\n",
    "import MTmp as mt\n",
    "import matplotlib.pyplot as plt\n",
    "import numpy as np\n",
    "import oort_cons as oc"
   ]
  },
  {
   "cell_type": "code",
   "execution_count": 2,
   "metadata": {},
   "outputs": [],
   "source": [
    "from matplotlib.colors import LogNorm\n",
    "import matplotlib.ticker as ticker\n",
    "from scipy.interpolate import griddata\n",
    "\n",
    "from mpl_toolkits.mplot3d import Axes3D\n",
    "from matplotlib import cm\n",
    "from matplotlib.ticker import LinearLocator, FormatStrFormatter"
   ]
  },
  {
   "cell_type": "code",
   "execution_count": 3,
   "metadata": {},
   "outputs": [
    {
     "name": "stdout",
     "output_type": "stream",
     "text": [
      "info_mp_marbles_14032021-122643  mp_marbles_14032021-122643_script.py\r\n",
      "info_mp_marbles_15032021-003752  mp_marbles_15032021-003752\r\n",
      "mp_marbles_14032021-122643       mp_marbles_15032021-003752LSR\r\n",
      "mp_marbles_14032021-122643LSR    mp_marbles_15032021-003752_script.py\r\n"
     ]
    }
   ],
   "source": [
    "ls /fs/nas14/other0/cbenitez/partsSim"
   ]
  },
  {
   "cell_type": "code",
   "execution_count": 4,
   "metadata": {},
   "outputs": [],
   "source": [
    "DFparts,DFlsrs = mt.read_dat(\"/fs/nas14/other0/cbenitez/partsSim/\",'mp_marbles_15032021-003752') "
   ]
  },
  {
   "cell_type": "code",
   "execution_count": 5,
   "metadata": {},
   "outputs": [],
   "source": [
    "DFparts.creation_time=DFparts.creation_time*mt.C.s.express(mt.C.Myr)\n",
    "DFlsrs.creation_time=DFlsrs.creation_time*mt.C.s.express(mt.C.Myr)"
   ]
  },
  {
   "cell_type": "code",
   "execution_count": 6,
   "metadata": {},
   "outputs": [
    {
     "data": {
      "text/plain": [
       "array([11, 12, 13, 14, 15, 16])"
      ]
     },
     "execution_count": 6,
     "metadata": {},
     "output_type": "execute_result"
    }
   ],
   "source": [
    "np.unique(DFparts[\"output\"])"
   ]
  },
  {
   "cell_type": "code",
   "execution_count": 7,
   "metadata": {},
   "outputs": [],
   "source": [
    "tt = np.unique(DFparts.creation_time)"
   ]
  },
  {
   "cell_type": "code",
   "execution_count": 8,
   "metadata": {},
   "outputs": [
    {
     "data": {
      "text/plain": [
       "array([ 3.25060325,  4.7216629 ,  6.45561442,  7.98573204,  9.55898311,\n",
       "       11.13404672])"
      ]
     },
     "execution_count": 8,
     "metadata": {},
     "output_type": "execute_result"
    }
   ],
   "source": [
    "tt"
   ]
  },
  {
   "cell_type": "code",
   "execution_count": 9,
   "metadata": {},
   "outputs": [],
   "source": [
    "delta_grid = 0.030000005651420025"
   ]
  },
  {
   "cell_type": "code",
   "execution_count": 10,
   "metadata": {},
   "outputs": [],
   "source": [
    "opc = 14\n",
    "itc = opc-11\n",
    "#df = DFparts[(DFparts[\"output\"]==opc) & (DFparts.creation_time==tt[itc]) & (abs(DFparts.z)<.07)]\n",
    "#df = DFparts[(DFparts[\"output\"]==opc) & (DFparts.creation_time==tt[itc])]\n",
    "df = DFparts[(DFparts[\"output\"]==opc)]"
   ]
  },
  {
   "cell_type": "code",
   "execution_count": 11,
   "metadata": {},
   "outputs": [
    {
     "data": {
      "text/plain": [
       "6535"
      ]
     },
     "execution_count": 11,
     "metadata": {},
     "output_type": "execute_result"
    }
   ],
   "source": [
    "len(df)"
   ]
  },
  {
   "cell_type": "code",
   "execution_count": 12,
   "metadata": {},
   "outputs": [],
   "source": [
    "#n_voxels = 2*int(max((-df['x'].min()+df['x'].max())/delta_grid,(-df['y'].min()+df['y'].max())/delta_grid,(-df['z'].min()+df['z'].max())/delta_grid))  \n",
    "#x, y, z = np.indices((n_voxels, n_voxels,n_voxels))\n",
    "nx_voxels,ny_voxels,nz_voxels = (int((-df['x'].min()+df['x'].max())/delta_grid))+1,\\\n",
    "                                (int((-df['y'].min()+df['y'].max())/delta_grid))+1,\\\n",
    "                                (int((-df['z'].min()+df['z'].max())/delta_grid))+1  \n",
    "x, y, z = np.indices((nx_voxels, ny_voxels,nz_voxels))\n",
    "where_on_x = map(int,(df['x']-df['x'].min())/delta_grid)\n",
    "where_on_y = map(int,(df['y']-df['y'].min())/delta_grid)\n",
    "where_on_z = map(int,(df['z']-df['z'].min())/delta_grid)\n",
    "voxels_bool = np.zeros_like(x,dtype=bool)\n",
    "voxels_bool[where_on_x,where_on_y,where_on_z] = True"
   ]
  },
  {
   "cell_type": "code",
   "execution_count": 15,
   "metadata": {},
   "outputs": [],
   "source": [
    "min_dens = 2.5\n",
    "max_dens = 13.5\n",
    "alpha_min = .01\n",
    "alpha_max = 1\n",
    "#min_dens = df.dens.min()\n",
    "#max_dens = df.dens.max()\n",
    "voxels_dens = np.zeros(voxels_bool.shape)\n",
    "voxels_alpha = np.zeros(voxels_bool.shape)\n",
    "#voxels_dens[where_on_x,where_on_y,where_on_z] = (df['dens']-df['dens'].min())/(df['dens'].max()-df['dens'].min())\n",
    "#voxels_alpha[where_on_x,where_on_y,where_on_z] = ((df['dens']-df['dens'].min())/(df['dens'].max()-df['dens'].min())+alpha_min/(alpha_max-alpha_min))*(alpha_max-alpha_min)\n",
    "voxels_dens[where_on_x,where_on_y,where_on_z] = (df['dens']-min_dens)/max_dens\n",
    "voxels_alpha[where_on_x,where_on_y,where_on_z] = ((df['dens']-min_dens)/max_dens+alpha_min/(alpha_max-alpha_min))*(alpha_max-alpha_min)\n",
    "colors = plt.cm.viridis(voxels_dens)\n",
    "colors[:,:,:,3] = voxels_alpha"
   ]
  },
  {
   "cell_type": "code",
   "execution_count": 16,
   "metadata": {},
   "outputs": [],
   "source": [
    "x2, y2, z2 = np.indices((nx_voxels+1, ny_voxels+1,nz_voxels+1))\n",
    "X = x2*delta_grid+df['x'].min()-delta_grid/2\n",
    "Y = y2*delta_grid+df['y'].min()-delta_grid/2\n",
    "Z = z2*delta_grid+df['z'].min()-delta_grid/2\n",
    "max_range = np.array([X.max()-X.min(), Y.max()-Y.min(), Z.max()-Z.min()]).max()\n",
    "Sb=1.\n",
    "\n",
    "Xb = Sb*(0.5*max_range*np.mgrid[-1:2:2,-1:2:2,-1:2:2][0].flatten()) + 0.5*(X.max()+X.min())\n",
    "Yb = Sb*(0.5*max_range*np.mgrid[-1:2:2,-1:2:2,-1:2:2][1].flatten()) + 0.5*(Y.max()+Y.min())\n",
    "Zb = Sb*(0.5*max_range*np.mgrid[-1:2:2,-1:2:2,-1:2:2][2].flatten()) + 0.5*(Z.max()+Z.min())\n",
    "\n"
   ]
  },
  {
   "cell_type": "code",
   "execution_count": 32,
   "metadata": {},
   "outputs": [],
   "source": [
    "def arg2plot_t(opc,min_dens=2.5,max_dens=9,alpha_min=.01,alpha_max=1):\n",
    "    itc = opc-11\n",
    "    #df = DFparts[(DFparts[\"output\"]==opc) & (DFparts.creation_time==tt[itc]) & (abs(DFparts.z)<.07)]\n",
    "    #df = DFparts[(DFparts[\"output\"]==opc) & (DFparts.creation_time==tt[itc])]\n",
    "    df = DFparts[(DFparts[\"output\"]==opc)]\n",
    "    \n",
    "    nx_voxels,ny_voxels,nz_voxels = (int((-df['x'].min()+df['x'].max())/delta_grid))+1,\\\n",
    "                                    (int((-df['y'].min()+df['y'].max())/delta_grid))+1,\\\n",
    "                                    (int((-df['z'].min()+df['z'].max())/delta_grid))+1  \n",
    "    x, y, z = np.indices((nx_voxels, ny_voxels,nz_voxels))\n",
    "    where_on_x = map(int,(df['x']-df['x'].min())/delta_grid)\n",
    "    where_on_y = map(int,(df['y']-df['y'].min())/delta_grid)\n",
    "    where_on_z = map(int,(df['z']-df['z'].min())/delta_grid)\n",
    "    voxels_bool = np.zeros_like(x,dtype=bool)\n",
    "    voxels_bool[where_on_x,where_on_y,where_on_z] = True\n",
    "    #min_dens = df.dens.min()\n",
    "    #max_dens = df.dens.max()\n",
    "    voxels_dens = np.zeros(voxels_bool.shape)\n",
    "    voxels_alpha = np.zeros(voxels_bool.shape)\n",
    "    #voxels_dens[where_on_x,where_on_y,where_on_z] = (df['dens']-df['dens'].min())/(df['dens'].max()-df['dens'].min())\n",
    "    voxels_alpha[where_on_x,where_on_y,where_on_z] = ((df['dens']-df['dens'].min())/(df['dens'].max()-df['dens'].min())+alpha_min/(alpha_max-alpha_min))*(alpha_max-alpha_min)\n",
    "    voxels_dens[where_on_x,where_on_y,where_on_z] = (df['creation_time']-tt[0])/(tt[3]-tt[0])\n",
    "    #voxels_alpha[where_on_x,where_on_y,where_on_z] = ((df['dens']-min_dens)/max_dens+alpha_min/(alpha_max-alpha_min))*(alpha_max-alpha_min)\n",
    "    colors = plt.cm.plasma(voxels_dens)\n",
    "    colors[:,:,:,3] = voxels_alpha\n",
    "    x2, y2, z2 = np.indices((nx_voxels+1, ny_voxels+1,nz_voxels+1))\n",
    "    X = x2*delta_grid+df['x'].min()-delta_grid/2\n",
    "    Y = y2*delta_grid+df['y'].min()-delta_grid/2\n",
    "    Z = z2*delta_grid+df['z'].min()-delta_grid/2\n",
    "    \n",
    "    return X,Y,Z,voxels_alpha,colors"
   ]
  },
  {
   "cell_type": "code",
   "execution_count": 34,
   "metadata": {
    "scrolled": true
   },
   "outputs": [
    {
     "data": {
      "image/png": "[encoded data removed]",
      "text/plain": [
       "<Figure size 576x576 with 2 Axes>"
      ]
     },
     "metadata": {},
     "output_type": "display_data"
    }
   ],
   "source": [
    "min_dens=2.5\n",
    "max_dens=13.5\n",
    "alpha_min=.1\n",
    "alpha_max=1\n",
    "vvox = [arg2plot_t(op,min_dens=min_dens,max_dens=max_dens,alpha_min=alpha_min,alpha_max=alpha_max) for op in [14]]\n",
    "max_range = np.array([vvox[-1][0].max()-vvox[-1][0].min(), vvox[-1][1].max()-vvox[-1][1].min(), vvox[-1][2].max()-vvox[-1][2].min()]).max()\n",
    "Sb=1.\n",
    "Xb = Sb*(0.5*max_range*np.mgrid[-1:2:2,-1:2:2,-1:2:2][0].flatten()) + 0.5*(vvox[-1][0].max()+vvox[-1][0].min())\n",
    "Yb = Sb*(0.5*max_range*np.mgrid[-1:2:2,-1:2:2,-1:2:2][1].flatten()) + 0.5*(vvox[-1][1].max()+vvox[-1][1].min())\n",
    "Zb = Sb*(0.5*max_range*np.mgrid[-1:2:2,-1:2:2,-1:2:2][2].flatten()) + 0.5*(vvox[-1][2].max()+vvox[-1][2].min())\n",
    "norm = cm.colors.Normalize(tt[0], tt[3])\n",
    "azim_cam, alt_cam = 15,280\n",
    "\n",
    "fig,axs = plt.subplots(1,1,figsize=(8,8),subplot_kw=dict(projection='3d'),constrained_layout=True)\n",
    "#axsf = axs.flat\n",
    "axsf = [axs]\n",
    "for i in range(len(axsf)):\n",
    "    #im = axsf[i].imshow(a_zz[i],extent=a_extentto[i],vmin=a_zlims[0], vmax=a_zlims[1],origin='lower',norm=LogNorm())\n",
    "\n",
    "    vox = axsf[i].voxels(vvox[i][0],vvox[i][1],vvox[i][2],vvox[i][3],facecolors=vvox[i][4])\n",
    "    for xb, yb, zb in zip(Xb, Yb, Zb):\n",
    "        axsf[i].plot([xb], [yb], [zb], 'w')\n",
    "    #axsf[i].set_xlabel(a_xlab,fontsize=fontsize)\n",
    "    #axsf[i].set_ylabel(a_ylab,fontsize=fontsize)\n",
    "    ##cbar = fig.colorbar(im,shrink = shrink)\n",
    "    #axsf[i].set_xlim(a_xlims[0],a_xlims[1])\n",
    "    #axsf[i].set_ylim(a_ylims[0],a_ylims[1])\n",
    "    #axsf[i].tick_params(which='major',direction='in',right=True,top=True,length=8,labelsize=fontsize*.8,color='white')\n",
    "    #axsf[i].minorticks_on()\n",
    "    #axsf[i].tick_params(which='minor',direction='in',right=True,top=True,length=5,color='white')\n",
    "    axsf[i].axis('off')\n",
    "    axsf[i].grid(b=None)\n",
    "    axsf[i].view_init(azim_cam, alt_cam)\n",
    "\n",
    "cmap = plt.get_cmap('plasma', 4)\n",
    "m = cm.ScalarMappable(cmap=cmap,norm=norm)\n",
    "m.set_array([])\n",
    "fig.colorbar(m,shrink=.75)\n",
    "    \n",
    "plt.show()\n",
    "\n",
    "\n",
    "\n",
    "\n"
   ]
  },
  {
   "cell_type": "code",
   "execution_count": null,
   "metadata": {},
   "outputs": [],
   "source": []
  }
 ],
 "metadata": {
  "kernelspec": {
   "display_name": "Python 2",
   "language": "python",
   "name": "python2"
  },
  "language_info": {
   "codemirror_mode": {
    "name": "ipython",
    "version": 2
   },
   "file_extension": ".py",
   "mimetype": "text/x-python",
   "name": "python",
   "nbconvert_exporter": "python",
   "pygments_lexer": "ipython2",
   "version": "2.7.15"
  }
 },
 "nbformat": 4,
 "nbformat_minor": 2
}
